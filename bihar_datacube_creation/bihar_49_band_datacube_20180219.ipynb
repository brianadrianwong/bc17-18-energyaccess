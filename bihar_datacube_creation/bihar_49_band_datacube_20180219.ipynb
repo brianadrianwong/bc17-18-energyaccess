{
 "cells": [
  {
   "cell_type": "markdown",
   "metadata": {},
   "source": [
    "# Baseline Python version of bihar_49_band_datacube_gee.js script\n",
    "\n",
    "This notebook is the first translation of the bihar_49_band_datacube_gee.js Earth Engine script into python. The primary benefit of such is that working in an Python environment allows for usage of pandas, numpy, and other libraries we've been using to date. On the other hand, working within the Earth Engine envirnment provides far more interactive mapping responses."
   ]
  },
  {
   "cell_type": "code",
   "execution_count": 1,
   "metadata": {
    "collapsed": true
   },
   "outputs": [],
   "source": [
    "import ee # the earthengine libary\n",
    "from IPython.display import Image # not essential but just for kernel 3's use to make sure we're good"
   ]
  },
  {
   "cell_type": "code",
   "execution_count": 2,
   "metadata": {
    "collapsed": true
   },
   "outputs": [],
   "source": [
    "ee.Initialize()"
   ]
  },
  {
   "cell_type": "code",
   "execution_count": 3,
   "metadata": {},
   "outputs": [
    {
     "data": {
      "text/html": [
       "<img src=\"https://earthengine.googleapis.com/api/thumb?thumbid=0f52ed8343c27ca5e9a50dc969f9dd71&token=50f7ec16318d7723c7a6f82f835e38cf\"/>"
      ],
      "text/plain": [
       "<IPython.core.display.Image object>"
      ]
     },
     "execution_count": 3,
     "metadata": {},
     "output_type": "execute_result"
    }
   ],
   "source": [
    "# this is just a check to make sure ee.Initialize() worked\n",
    "# Generate a URL that displays a global DEM\n",
    "url = ee.Image(\"USGS/SRTMGL1_003\").getThumbUrl({'min':0, 'max':3000})\n",
    "\n",
    "# Display the image in the notebook.\n",
    "Image(url=url)"
   ]
  },
  {
   "cell_type": "code",
   "execution_count": 7,
   "metadata": {},
   "outputs": [
    {
     "name": "stdout",
     "output_type": "stream",
     "text": [
      "{'type': 'Image', 'bands': [{'id': 'B1', 'data_type': {'type': 'PixelType', 'precision': 'float'}, 'crs': 'EPSG:4326', 'crs_transform': [1.0, 0.0, 0.0, 0.0, 1.0, 0.0]}, {'id': 'B2', 'data_type': {'type': 'PixelType', 'precision': 'float'}, 'crs': 'EPSG:4326', 'crs_transform': [1.0, 0.0, 0.0, 0.0, 1.0, 0.0]}, {'id': 'B3', 'data_type': {'type': 'PixelType', 'precision': 'float'}, 'crs': 'EPSG:4326', 'crs_transform': [1.0, 0.0, 0.0, 0.0, 1.0, 0.0]}, {'id': 'B4', 'data_type': {'type': 'PixelType', 'precision': 'float'}, 'crs': 'EPSG:4326', 'crs_transform': [1.0, 0.0, 0.0, 0.0, 1.0, 0.0]}, {'id': 'B5', 'data_type': {'type': 'PixelType', 'precision': 'float'}, 'crs': 'EPSG:4326', 'crs_transform': [1.0, 0.0, 0.0, 0.0, 1.0, 0.0]}, {'id': 'B6', 'data_type': {'type': 'PixelType', 'precision': 'float'}, 'crs': 'EPSG:4326', 'crs_transform': [1.0, 0.0, 0.0, 0.0, 1.0, 0.0]}, {'id': 'B7', 'data_type': {'type': 'PixelType', 'precision': 'float'}, 'crs': 'EPSG:4326', 'crs_transform': [1.0, 0.0, 0.0, 0.0, 1.0, 0.0]}, {'id': 'B8', 'data_type': {'type': 'PixelType', 'precision': 'float'}, 'crs': 'EPSG:4326', 'crs_transform': [1.0, 0.0, 0.0, 0.0, 1.0, 0.0]}, {'id': 'B9', 'data_type': {'type': 'PixelType', 'precision': 'float'}, 'crs': 'EPSG:4326', 'crs_transform': [1.0, 0.0, 0.0, 0.0, 1.0, 0.0]}, {'id': 'B10', 'data_type': {'type': 'PixelType', 'precision': 'float'}, 'crs': 'EPSG:4326', 'crs_transform': [1.0, 0.0, 0.0, 0.0, 1.0, 0.0]}, {'id': 'B11', 'data_type': {'type': 'PixelType', 'precision': 'float'}, 'crs': 'EPSG:4326', 'crs_transform': [1.0, 0.0, 0.0, 0.0, 1.0, 0.0]}, {'id': '01NDVI', 'data_type': {'type': 'PixelType', 'precision': 'float'}, 'crs': 'EPSG:4326', 'crs_transform': [1.0, 0.0, 0.0, 0.0, 1.0, 0.0]}, {'id': '02NDVI', 'data_type': {'type': 'PixelType', 'precision': 'float'}, 'crs': 'EPSG:4326', 'crs_transform': [1.0, 0.0, 0.0, 0.0, 1.0, 0.0]}, {'id': '03NDVI', 'data_type': {'type': 'PixelType', 'precision': 'float'}, 'crs': 'EPSG:4326', 'crs_transform': [1.0, 0.0, 0.0, 0.0, 1.0, 0.0]}, {'id': '04NDVI', 'data_type': {'type': 'PixelType', 'precision': 'float'}, 'crs': 'EPSG:4326', 'crs_transform': [1.0, 0.0, 0.0, 0.0, 1.0, 0.0]}, {'id': '05NDVI', 'data_type': {'type': 'PixelType', 'precision': 'float'}, 'crs': 'EPSG:4326', 'crs_transform': [1.0, 0.0, 0.0, 0.0, 1.0, 0.0]}, {'id': '06NDVI', 'data_type': {'type': 'PixelType', 'precision': 'float'}, 'crs': 'EPSG:4326', 'crs_transform': [1.0, 0.0, 0.0, 0.0, 1.0, 0.0]}, {'id': '07NDVI', 'data_type': {'type': 'PixelType', 'precision': 'float'}, 'crs': 'EPSG:4326', 'crs_transform': [1.0, 0.0, 0.0, 0.0, 1.0, 0.0]}, {'id': '08NDVI', 'data_type': {'type': 'PixelType', 'precision': 'float'}, 'crs': 'EPSG:4326', 'crs_transform': [1.0, 0.0, 0.0, 0.0, 1.0, 0.0]}, {'id': '09NDVI', 'data_type': {'type': 'PixelType', 'precision': 'float'}, 'crs': 'EPSG:4326', 'crs_transform': [1.0, 0.0, 0.0, 0.0, 1.0, 0.0]}, {'id': '10NDVI', 'data_type': {'type': 'PixelType', 'precision': 'float'}, 'crs': 'EPSG:4326', 'crs_transform': [1.0, 0.0, 0.0, 0.0, 1.0, 0.0]}, {'id': '11NDVI', 'data_type': {'type': 'PixelType', 'precision': 'float'}, 'crs': 'EPSG:4326', 'crs_transform': [1.0, 0.0, 0.0, 0.0, 1.0, 0.0]}, {'id': '01GREEN', 'data_type': {'type': 'PixelType', 'precision': 'float'}, 'crs': 'EPSG:4326', 'crs_transform': [1.0, 0.0, 0.0, 0.0, 1.0, 0.0]}, {'id': '02GREEN', 'data_type': {'type': 'PixelType', 'precision': 'float'}, 'crs': 'EPSG:4326', 'crs_transform': [1.0, 0.0, 0.0, 0.0, 1.0, 0.0]}, {'id': '03GREEN', 'data_type': {'type': 'PixelType', 'precision': 'float'}, 'crs': 'EPSG:4326', 'crs_transform': [1.0, 0.0, 0.0, 0.0, 1.0, 0.0]}, {'id': '04GREEN', 'data_type': {'type': 'PixelType', 'precision': 'float'}, 'crs': 'EPSG:4326', 'crs_transform': [1.0, 0.0, 0.0, 0.0, 1.0, 0.0]}, {'id': '05GREEN', 'data_type': {'type': 'PixelType', 'precision': 'float'}, 'crs': 'EPSG:4326', 'crs_transform': [1.0, 0.0, 0.0, 0.0, 1.0, 0.0]}, {'id': '06GREEN', 'data_type': {'type': 'PixelType', 'precision': 'float'}, 'crs': 'EPSG:4326', 'crs_transform': [1.0, 0.0, 0.0, 0.0, 1.0, 0.0]}, {'id': '07GREEN', 'data_type': {'type': 'PixelType', 'precision': 'float'}, 'crs': 'EPSG:4326', 'crs_transform': [1.0, 0.0, 0.0, 0.0, 1.0, 0.0]}, {'id': '08GREEN', 'data_type': {'type': 'PixelType', 'precision': 'float'}, 'crs': 'EPSG:4326', 'crs_transform': [1.0, 0.0, 0.0, 0.0, 1.0, 0.0]}, {'id': '09GREEN', 'data_type': {'type': 'PixelType', 'precision': 'float'}, 'crs': 'EPSG:4326', 'crs_transform': [1.0, 0.0, 0.0, 0.0, 1.0, 0.0]}, {'id': '10GREEN', 'data_type': {'type': 'PixelType', 'precision': 'float'}, 'crs': 'EPSG:4326', 'crs_transform': [1.0, 0.0, 0.0, 0.0, 1.0, 0.0]}, {'id': '11GREEN', 'data_type': {'type': 'PixelType', 'precision': 'float'}, 'crs': 'EPSG:4326', 'crs_transform': [1.0, 0.0, 0.0, 0.0, 1.0, 0.0]}, {'id': '01RAIN', 'data_type': {'type': 'PixelType', 'precision': 'float'}, 'crs': 'EPSG:4326', 'crs_transform': [1.0, 0.0, 0.0, 0.0, 1.0, 0.0]}, {'id': '02RAIN', 'data_type': {'type': 'PixelType', 'precision': 'float'}, 'crs': 'EPSG:4326', 'crs_transform': [1.0, 0.0, 0.0, 0.0, 1.0, 0.0]}, {'id': '03RAIN', 'data_type': {'type': 'PixelType', 'precision': 'float'}, 'crs': 'EPSG:4326', 'crs_transform': [1.0, 0.0, 0.0, 0.0, 1.0, 0.0]}, {'id': '04RAIN', 'data_type': {'type': 'PixelType', 'precision': 'float'}, 'crs': 'EPSG:4326', 'crs_transform': [1.0, 0.0, 0.0, 0.0, 1.0, 0.0]}, {'id': '05RAIN', 'data_type': {'type': 'PixelType', 'precision': 'float'}, 'crs': 'EPSG:4326', 'crs_transform': [1.0, 0.0, 0.0, 0.0, 1.0, 0.0]}, {'id': '06RAIN', 'data_type': {'type': 'PixelType', 'precision': 'float'}, 'crs': 'EPSG:4326', 'crs_transform': [1.0, 0.0, 0.0, 0.0, 1.0, 0.0]}, {'id': '07RAIN', 'data_type': {'type': 'PixelType', 'precision': 'float'}, 'crs': 'EPSG:4326', 'crs_transform': [1.0, 0.0, 0.0, 0.0, 1.0, 0.0]}, {'id': '08RAIN', 'data_type': {'type': 'PixelType', 'precision': 'float'}, 'crs': 'EPSG:4326', 'crs_transform': [1.0, 0.0, 0.0, 0.0, 1.0, 0.0]}, {'id': '09RAIN', 'data_type': {'type': 'PixelType', 'precision': 'float'}, 'crs': 'EPSG:4326', 'crs_transform': [1.0, 0.0, 0.0, 0.0, 1.0, 0.0]}, {'id': '10RAIN', 'data_type': {'type': 'PixelType', 'precision': 'float'}, 'crs': 'EPSG:4326', 'crs_transform': [1.0, 0.0, 0.0, 0.0, 1.0, 0.0]}, {'id': '11RAIN', 'data_type': {'type': 'PixelType', 'precision': 'float'}, 'crs': 'EPSG:4326', 'crs_transform': [1.0, 0.0, 0.0, 0.0, 1.0, 0.0]}, {'id': 'VIIRS2016', 'data_type': {'type': 'PixelType', 'precision': 'float'}, 'crs': 'EPSG:4326', 'crs_transform': [1.0, 0.0, 0.0, 0.0, 1.0, 0.0]}, {'id': 'irr_ag', 'data_type': {'type': 'PixelType', 'precision': 'int', 'min': 0, 'max': 255}, 'dimensions': [12833, 12048], 'crs': 'EPSG:4326', 'crs_transform': [0.0022170405690000003, 0.0, 68.489878458614, 0.0, -0.002217040569, 34.792234629202]}]}\n"
     ]
    }
   ],
   "source": [
    "# Here's the main script that makes the 49-band datacube of Bihar\n",
    "\n",
    "# Set the region of interest\n",
    "# Asset available at https:#code.earthengine.google.com/?asset=users/bl/Ind_admin_shapefiles/ind_states\n",
    "ind = ee.FeatureCollection('users/bl/Ind_admin_shapefiles/ind_states');\n",
    "br = ind.filter(ee.Filter.eq('st_name','Bihar'));\n",
    "roi = br;\n",
    "irr_band = ee.Image(\"users/bawong/bassConnections/giam_2014_2015_v2\")\n",
    "\n",
    "#=================== First 11 bands to be greenest cloud free landsat imagery ===================\n",
    "# cloud mask code from: https:#developers.google.com/earth-engine/ic_composite_mosaic\n",
    "# This function masks clouds in Landsat 8 imagery.\n",
    "def maskClouds(image):\n",
    "  scored = ee.Algorithms.Landsat.simpleCloudScore(image)\n",
    "  return image.updateMask(scored.select(['cloud']).lt(20))\n",
    "\n",
    "\n",
    "# This function masks clouds and adds quality bands to Landsat 8 images.\n",
    "def addQualityBands (image):\n",
    "  return maskClouds(image).addBands(image.normalizedDifference(['B5', 'B4']))\n",
    "\n",
    "# Load a 2014 Landsat 8 ImageCollection.\n",
    "# Map the cloud masking and quality band function over the collection.\n",
    "collection = ee.ImageCollection('LANDSAT/LC8_L1T_TOA').filterDate('2016-01-01', '2016-12-31').filterBounds(roi).map(addQualityBands);\n",
    "\n",
    "# Create a greenest pixel composite.\n",
    "greenestCloudfreeComposite = collection.qualityMosaic('nd').clip(roi).select(['B1','B2','B3','B4','B5','B6','B7','B8','B9','B10','B11'])\n",
    "\n",
    "\n",
    "#=================== Initialization: ndvi / green index ===================\n",
    "# landsat 8 imagery collection temporally bounded by month, spatially bounded by roi\n",
    "ls8_base = ee.ImageCollection('LANDSAT/LC8_L1T_TOA').filterBounds(roi);\n",
    "ls8 = ls8_base.filterDate('2016-01-01', '2016-01-31');\n",
    "# reduce the collection to a single image by min (to minimize cloud coverage) values of each pixel\n",
    "img_temp = ls8.reduce(ee.Reducer.min()).clip(roi);\n",
    "img = img_temp.select(['B1_min','B2_min','B3_min','B4_min','B5_min','B6_min','B7_min','B8_min','B9_min','B10_min','B11_min'],\n",
    "\t \t\t\t\t\t  ['B1','B2','B3','B4','B5','B6','B7','B8','B9','B10','B11']);\n",
    "# ndvi base, namely its values for jan. Other months' data will be appended later in a loop\n",
    "ndvi_final = img.normalizedDifference(['B5', 'B4']).float().rename('01NDVI');\n",
    "# green index base, namely its values for jan. Other months' data will be appended later in a loop\n",
    "green_final = img.select('B5').divide(img.select('B3')).float().rename('01GREEN');\n",
    "\n",
    "#=================== Initialization: rainfall data ===================\n",
    "# rainfall data collection temporally bounded by month, spatially bounded by roi\n",
    "GPM_raw = ee.ImageCollection('NASA/GPM_L3/IMERG_V04').filterBounds(roi);\n",
    "GPM = GPM_raw.filterDate('2016-01-01', '2016-01-31');\n",
    "# sum them up for the monthly rainfall\n",
    "img_temp = GPM.reduce(ee.Reducer.sum()).clip(roi);\n",
    "img = img_temp.select(['IRprecipitation_sum'],['IRprecipitation_double']);\n",
    "# rainfall data base, namely its values for jan. Other months' data will be appended later in a loop\n",
    "rain_final = img.select('IRprecipitation_double').divide(2).float().rename('01RAIN');\n",
    "\n",
    "# add other months' ndvi, green index, and rainfall data\n",
    "#for (i = 2; i<=12; i ++) {\n",
    "for i in range(2, 12):\n",
    "    # get it for the year of 2016, and construct a string for the start and end day of the particular month\n",
    "    year = 2016\n",
    "    #dayEnd  = new Date(year, i, 0).getDate();\n",
    "    #dayEnd  = Date(year, i, 0).getDate();\n",
    "#     monthString \n",
    "#   if (i<10){ monthString = '0'+i} else {monthString = i}\n",
    "    if i < 10:\n",
    "        monthString = '0'+ str(i)\n",
    "    else:\n",
    "        monthString = str(i)\n",
    "    if any(i == _ for _ in [3,  5, 7, 10, 12]):\n",
    "        dayEnd = '31'\n",
    "    if any(i == _ for _ in [4,  6, 8, 9, 11]):\n",
    "        dayEnd = '30'\n",
    "    if i == 2:\n",
    "        dayEnd = '29'\n",
    "    date_start = str(year)+'-'+str(monthString)+'-01';\n",
    "    date_end = str(year)+'-'+str(monthString)+'-'+str(dayEnd);\n",
    "\n",
    "#=================== Data for the month: ndvi/green index ===================\n",
    "    ls8 = ls8_base.filterDate(date_start, date_end);\n",
    "    img_temp = ls8.reduce(ee.Reducer.min()).clip(roi);\n",
    "    img = img_temp.select(['B1_min','B2_min','B3_min','B4_min','B5_min','B6_min','B7_min','B8_min','B9_min','B10_min','B11_min'],\n",
    "                          ['B1','B2','B3','B4','B5','B6','B7','B8','B9','B10','B11']);\n",
    "    ndvi = img.normalizedDifference(['B5', 'B4']).float().rename(monthString+'NDVI');# print('ndvi',ndvi)\n",
    "    green = img.select('B5').divide(img.select('B3')).float().rename(monthString+'GREEN');\n",
    "    \n",
    "#=================== Data for the month: rainfall data ===================\n",
    "    GPM = GPM_raw.filterDate(date_start, date_end);\n",
    "    img_temp = GPM.reduce(ee.Reducer.sum()).clip(roi);\n",
    "    img = img_temp.select(['IRprecipitation_sum'],['IRprecipitation_double']);\n",
    "    rain = img.select('IRprecipitation_double').divide(2).float().rename(monthString+'RAIN');\n",
    "\n",
    "#=================== Composing (append to each base) ===================\n",
    "    ndvi_final = ndvi_final.addBands(ndvi)\n",
    "    green_final = green_final.addBands(green)\n",
    "    rain_final = rain_final.addBands(rain)\n",
    "    irr_ag = irr_band.clip(roi).rename('irr_ag')\n",
    "\n",
    "\n",
    "#=================== Add annual viirs data (stray light corrected) ===================\n",
    "viirs = ee.ImageCollection('NOAA/VIIRS/DNB/MONTHLY_V1/VCMSLCFG').filterDate('2016-01-01', '2016-12-30').reduce(ee.Reducer.median()).clip(roi).select('avg_rad_median').float().rename('VIIRS2016');\n",
    "     # annual composite # reduce by median\n",
    "\n",
    "# add all bands together. Order-> 1:12=ndvi, 13:24=green index, 25:36=rainfall, 37=viirs\n",
    "all_final = greenestCloudfreeComposite.addBands(ndvi_final).addBands(green_final).addBands(rain_final).addBands(viirs).addBands(irr_ag)\n",
    "print(all_final.getInfo())\n",
    "\n",
    "# If you want to visualize certain bands\n",
    "#Map.addLayer(all_final.select('VIIRS2016'))"
   ]
  }
 ],
 "metadata": {
  "kernelspec": {
   "display_name": "Python 3",
   "language": "python",
   "name": "python3"
  },
  "language_info": {
   "codemirror_mode": {
    "name": "ipython",
    "version": 3
   },
   "file_extension": ".py",
   "mimetype": "text/x-python",
   "name": "python",
   "nbconvert_exporter": "python",
   "pygments_lexer": "ipython3",
   "version": "3.6.1"
  }
 },
 "nbformat": 4,
 "nbformat_minor": 2
}
