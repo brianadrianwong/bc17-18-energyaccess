{
 "cells": [
  {
   "cell_type": "code",
   "execution_count": 1,
   "metadata": {},
   "outputs": [],
   "source": [
    "import numpy as np\n",
    "import pandas as pd\n",
    "import matplotlib.pyplot as plt\n",
    "import math, os\n",
    "from sklearn.preprocessing import MinMaxScaler, StandardScaler\n",
    "from sklearn.model_selection import train_test_split\n",
    "from sklearn import svm\n",
    "from sklearn.metrics import accuracy_score\n",
    "from sklearn.utils import resample"
   ]
  },
  {
   "cell_type": "code",
   "execution_count": 2,
   "metadata": {},
   "outputs": [
    {
     "data": {
      "text/plain": [
       "(33391, 346)"
      ]
     },
     "execution_count": 2,
     "metadata": {},
     "output_type": "execute_result"
    }
   ],
   "source": [
    "df = pd.read_csv('interpolated_full.csv')\n",
    "del df['Unnamed: 0']\n",
    "\n",
    "def setCategoryValue(x): # takes an input of 'threshold' \n",
    "    if x <= 10: \n",
    "        return 0\n",
    "    return 1 \n",
    "\n",
    "df['electric_category'] = df['Percentage Electrified'].apply(lambda x: setCategoryValue(x))\n",
    "df.shape"
   ]
  },
  {
   "cell_type": "code",
   "execution_count": 3,
   "metadata": {},
   "outputs": [
    {
     "name": "stdout",
     "output_type": "stream",
     "text": [
      "(31191, 346) (2200, 346)\n"
     ]
    },
    {
     "data": {
      "text/plain": [
       "1    31191\n",
       "0    31191\n",
       "Name: electric_category, dtype: int64"
      ]
     },
     "execution_count": 3,
     "metadata": {},
     "output_type": "execute_result"
    }
   ],
   "source": [
    "df0 = df[df.electric_category == 0]\n",
    "df1 = df[df.electric_category == 1]\n",
    "\n",
    "print (df1.shape, df0.shape)\n",
    "\n",
    "df0_upsampled = resample(df0, \n",
    "                        replace=True,     # sample with replacement\n",
    "                        n_samples=31191,  # to match majority class\n",
    "                        random_state=123) # reproducible results\n",
    "\n",
    "df = pd.concat([df1, df0_upsampled])\n",
    "df.electric_category.value_counts()"
   ]
  },
  {
   "cell_type": "code",
   "execution_count": 4,
   "metadata": {},
   "outputs": [
    {
     "name": "stdout",
     "output_type": "stream",
     "text": [
      "(49905, 346) (12477, 346)\n"
     ]
    }
   ],
   "source": [
    "df, test_data_df = train_test_split(df, test_size=0.2)\n",
    "print (df.shape, test_data_df.shape)"
   ]
  },
  {
   "cell_type": "code",
   "execution_count": 5,
   "metadata": {},
   "outputs": [
    {
     "data": {
      "text/html": [
       "<div>\n",
       "<style>\n",
       "    .dataframe thead tr:only-child th {\n",
       "        text-align: right;\n",
       "    }\n",
       "\n",
       "    .dataframe thead th {\n",
       "        text-align: left;\n",
       "    }\n",
       "\n",
       "    .dataframe tbody tr th {\n",
       "        vertical-align: top;\n",
       "    }\n",
       "</style>\n",
       "<table border=\"1\" class=\"dataframe\">\n",
       "  <thead>\n",
       "    <tr style=\"text-align: right;\">\n",
       "      <th></th>\n",
       "      <th>Number of Households</th>\n",
       "      <th>min</th>\n",
       "      <th>10th_percentile</th>\n",
       "      <th>median</th>\n",
       "      <th>90th_percentile</th>\n",
       "      <th>max</th>\n",
       "      <th>mean</th>\n",
       "      <th>st_dev</th>\n",
       "      <th>sum</th>\n",
       "      <th>area</th>\n",
       "      <th>...</th>\n",
       "      <th>rain_mar_90th</th>\n",
       "      <th>rain_apr_90th</th>\n",
       "      <th>rain_may_90th</th>\n",
       "      <th>rain_jun_90th</th>\n",
       "      <th>rain_jul_90th</th>\n",
       "      <th>rain_aug_90th</th>\n",
       "      <th>rain_sep_90th</th>\n",
       "      <th>rain_oct_90th</th>\n",
       "      <th>rain_nov_90th</th>\n",
       "      <th>rain_dec_90th</th>\n",
       "    </tr>\n",
       "  </thead>\n",
       "  <tbody>\n",
       "    <tr>\n",
       "      <th>0</th>\n",
       "      <td>0.048404</td>\n",
       "      <td>0.004566</td>\n",
       "      <td>0.004362</td>\n",
       "      <td>0.004108</td>\n",
       "      <td>0.005943</td>\n",
       "      <td>0.006415</td>\n",
       "      <td>0.004592</td>\n",
       "      <td>3.742488e-03</td>\n",
       "      <td>0.021215</td>\n",
       "      <td>0.112871</td>\n",
       "      <td>...</td>\n",
       "      <td>0.257866</td>\n",
       "      <td>0.118137</td>\n",
       "      <td>0.612331</td>\n",
       "      <td>0.274918</td>\n",
       "      <td>0.419732</td>\n",
       "      <td>0.327043</td>\n",
       "      <td>0.273406</td>\n",
       "      <td>0.295655</td>\n",
       "      <td>0.001148</td>\n",
       "      <td>0.211806</td>\n",
       "    </tr>\n",
       "    <tr>\n",
       "      <th>1</th>\n",
       "      <td>0.013311</td>\n",
       "      <td>0.015520</td>\n",
       "      <td>0.012605</td>\n",
       "      <td>0.009064</td>\n",
       "      <td>0.008430</td>\n",
       "      <td>0.008331</td>\n",
       "      <td>0.009664</td>\n",
       "      <td>1.606987e-09</td>\n",
       "      <td>0.001335</td>\n",
       "      <td>0.023762</td>\n",
       "      <td>...</td>\n",
       "      <td>0.221399</td>\n",
       "      <td>0.152799</td>\n",
       "      <td>0.591201</td>\n",
       "      <td>0.331829</td>\n",
       "      <td>0.185875</td>\n",
       "      <td>0.393982</td>\n",
       "      <td>0.300419</td>\n",
       "      <td>0.407770</td>\n",
       "      <td>0.000000</td>\n",
       "      <td>0.037166</td>\n",
       "    </tr>\n",
       "    <tr>\n",
       "      <th>2</th>\n",
       "      <td>0.014521</td>\n",
       "      <td>0.002821</td>\n",
       "      <td>0.003189</td>\n",
       "      <td>0.002658</td>\n",
       "      <td>0.003061</td>\n",
       "      <td>0.003788</td>\n",
       "      <td>0.002927</td>\n",
       "      <td>1.614199e-03</td>\n",
       "      <td>0.014008</td>\n",
       "      <td>0.152475</td>\n",
       "      <td>...</td>\n",
       "      <td>0.297777</td>\n",
       "      <td>0.295558</td>\n",
       "      <td>0.280890</td>\n",
       "      <td>0.273932</td>\n",
       "      <td>0.271198</td>\n",
       "      <td>0.336937</td>\n",
       "      <td>0.579364</td>\n",
       "      <td>0.155380</td>\n",
       "      <td>0.081115</td>\n",
       "      <td>1.000000</td>\n",
       "    </tr>\n",
       "    <tr>\n",
       "      <th>3</th>\n",
       "      <td>0.022689</td>\n",
       "      <td>0.013896</td>\n",
       "      <td>0.011280</td>\n",
       "      <td>0.010090</td>\n",
       "      <td>0.026046</td>\n",
       "      <td>0.044538</td>\n",
       "      <td>0.014842</td>\n",
       "      <td>1.806593e-02</td>\n",
       "      <td>0.022501</td>\n",
       "      <td>0.106931</td>\n",
       "      <td>...</td>\n",
       "      <td>0.552202</td>\n",
       "      <td>0.056031</td>\n",
       "      <td>0.193505</td>\n",
       "      <td>0.322197</td>\n",
       "      <td>0.394177</td>\n",
       "      <td>0.421875</td>\n",
       "      <td>0.431418</td>\n",
       "      <td>0.522783</td>\n",
       "      <td>0.000000</td>\n",
       "      <td>0.357253</td>\n",
       "    </tr>\n",
       "    <tr>\n",
       "      <th>4</th>\n",
       "      <td>0.015731</td>\n",
       "      <td>0.004345</td>\n",
       "      <td>0.003556</td>\n",
       "      <td>0.002850</td>\n",
       "      <td>0.002940</td>\n",
       "      <td>0.003716</td>\n",
       "      <td>0.003042</td>\n",
       "      <td>1.156303e-03</td>\n",
       "      <td>0.008977</td>\n",
       "      <td>0.112871</td>\n",
       "      <td>...</td>\n",
       "      <td>0.165402</td>\n",
       "      <td>0.003987</td>\n",
       "      <td>0.419153</td>\n",
       "      <td>0.115023</td>\n",
       "      <td>0.165628</td>\n",
       "      <td>0.151095</td>\n",
       "      <td>0.377437</td>\n",
       "      <td>0.247876</td>\n",
       "      <td>0.000000</td>\n",
       "      <td>0.000000</td>\n",
       "    </tr>\n",
       "  </tbody>\n",
       "</table>\n",
       "<p>5 rows × 339 columns</p>\n",
       "</div>"
      ],
      "text/plain": [
       "   Number of Households       min  10th_percentile    median  90th_percentile  \\\n",
       "0              0.048404  0.004566         0.004362  0.004108         0.005943   \n",
       "1              0.013311  0.015520         0.012605  0.009064         0.008430   \n",
       "2              0.014521  0.002821         0.003189  0.002658         0.003061   \n",
       "3              0.022689  0.013896         0.011280  0.010090         0.026046   \n",
       "4              0.015731  0.004345         0.003556  0.002850         0.002940   \n",
       "\n",
       "        max      mean        st_dev       sum      area      ...        \\\n",
       "0  0.006415  0.004592  3.742488e-03  0.021215  0.112871      ...         \n",
       "1  0.008331  0.009664  1.606987e-09  0.001335  0.023762      ...         \n",
       "2  0.003788  0.002927  1.614199e-03  0.014008  0.152475      ...         \n",
       "3  0.044538  0.014842  1.806593e-02  0.022501  0.106931      ...         \n",
       "4  0.003716  0.003042  1.156303e-03  0.008977  0.112871      ...         \n",
       "\n",
       "   rain_mar_90th  rain_apr_90th  rain_may_90th  rain_jun_90th  rain_jul_90th  \\\n",
       "0       0.257866       0.118137       0.612331       0.274918       0.419732   \n",
       "1       0.221399       0.152799       0.591201       0.331829       0.185875   \n",
       "2       0.297777       0.295558       0.280890       0.273932       0.271198   \n",
       "3       0.552202       0.056031       0.193505       0.322197       0.394177   \n",
       "4       0.165402       0.003987       0.419153       0.115023       0.165628   \n",
       "\n",
       "   rain_aug_90th  rain_sep_90th  rain_oct_90th  rain_nov_90th  rain_dec_90th  \n",
       "0       0.327043       0.273406       0.295655       0.001148       0.211806  \n",
       "1       0.393982       0.300419       0.407770       0.000000       0.037166  \n",
       "2       0.336937       0.579364       0.155380       0.081115       1.000000  \n",
       "3       0.421875       0.431418       0.522783       0.000000       0.357253  \n",
       "4       0.151095       0.377437       0.247876       0.000000       0.000000  \n",
       "\n",
       "[5 rows x 339 columns]"
      ]
     },
     "execution_count": 5,
     "metadata": {},
     "output_type": "execute_result"
    }
   ],
   "source": [
    "scaler = MinMaxScaler(feature_range=(0, 1))\n",
    "#scaler = StandardScaler()\n",
    "X_training = df.drop(['Census 2011 ID', 'Percentage Electrified', 'Number of Electrified Households', \n",
    "                      'Village Name','District Name','State Name', 'electric_category'], axis = 1)\n",
    "X_training_scaled = pd.DataFrame(scaler.fit_transform(X_training), columns = X_training.columns)\n",
    "\n",
    "X_testing = test_data_df.drop(['Census 2011 ID', 'Percentage Electrified', 'Number of Electrified Households', \n",
    "                      'Village Name','District Name','State Name', 'electric_category'], axis = 1)\n",
    "\n",
    "Y_training = df[['electric_category']].values\n",
    "Y_testing = test_data_df[['electric_category']].values\n",
    "\n",
    "X_training_scaled.head(5)"
   ]
  },
  {
   "cell_type": "code",
   "execution_count": null,
   "metadata": {},
   "outputs": [],
   "source": [
    "clf = svm.SVC()\n",
    "clf.fit(X_training_scaled.values, Y_training.ravel()) "
   ]
  },
  {
   "cell_type": "code",
   "execution_count": null,
   "metadata": {},
   "outputs": [],
   "source": [
    "test_data_df['predictions'] = clf.predict(X_testing)\n",
    "test_data_df.shape"
   ]
  },
  {
   "cell_type": "code",
   "execution_count": null,
   "metadata": {},
   "outputs": [],
   "source": [
    "test_data_df.head(10)"
   ]
  },
  {
   "cell_type": "code",
   "execution_count": null,
   "metadata": {},
   "outputs": [],
   "source": [
    "accuracy_score(Y_testing, test_data_df['predictions'])"
   ]
  },
  {
   "cell_type": "code",
   "execution_count": null,
   "metadata": {},
   "outputs": [],
   "source": [
    "# .934 with minmax scaler "
   ]
  }
 ],
 "metadata": {
  "kernelspec": {
   "display_name": "Python 3",
   "language": "python",
   "name": "python3"
  },
  "language_info": {
   "codemirror_mode": {
    "name": "ipython",
    "version": 3
   },
   "file_extension": ".py",
   "mimetype": "text/x-python",
   "name": "python",
   "nbconvert_exporter": "python",
   "pygments_lexer": "ipython3",
   "version": "3.6.4"
  }
 },
 "nbformat": 4,
 "nbformat_minor": 2
}
