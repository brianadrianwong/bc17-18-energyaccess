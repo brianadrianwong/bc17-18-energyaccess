{
 "cells": [
  {
   "cell_type": "markdown",
   "metadata": {},
   "source": [
    "## Gradient Tree Boosting Classifier\n",
    "\n",
    "This file uses gradient tree boosting to classify villages in Bihar, India into 2 groups:\n",
    "1. unelectrified (<10% households are electrified)\n",
    "2. electrified (>= 10% households are electrified)  \n",
    "\n",
    "In addition, scholars in literature review have suggested that small villages emit such weak lights-at-night that satellites may have difficulty accurately picking it up. Thus we filter out too-small villages.  \n",
    "Here our inputs are 3 dataframes of villages:  \n",
    "1. all villages in dataset\n",
    "2. villages with at least 100 households\n",
    "3. villages with at least 400 households\n",
    "\n",
    "Each dataframe contains:  \n",
    "1. village identifiers, such as name and ID\n",
    "2. features extracted from lights at night image (different code file!)\n",
    " \n",
    "In this code, we run gradient tree boosting on all three dataframes, and evaluate classification results on ROC curves.  \n",
    "Thanks for reading!"
   ]
  },
  {
   "cell_type": "code",
   "execution_count": 1,
   "metadata": {
    "collapsed": true
   },
   "outputs": [],
   "source": [
    "import numpy as np\n",
    "import pandas as pd\n",
    "import matplotlib.pyplot as plt\n",
    "import math, os, gc\n",
    "from pandas.plotting import scatter_matrix\n",
    "from scipy.interpolate import interp1d\n",
    "from sklearn.linear_model import LinearRegression\n",
    "from sklearn.neighbors import KNeighborsRegressor, KNeighborsClassifier\n",
    "from sklearn.neural_network import MLPClassifier\n",
    "from sklearn.ensemble import GradientBoostingClassifier, GradientBoostingRegressor, RandomForestClassifier\n",
    "from sklearn.preprocessing import StandardScaler, label_binarize, LabelEncoder\n",
    "from sklearn.metrics import confusion_matrix, roc_auc_score, roc_curve, auc\n",
    "from sklearn.metrics import precision_recall_curve\n",
    "from sklearn.decomposition import PCA\n",
    "from sklearn.cluster import KMeans \n",
    "from sklearn.model_selection import train_test_split\n",
    "from seaborn import heatmap, distplot\n",
    "#from xgboost import XGBClassifier\n",
    "#import xgboost as xgb"
   ]
  },
  {
   "cell_type": "code",
   "execution_count": 2,
   "metadata": {
    "collapsed": true
   },
   "outputs": [],
   "source": [
    "'''\n",
    "Load data from .csv file  \n",
    "dfall = all households included\n",
    "df100 = threshold: 100 households (subset of dfall)\n",
    "df400 = threshold: 400 households (subset of dfall)\n",
    "'''\n",
    "def read_csv_file(file_path):\n",
    "     return pd.read_csv('interpolated_full.csv')\n"
   ]
  },
  {
   "cell_type": "code",
   "execution_count": 3,
   "metadata": {
    "collapsed": true
   },
   "outputs": [],
   "source": [
    "'''\n",
    "Filter villages by number of households into 3 dataframes\n",
    "'''\n",
    "def get_filtered_thresholds(dfall):\n",
    "    dfall = dfall.rename(columns={'Number of Households': 'Number_of_Households'})\n",
    "    df100 = dfall.query('Number_of_Households > 100')\n",
    "    df400 = dfall.query('Number_of_Households > 400')\n",
    "    return dfall, df100, df400"
   ]
  },
  {
   "cell_type": "code",
   "execution_count": 4,
   "metadata": {
    "collapsed": true
   },
   "outputs": [],
   "source": [
    "'''\n",
    "Assigns an electrification category to each village based on its percentage\n",
    "Keeping this binary and with threshold 10% for now. \n",
    "'''\n",
    "def get_labels(dfall, df100, df400):\n",
    "    labels_all = (dfall['Percentage Electrified'] >= 10).tolist()\n",
    "    labels_100 = (df100['Percentage Electrified'] >= 10).tolist()\n",
    "    labels_400 = (df400['Percentage Electrified'] >= 10).tolist()\n",
    "    return labels_all, labels_100, labels_400"
   ]
  },
  {
   "cell_type": "code",
   "execution_count": 5,
   "metadata": {
    "collapsed": true
   },
   "outputs": [],
   "source": [
    "'''\n",
    "Delete non-predictive columns\n",
    "'''\n",
    "info_columns = ['Percentage Electrified', 'Number of Electrified Households', 'Unnamed: 0', 'Census 2011 ID', 'Number_of_Households']\n",
    "def delete_info(df):\n",
    "    for col_name in info_columns:\n",
    "        del df[col_name]\n",
    "def delete_objects(df):\n",
    "    for i in df.columns:\n",
    "            if df[i].dtype == \"object\":\n",
    "                del df[i]\n",
    "def remove_info_cols(df_bank):\n",
    "    for df in df_bank:\n",
    "        delete_info(df)\n",
    "        delete_objects(df)\n"
   ]
  },
  {
   "cell_type": "code",
   "execution_count": 6,
   "metadata": {
    "collapsed": true
   },
   "outputs": [],
   "source": [
    "'''\n",
    "PCA transformation with 104 components\n",
    "'''\n",
    "def pca_transform(data, labels):\n",
    "    n_components = 104\n",
    "    pca = PCA(n_components=n_components)\n",
    "    return pd.DataFrame(pca.fit_transform(data, labels))\n"
   ]
  },
  {
   "cell_type": "code",
   "execution_count": 7,
   "metadata": {},
   "outputs": [
    {
     "data": {
      "text/plain": [
       "'\\nSeparate all 3 dataframes into training and testing\\nNOTE: dataframes are randomly sampled for simplicity, so there exists\\n    overlap between training and testing datasets\\n'"
      ]
     },
     "execution_count": 7,
     "metadata": {},
     "output_type": "execute_result"
    }
   ],
   "source": [
    "'''\n",
    "Separate all 3 dataframes into training and testing\n",
    "NOTE: dataframes are randomly sampled for simplicity, so there exists\n",
    "    overlap between training and testing datasets\n",
    "'''\n",
    "# def separate_train_test_data(data, split):\n",
    "#     RANDOM_SEED = 111\n",
    "#     training = data.sample(frac=split, replace=False, random_state=RANDOM_SEED)\n",
    "#     testing = data.sample(frac=1.0-split, replace=False, random_state=RANDOM_SEED)\n",
    "#     return training, testing\n",
    "\n",
    "# training_all, testing_all = separate_train_test_data(pca_dfall, 0.2)\n",
    "# training_100, testing_100 = separate_train_test_data(pca_df100, 0.2)\n",
    "# training_400, testing_400 = separate_train_test_data(pca_df400, 0.2)"
   ]
  },
  {
   "cell_type": "code",
   "execution_count": 8,
   "metadata": {
    "collapsed": true
   },
   "outputs": [],
   "source": [
    "def gradient_boosting_classifier(x, y):\n",
    "    random_state = 111\n",
    "    x_train, x_test, y_train, y_test = train_test_split(x, y, test_size=.2, random_state=random_state)\n",
    "    #x_train = Bootstrapped_training(x_train)\n",
    "    \n",
    "    gdb = GradientBoostingClassifier(n_estimators=100, max_depth=5, learning_rate=0.1)\n",
    "    gdb.fit(x_train, y_train)\n",
    "    predictions = gdb.predict(x_test)\n",
    "    probailities = gdb.predict_proba(x_test)[::,1]\n",
    "    return(predictions, probailities, y_test)"
   ]
  },
  {
   "cell_type": "code",
   "execution_count": 9,
   "metadata": {
    "collapsed": true
   },
   "outputs": [],
   "source": [
    "def plot_roc_curve(df, labels, filters):\n",
    "    pred, prob, test = gradient_boosting_classifier(df, labels)\n",
    "    fpr, tpr, thresholds = roc_curve(test, prob)\n",
    "    plt.plot(fpr, tpr, label=str(filters)+\"/AUC =\"+str(roc_auc_score(test, prob).round(3)))"
   ]
  },
  {
   "cell_type": "code",
   "execution_count": 10,
   "metadata": {
    "collapsed": true
   },
   "outputs": [],
   "source": [
    "dfall = pd.read_csv('interpolated_full.csv')\n",
    "dfall, df100, df400 = get_filtered_thresholds(dfall)\n",
    "labels_all, labels_100, labels_400 = get_labels(dfall, df100, df400)\n"
   ]
  },
  {
   "cell_type": "code",
   "execution_count": 11,
   "metadata": {},
   "outputs": [
    {
     "data": {
      "text/html": [
       "<div>\n",
       "<style>\n",
       "    .dataframe thead tr:only-child th {\n",
       "        text-align: right;\n",
       "    }\n",
       "\n",
       "    .dataframe thead th {\n",
       "        text-align: left;\n",
       "    }\n",
       "\n",
       "    .dataframe tbody tr th {\n",
       "        vertical-align: top;\n",
       "    }\n",
       "</style>\n",
       "<table border=\"1\" class=\"dataframe\">\n",
       "  <thead>\n",
       "    <tr style=\"text-align: right;\">\n",
       "      <th></th>\n",
       "      <th>min</th>\n",
       "      <th>10th_percentile</th>\n",
       "      <th>median</th>\n",
       "      <th>90th_percentile</th>\n",
       "      <th>max</th>\n",
       "      <th>mean</th>\n",
       "      <th>st_dev</th>\n",
       "      <th>sum</th>\n",
       "      <th>area</th>\n",
       "      <th>b1_max</th>\n",
       "      <th>...</th>\n",
       "      <th>rain_mar_90th</th>\n",
       "      <th>rain_apr_90th</th>\n",
       "      <th>rain_may_90th</th>\n",
       "      <th>rain_jun_90th</th>\n",
       "      <th>rain_jul_90th</th>\n",
       "      <th>rain_aug_90th</th>\n",
       "      <th>rain_sep_90th</th>\n",
       "      <th>rain_oct_90th</th>\n",
       "      <th>rain_nov_90th</th>\n",
       "      <th>rain_dec_90th</th>\n",
       "    </tr>\n",
       "  </thead>\n",
       "  <tbody>\n",
       "    <tr>\n",
       "      <th>0</th>\n",
       "      <td>0.203942</td>\n",
       "      <td>0.265501</td>\n",
       "      <td>0.324645</td>\n",
       "      <td>0.464612</td>\n",
       "      <td>0.523828</td>\n",
       "      <td>0.338563</td>\n",
       "      <td>0.073178</td>\n",
       "      <td>932.739807</td>\n",
       "      <td>103.0</td>\n",
       "      <td>0.167615</td>\n",
       "      <td>...</td>\n",
       "      <td>3.106600</td>\n",
       "      <td>6.594600</td>\n",
       "      <td>161.125992</td>\n",
       "      <td>404.962189</td>\n",
       "      <td>313.394196</td>\n",
       "      <td>150.465591</td>\n",
       "      <td>185.114197</td>\n",
       "      <td>236.949799</td>\n",
       "      <td>0.0</td>\n",
       "      <td>0.0</td>\n",
       "    </tr>\n",
       "    <tr>\n",
       "      <th>1</th>\n",
       "      <td>0.086101</td>\n",
       "      <td>0.172867</td>\n",
       "      <td>0.260938</td>\n",
       "      <td>1.104471</td>\n",
       "      <td>3.988446</td>\n",
       "      <td>0.475896</td>\n",
       "      <td>0.513268</td>\n",
       "      <td>20207.966797</td>\n",
       "      <td>273.0</td>\n",
       "      <td>0.232785</td>\n",
       "      <td>...</td>\n",
       "      <td>8.051999</td>\n",
       "      <td>2.347200</td>\n",
       "      <td>156.473602</td>\n",
       "      <td>435.340790</td>\n",
       "      <td>363.004578</td>\n",
       "      <td>140.212402</td>\n",
       "      <td>170.389389</td>\n",
       "      <td>259.703400</td>\n",
       "      <td>0.0</td>\n",
       "      <td>0.0</td>\n",
       "    </tr>\n",
       "    <tr>\n",
       "      <th>2</th>\n",
       "      <td>0.370665</td>\n",
       "      <td>0.425144</td>\n",
       "      <td>0.872517</td>\n",
       "      <td>1.678522</td>\n",
       "      <td>1.801801</td>\n",
       "      <td>1.010971</td>\n",
       "      <td>0.448270</td>\n",
       "      <td>2275.696777</td>\n",
       "      <td>56.0</td>\n",
       "      <td>0.191932</td>\n",
       "      <td>...</td>\n",
       "      <td>3.106600</td>\n",
       "      <td>6.594600</td>\n",
       "      <td>161.125992</td>\n",
       "      <td>404.962189</td>\n",
       "      <td>313.394196</td>\n",
       "      <td>150.465591</td>\n",
       "      <td>185.114197</td>\n",
       "      <td>236.949799</td>\n",
       "      <td>0.0</td>\n",
       "      <td>0.0</td>\n",
       "    </tr>\n",
       "    <tr>\n",
       "      <th>3</th>\n",
       "      <td>0.225840</td>\n",
       "      <td>0.274397</td>\n",
       "      <td>0.424527</td>\n",
       "      <td>0.990788</td>\n",
       "      <td>2.246413</td>\n",
       "      <td>0.561262</td>\n",
       "      <td>0.341781</td>\n",
       "      <td>2285.459961</td>\n",
       "      <td>79.0</td>\n",
       "      <td>0.158804</td>\n",
       "      <td>...</td>\n",
       "      <td>3.106600</td>\n",
       "      <td>11.802399</td>\n",
       "      <td>161.125992</td>\n",
       "      <td>450.330780</td>\n",
       "      <td>313.394196</td>\n",
       "      <td>150.465591</td>\n",
       "      <td>185.114197</td>\n",
       "      <td>236.949799</td>\n",
       "      <td>0.0</td>\n",
       "      <td>0.0</td>\n",
       "    </tr>\n",
       "    <tr>\n",
       "      <th>4</th>\n",
       "      <td>0.211082</td>\n",
       "      <td>0.281324</td>\n",
       "      <td>0.339738</td>\n",
       "      <td>0.590184</td>\n",
       "      <td>1.232227</td>\n",
       "      <td>0.400676</td>\n",
       "      <td>0.182586</td>\n",
       "      <td>1602.304077</td>\n",
       "      <td>91.0</td>\n",
       "      <td>0.151080</td>\n",
       "      <td>...</td>\n",
       "      <td>2.152800</td>\n",
       "      <td>11.802399</td>\n",
       "      <td>111.039795</td>\n",
       "      <td>450.330780</td>\n",
       "      <td>294.492981</td>\n",
       "      <td>128.941193</td>\n",
       "      <td>134.973999</td>\n",
       "      <td>199.388794</td>\n",
       "      <td>0.0</td>\n",
       "      <td>0.0</td>\n",
       "    </tr>\n",
       "  </tbody>\n",
       "</table>\n",
       "<p>5 rows × 338 columns</p>\n",
       "</div>"
      ],
      "text/plain": [
       "        min  10th_percentile    median  90th_percentile       max      mean  \\\n",
       "0  0.203942         0.265501  0.324645         0.464612  0.523828  0.338563   \n",
       "1  0.086101         0.172867  0.260938         1.104471  3.988446  0.475896   \n",
       "2  0.370665         0.425144  0.872517         1.678522  1.801801  1.010971   \n",
       "3  0.225840         0.274397  0.424527         0.990788  2.246413  0.561262   \n",
       "4  0.211082         0.281324  0.339738         0.590184  1.232227  0.400676   \n",
       "\n",
       "     st_dev           sum   area    b1_max      ...        rain_mar_90th  \\\n",
       "0  0.073178    932.739807  103.0  0.167615      ...             3.106600   \n",
       "1  0.513268  20207.966797  273.0  0.232785      ...             8.051999   \n",
       "2  0.448270   2275.696777   56.0  0.191932      ...             3.106600   \n",
       "3  0.341781   2285.459961   79.0  0.158804      ...             3.106600   \n",
       "4  0.182586   1602.304077   91.0  0.151080      ...             2.152800   \n",
       "\n",
       "   rain_apr_90th  rain_may_90th  rain_jun_90th  rain_jul_90th  rain_aug_90th  \\\n",
       "0       6.594600     161.125992     404.962189     313.394196     150.465591   \n",
       "1       2.347200     156.473602     435.340790     363.004578     140.212402   \n",
       "2       6.594600     161.125992     404.962189     313.394196     150.465591   \n",
       "3      11.802399     161.125992     450.330780     313.394196     150.465591   \n",
       "4      11.802399     111.039795     450.330780     294.492981     128.941193   \n",
       "\n",
       "   rain_sep_90th  rain_oct_90th  rain_nov_90th  rain_dec_90th  \n",
       "0     185.114197     236.949799            0.0            0.0  \n",
       "1     170.389389     259.703400            0.0            0.0  \n",
       "2     185.114197     236.949799            0.0            0.0  \n",
       "3     185.114197     236.949799            0.0            0.0  \n",
       "4     134.973999     199.388794            0.0            0.0  \n",
       "\n",
       "[5 rows x 338 columns]"
      ]
     },
     "execution_count": 11,
     "metadata": {},
     "output_type": "execute_result"
    }
   ],
   "source": [
    "df_bank = [dfall, df100, df400]\n",
    "label_bank = [labels_all, labels_100, labels_400]\n",
    "remove_info_cols(df_bank)\n",
    "\n",
    "dfall.head()"
   ]
  },
  {
   "cell_type": "code",
   "execution_count": 12,
   "metadata": {},
   "outputs": [
    {
     "data": {
      "image/png": "[encoded data removed]",
      "text/plain": [
       "<matplotlib.figure.Figure at 0x1a16704f98>"
      ]
     },
     "metadata": {},
     "output_type": "display_data"
    }
   ],
   "source": [
    "plt.figure(figsize=(15,10))\n",
    "plot_roc_curve(dfall, labels_all, \"All households\")\n",
    "plot_roc_curve(df100, labels_100, \"100+ households\")\n",
    "plot_roc_curve(df400, labels_400, \"400+ households\")\n",
    "# plot_roc_curve(pca_dfall, labels_all, \"PCA All households\")\n",
    "# plot_roc_curve(pca_df100, labels_100, \"PCA 100+ households\")\n",
    "# plot_roc_curve(pca_df400, labels_400, \"PCA 400+ households\")\n",
    "plt.plot([0, 1], [0, 1], color='navy', lw=2, linestyle='--', label=\"Pure Chance\")\n",
    "plt.legend(loc=4, fontsize=18)\n",
    "plt.xlabel('False Alarm Rate', fontsize=18)\n",
    "plt.ylabel('Correct Detection Rate', fontsize=18)\n",
    "plt.title('Gradient Boosting Classification ROC Curve', fontsize=26)\n",
    "plt.show()"
   ]
  },
  {
   "cell_type": "code",
   "execution_count": null,
   "metadata": {
    "collapsed": true
   },
   "outputs": [],
   "source": []
  },
  {
   "cell_type": "code",
   "execution_count": null,
   "metadata": {
    "collapsed": true
   },
   "outputs": [],
   "source": []
  }
 ],
 "metadata": {
  "kernelspec": {
   "display_name": "Python 3",
   "language": "python",
   "name": "python3"
  },
  "language_info": {
   "codemirror_mode": {
    "name": "ipython",
    "version": 3
   },
   "file_extension": ".py",
   "mimetype": "text/x-python",
   "name": "python",
   "nbconvert_exporter": "python",
   "pygments_lexer": "ipython3",
   "version": "3.6.4"
  }
 },
 "nbformat": 4,
 "nbformat_minor": 2
}
