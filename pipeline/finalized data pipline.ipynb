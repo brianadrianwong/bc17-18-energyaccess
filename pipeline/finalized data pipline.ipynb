{
 "cells": [
  {
   "cell_type": "code",
   "execution_count": 2,
   "metadata": {},
   "outputs": [],
   "source": [
    "from bce import * \n",
    "import pandas as pd\n",
    "import numpy as np\n",
    "import gc\n",
    "from sklearn.preprocessing import StandardScaler"
   ]
  },
  {
   "cell_type": "code",
   "execution_count": 22,
   "metadata": {},
   "outputs": [
    {
     "name": "stdout",
     "output_type": "stream",
     "text": [
      "Begin data cleaning.\n",
      "Read in data from ./bihar_features_gee.csv sucessfully.\n",
      "All dataframes and labels generated.\n",
      "Column Percentage Electrified does not exist\n",
      "Column Number of Electrified Households does not exist\n",
      "Column Unnamed: 0 does not exist\n",
      "Column Census 2011 ID does not exist\n",
      "Column Number_of_Households does not exist\n",
      "Column Percentage Electrified does not exist\n",
      "Column Number of Electrified Households does not exist\n",
      "Column Unnamed: 0 does not exist\n",
      "Column Census 2011 ID does not exist\n",
      "Column Number_of_Households does not exist\n",
      "Column Percentage Electrified does not exist\n",
      "Column Number of Electrified Households does not exist\n",
      "Column Unnamed: 0 does not exist\n",
      "Column Census 2011 ID does not exist\n",
      "Column Number_of_Households does not exist\n",
      "Deleting useless and predictive informative columns\n",
      "Data cleaning successful.\n",
      "NaN left: []\n",
      "NaN left: []\n",
      "NaN left: []\n"
     ]
    }
   ],
   "source": [
    "df_train = data_clean('./bihar_features_gee.csv')\n",
    "df_test = pd.read_csv('./up_features_5km_04102018.csv')\n",
    "x_train, y_train = df_train['df'][0], df_train['label'][0]"
   ]
  },
  {
   "cell_type": "code",
   "execution_count": 23,
   "metadata": {},
   "outputs": [],
   "source": [
    "col_dict_1 = {}\n",
    "for i in x_train.columns:\n",
    "    col_dict_1[i] = i.upper()\n",
    "x_train = x_train.rename(index=str, columns=col_dict_1)"
   ]
  },
  {
   "cell_type": "code",
   "execution_count": 24,
   "metadata": {},
   "outputs": [],
   "source": [
    "col_dict_2 = {}\n",
    "for i in df_test.columns:\n",
    "    col_dict_2[i] = i.upper()\n",
    "df_test = df_test.rename(index=str, columns=col_dict_2)"
   ]
  },
  {
   "cell_type": "code",
   "execution_count": 25,
   "metadata": {},
   "outputs": [],
   "source": [
    "scaler = StandardScaler()\n",
    "features = [i for i in df_test.columns if i != 'label' and i in x_train.columns]"
   ]
  },
  {
   "cell_type": "code",
   "execution_count": 26,
   "metadata": {},
   "outputs": [
    {
     "data": {
      "text/plain": [
       "274"
      ]
     },
     "execution_count": 26,
     "metadata": {},
     "output_type": "execute_result"
    }
   ],
   "source": [
    "len(features)"
   ]
  },
  {
   "cell_type": "code",
   "execution_count": 27,
   "metadata": {},
   "outputs": [],
   "source": [
    "x_train = scaler.fit_transform(x_train[features])\n",
    "x_test = scaler.fit_transform(df_test[features].fillna(-1))"
   ]
  },
  {
   "cell_type": "code",
   "execution_count": 28,
   "metadata": {},
   "outputs": [
    {
     "data": {
      "text/plain": [
       "GradientBoostingClassifier(criterion='friedman_mse', init=None,\n",
       "              learning_rate=0.11, loss='deviance', max_depth=6,\n",
       "              max_features=None, max_leaf_nodes=None,\n",
       "              min_impurity_decrease=0.0, min_impurity_split=None,\n",
       "              min_samples_leaf=1, min_samples_split=1780,\n",
       "              min_weight_fraction_leaf=0.0, n_estimators=7, presort='auto',\n",
       "              random_state=20180320, subsample=0.8, verbose=0,\n",
       "              warm_start=False)"
      ]
     },
     "execution_count": 28,
     "metadata": {},
     "output_type": "execute_result"
    }
   ],
   "source": [
    "gdb = GradientBoostingClassifier(n_estimators=7, \n",
    "                                 max_depth=6,\n",
    "                                 min_samples_split=1780, \n",
    "                                 min_samples_leaf=1,\n",
    "                                 random_state=20180320,\n",
    "                                 subsample=0.8, \n",
    "                                 learning_rate=0.11)\n",
    "        \n",
    "weighting = lambda x:1 if x else 20\n",
    "gdb.fit(x_train, y_train, sample_weight=[weighting(i) for i in y_train])"
   ]
  },
  {
   "cell_type": "code",
   "execution_count": 29,
   "metadata": {},
   "outputs": [],
   "source": [
    "predictions = gdb.predict(x_test)\n",
    "df_test = df_test.assign(prediction=predictions)"
   ]
  },
  {
   "cell_type": "code",
   "execution_count": 36,
   "metadata": {},
   "outputs": [],
   "source": [
    "df_test[['SYSTEM:INDEX', 'SYSTEM_IND', 'prediction']].to_csv('./prediction.csv')"
   ]
  },
  {
   "cell_type": "code",
   "execution_count": 35,
   "metadata": {},
   "outputs": [
    {
     "name": "stdout",
     "output_type": "stream",
     "text": [
      "SYSTEM:INDEX\n",
      "SYSTEM_IND\n"
     ]
    }
   ],
   "source": [
    "for i in df_test.columns:\n",
    "    if any(j in i for j in ['ID', 'INDEX', \"SYSTEM\"]):\n",
    "        print(i)"
   ]
  },
  {
   "cell_type": "code",
   "execution_count": null,
   "metadata": {},
   "outputs": [],
   "source": []
  }
 ],
 "metadata": {
  "kernelspec": {
   "display_name": "Python 3",
   "language": "python",
   "name": "python3"
  },
  "language_info": {
   "codemirror_mode": {
    "name": "ipython",
    "version": 3
   },
   "file_extension": ".py",
   "mimetype": "text/x-python",
   "name": "python",
   "nbconvert_exporter": "python",
   "pygments_lexer": "ipython3",
   "version": "3.4.3"
  }
 },
 "nbformat": 4,
 "nbformat_minor": 2
}
