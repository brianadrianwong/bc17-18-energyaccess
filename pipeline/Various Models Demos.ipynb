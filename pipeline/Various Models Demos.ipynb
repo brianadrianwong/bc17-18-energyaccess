{
 "cells": [
  {
   "cell_type": "code",
   "execution_count": 1,
   "metadata": {
    "collapsed": true
   },
   "outputs": [],
   "source": [
    "import numpy as np\n",
    "import pandas as pd\n",
    "import matplotlib.pyplot as plt\n",
    "import math, os\n",
    "from sklearn.preprocessing import MinMaxScaler, StandardScaler\n",
    "from sklearn.model_selection import train_test_split\n",
    "from sklearn.metrics import accuracy_score\n",
    "from sklearn.utils import resample\n",
    "from sklearn.decomposition import PCA\n",
    "from sklearn.model_selection import cross_val_predict\n",
    "from sklearn.metrics import confusion_matrix\n",
    "# from xgboost import XGBRegressor\n",
    "\n",
    "# data visualization\n",
    "import seaborn as sns\n",
    "%matplotlib inline\n",
    "from matplotlib import pyplot as plt\n",
    "from matplotlib import style\n",
    "from seaborn import heatmap\n",
    "\n",
    "# Algorithms\n",
    "from sklearn import linear_model\n",
    "from sklearn.linear_model import LogisticRegression\n",
    "from sklearn.ensemble import RandomForestClassifier\n",
    "from sklearn.linear_model import Perceptron\n",
    "from sklearn.linear_model import SGDClassifier\n",
    "from sklearn.tree import DecisionTreeClassifier\n",
    "from sklearn.neighbors import KNeighborsClassifier\n",
    "from sklearn.svm import SVC, LinearSVC\n",
    "from sklearn.naive_bayes import GaussianNB\n",
    "from sklearn.model_selection import cross_val_score"
   ]
  },
  {
   "cell_type": "code",
   "execution_count": 2,
   "metadata": {
    "collapsed": true
   },
   "outputs": [],
   "source": [
    "# #Only need this to set new categories \n",
    "df = pd.read_csv('interpolated_full.csv')\n",
    "\n",
    "def setCategoryValue(x, thresh): # takes an input of 'threshold' \n",
    "    if x <= thresh: \n",
    "        return 0\n",
    "    return 1 \n",
    "\n",
    "df['electric_category'] = df['Percentage Electrified'].apply(lambda x: setCategoryValue(x, 10))\n",
    "df.to_csv('labeled_data.csv')"
   ]
  },
  {
   "cell_type": "code",
   "execution_count": 3,
   "metadata": {},
   "outputs": [],
   "source": [
    "df = pd.read_csv('labeled_data.csv')\n",
    "for col_name in df.columns:\n",
    "        if str(col_name[:7]) == 'Unnamed':\n",
    "            del df[col_name]\n",
    "df.head()\n",
    "df = df[df['Number of Households'] > 400]"
   ]
  },
  {
   "cell_type": "code",
   "execution_count": 4,
   "metadata": {},
   "outputs": [
    {
     "name": "stdout",
     "output_type": "stream",
     "text": [
      "(8125, 346)\n",
      "<class 'pandas.core.frame.DataFrame'>\n",
      "Int64Index: 8125 entries, 0 to 33390\n",
      "Columns: 346 entries, Census 2011 ID to electric_category\n",
      "dtypes: float64(341), int64(2), object(3)\n",
      "memory usage: 21.5+ MB\n"
     ]
    }
   ],
   "source": [
    "print (df.shape)\n",
    "df.info()"
   ]
  },
  {
   "cell_type": "code",
   "execution_count": 5,
   "metadata": {},
   "outputs": [
    {
     "name": "stdout",
     "output_type": "stream",
     "text": [
      "8125\n",
      "7815\n"
     ]
    }
   ],
   "source": [
    "print (len(df['Census 2011 ID'].values))\n",
    "print (len(set(df['Census 2011 ID'].values)))"
   ]
  },
  {
   "cell_type": "code",
   "execution_count": 6,
   "metadata": {},
   "outputs": [
    {
     "name": "stdout",
     "output_type": "stream",
     "text": [
      "7815\n",
      "7815\n"
     ]
    }
   ],
   "source": [
    "df = df.drop_duplicates(subset = 'Census 2011 ID', keep = 'first')\n",
    "print (len(df['Census 2011 ID'].values))\n",
    "print (len(set(df['Census 2011 ID'].values)))"
   ]
  },
  {
   "cell_type": "code",
   "execution_count": 7,
   "metadata": {},
   "outputs": [
    {
     "name": "stdout",
     "output_type": "stream",
     "text": [
      "Train Shape (6252, 346) Test Shape (1563, 346)\n",
      "Train Classes\n",
      "1    5897\n",
      "0     355\n",
      "Name: electric_category, dtype: int64\n",
      "Train Classes\n",
      "1    1468\n",
      "0      95\n",
      "Name: electric_category, dtype: int64\n"
     ]
    }
   ],
   "source": [
    "# # Keep full df for later\n",
    "# scaler = MinMaxScaler(feature_range=(0, 1))\n",
    "\n",
    "# df_full = df.copy()\n",
    "# all_X = df_full.drop(['Census 2011 ID', 'Percentage Electrified', 'Number of Electrified Households', \n",
    "#                       'Village Name','District Name','State Name', 'electric_category'], axis = 1)\n",
    "# all_X_scaled = pd.DataFrame(scaler.transform(all_X), columns = all_X.columns)\n",
    "# all_Y = df_full[['electric_category']].values \n",
    "# print (all_X_scaled.shape)\n",
    "\n",
    "# Train test split \n",
    "df, test_data_df = train_test_split(df, test_size=0.2)\n",
    "print ('Train Shape', df.shape, 'Test Shape', test_data_df.shape)\n",
    "print ('Train Classes')\n",
    "print (df.electric_category.value_counts())\n",
    "print ('Train Classes')\n",
    "print (test_data_df.electric_category.value_counts())"
   ]
  },
  {
   "cell_type": "code",
   "execution_count": 8,
   "metadata": {},
   "outputs": [
    {
     "name": "stdout",
     "output_type": "stream",
     "text": [
      "Sizes before sampling:  (5897, 346) (355, 346)\n",
      "Train Shape (24000, 346) Test Shape (1563, 346)\n",
      "New Train Classes\n",
      "1    12000\n",
      "0    12000\n",
      "Name: electric_category, dtype: int64\n",
      "New Train Classes\n",
      "1    1468\n",
      "0      95\n",
      "Name: electric_category, dtype: int64\n"
     ]
    }
   ],
   "source": [
    "df0 = df[df.electric_category == 0]\n",
    "df1 = df[df.electric_category == 1]\n",
    "\n",
    "print ('Sizes before sampling: ', df1.shape, df0.shape)\n",
    "\n",
    "df0 = resample(df0, \n",
    "                replace=True,     # sample with replacement\n",
    "                n_samples=12000,  # to match majority class, Was 10000 \n",
    "                random_state=123) # reproducible results. \n",
    "\n",
    "df1 = resample(df1, n_samples = 12000)\n",
    "df = pd.concat([df1, df0])\n",
    "\n",
    "print ('Train Shape', df.shape, 'Test Shape', test_data_df.shape)\n",
    "print ('New Train Classes')\n",
    "print (df.electric_category.value_counts())\n",
    "print ('New Train Classes')\n",
    "print (test_data_df.electric_category.value_counts())"
   ]
  },
  {
   "cell_type": "code",
   "execution_count": 9,
   "metadata": {},
   "outputs": [
    {
     "name": "stdout",
     "output_type": "stream",
     "text": [
      "[]\n"
     ]
    }
   ],
   "source": [
    "a = [x for x in df['Census 2011 ID'].values if x in test_data_df['Census 2011 ID'].values]\n",
    "print (a)"
   ]
  },
  {
   "cell_type": "code",
   "execution_count": 10,
   "metadata": {},
   "outputs": [
    {
     "data": {
      "text/html": [
       "<div>\n",
       "<style scoped>\n",
       "    .dataframe tbody tr th:only-of-type {\n",
       "        vertical-align: middle;\n",
       "    }\n",
       "\n",
       "    .dataframe tbody tr th {\n",
       "        vertical-align: top;\n",
       "    }\n",
       "\n",
       "    .dataframe thead th {\n",
       "        text-align: right;\n",
       "    }\n",
       "</style>\n",
       "<table border=\"1\" class=\"dataframe\">\n",
       "  <thead>\n",
       "    <tr style=\"text-align: right;\">\n",
       "      <th></th>\n",
       "      <th>Number of Households</th>\n",
       "      <th>min</th>\n",
       "      <th>10th_percentile</th>\n",
       "      <th>median</th>\n",
       "      <th>90th_percentile</th>\n",
       "      <th>max</th>\n",
       "      <th>mean</th>\n",
       "      <th>st_dev</th>\n",
       "      <th>sum</th>\n",
       "      <th>area</th>\n",
       "      <th>...</th>\n",
       "      <th>rain_mar_90th</th>\n",
       "      <th>rain_apr_90th</th>\n",
       "      <th>rain_may_90th</th>\n",
       "      <th>rain_jun_90th</th>\n",
       "      <th>rain_jul_90th</th>\n",
       "      <th>rain_aug_90th</th>\n",
       "      <th>rain_sep_90th</th>\n",
       "      <th>rain_oct_90th</th>\n",
       "      <th>rain_nov_90th</th>\n",
       "      <th>rain_dec_90th</th>\n",
       "    </tr>\n",
       "  </thead>\n",
       "  <tbody>\n",
       "    <tr>\n",
       "      <th>0</th>\n",
       "      <td>0.102767</td>\n",
       "      <td>0.003580</td>\n",
       "      <td>0.004702</td>\n",
       "      <td>0.005052</td>\n",
       "      <td>0.005615</td>\n",
       "      <td>0.007846</td>\n",
       "      <td>0.005097</td>\n",
       "      <td>0.006660</td>\n",
       "      <td>0.045809</td>\n",
       "      <td>0.224891</td>\n",
       "      <td>...</td>\n",
       "      <td>0.050566</td>\n",
       "      <td>0.022364</td>\n",
       "      <td>0.829031</td>\n",
       "      <td>0.516253</td>\n",
       "      <td>0.189634</td>\n",
       "      <td>0.192138</td>\n",
       "      <td>0.298822</td>\n",
       "      <td>0.142752</td>\n",
       "      <td>0.000000</td>\n",
       "      <td>0.000000</td>\n",
       "    </tr>\n",
       "    <tr>\n",
       "      <th>1</th>\n",
       "      <td>0.053274</td>\n",
       "      <td>0.004538</td>\n",
       "      <td>0.005815</td>\n",
       "      <td>0.011439</td>\n",
       "      <td>0.013873</td>\n",
       "      <td>0.015005</td>\n",
       "      <td>0.009226</td>\n",
       "      <td>0.021819</td>\n",
       "      <td>0.014152</td>\n",
       "      <td>0.111354</td>\n",
       "      <td>...</td>\n",
       "      <td>0.189175</td>\n",
       "      <td>0.292159</td>\n",
       "      <td>0.373366</td>\n",
       "      <td>0.380053</td>\n",
       "      <td>0.350845</td>\n",
       "      <td>0.277167</td>\n",
       "      <td>0.427622</td>\n",
       "      <td>0.258258</td>\n",
       "      <td>0.300397</td>\n",
       "      <td>0.003601</td>\n",
       "    </tr>\n",
       "    <tr>\n",
       "      <th>2</th>\n",
       "      <td>0.051383</td>\n",
       "      <td>0.004861</td>\n",
       "      <td>0.007873</td>\n",
       "      <td>0.008061</td>\n",
       "      <td>0.010756</td>\n",
       "      <td>0.011746</td>\n",
       "      <td>0.008169</td>\n",
       "      <td>0.013386</td>\n",
       "      <td>0.043121</td>\n",
       "      <td>0.163755</td>\n",
       "      <td>...</td>\n",
       "      <td>0.278179</td>\n",
       "      <td>0.019181</td>\n",
       "      <td>0.446253</td>\n",
       "      <td>0.191562</td>\n",
       "      <td>0.064789</td>\n",
       "      <td>0.380329</td>\n",
       "      <td>0.663943</td>\n",
       "      <td>0.385158</td>\n",
       "      <td>0.000000</td>\n",
       "      <td>0.000000</td>\n",
       "    </tr>\n",
       "    <tr>\n",
       "      <th>3</th>\n",
       "      <td>0.008421</td>\n",
       "      <td>0.004919</td>\n",
       "      <td>0.006009</td>\n",
       "      <td>0.007050</td>\n",
       "      <td>0.008383</td>\n",
       "      <td>0.010035</td>\n",
       "      <td>0.007049</td>\n",
       "      <td>0.011173</td>\n",
       "      <td>0.030900</td>\n",
       "      <td>0.117904</td>\n",
       "      <td>...</td>\n",
       "      <td>0.344650</td>\n",
       "      <td>0.049898</td>\n",
       "      <td>1.000000</td>\n",
       "      <td>0.328678</td>\n",
       "      <td>0.147359</td>\n",
       "      <td>0.443616</td>\n",
       "      <td>0.376219</td>\n",
       "      <td>0.460380</td>\n",
       "      <td>0.000000</td>\n",
       "      <td>0.000000</td>\n",
       "    </tr>\n",
       "    <tr>\n",
       "      <th>4</th>\n",
       "      <td>0.011686</td>\n",
       "      <td>0.008902</td>\n",
       "      <td>0.010614</td>\n",
       "      <td>0.014811</td>\n",
       "      <td>0.012406</td>\n",
       "      <td>0.016014</td>\n",
       "      <td>0.012721</td>\n",
       "      <td>0.016097</td>\n",
       "      <td>0.007331</td>\n",
       "      <td>0.045852</td>\n",
       "      <td>...</td>\n",
       "      <td>0.154191</td>\n",
       "      <td>0.140198</td>\n",
       "      <td>0.465609</td>\n",
       "      <td>0.229835</td>\n",
       "      <td>0.162847</td>\n",
       "      <td>0.200678</td>\n",
       "      <td>0.375430</td>\n",
       "      <td>0.246377</td>\n",
       "      <td>0.000000</td>\n",
       "      <td>0.000000</td>\n",
       "    </tr>\n",
       "  </tbody>\n",
       "</table>\n",
       "<p>5 rows × 339 columns</p>\n",
       "</div>"
      ],
      "text/plain": [
       "   Number of Households       min  10th_percentile    median  90th_percentile  \\\n",
       "0              0.102767  0.003580         0.004702  0.005052         0.005615   \n",
       "1              0.053274  0.004538         0.005815  0.011439         0.013873   \n",
       "2              0.051383  0.004861         0.007873  0.008061         0.010756   \n",
       "3              0.008421  0.004919         0.006009  0.007050         0.008383   \n",
       "4              0.011686  0.008902         0.010614  0.014811         0.012406   \n",
       "\n",
       "        max      mean    st_dev       sum      area      ...        \\\n",
       "0  0.007846  0.005097  0.006660  0.045809  0.224891      ...         \n",
       "1  0.015005  0.009226  0.021819  0.014152  0.111354      ...         \n",
       "2  0.011746  0.008169  0.013386  0.043121  0.163755      ...         \n",
       "3  0.010035  0.007049  0.011173  0.030900  0.117904      ...         \n",
       "4  0.016014  0.012721  0.016097  0.007331  0.045852      ...         \n",
       "\n",
       "   rain_mar_90th  rain_apr_90th  rain_may_90th  rain_jun_90th  rain_jul_90th  \\\n",
       "0       0.050566       0.022364       0.829031       0.516253       0.189634   \n",
       "1       0.189175       0.292159       0.373366       0.380053       0.350845   \n",
       "2       0.278179       0.019181       0.446253       0.191562       0.064789   \n",
       "3       0.344650       0.049898       1.000000       0.328678       0.147359   \n",
       "4       0.154191       0.140198       0.465609       0.229835       0.162847   \n",
       "\n",
       "   rain_aug_90th  rain_sep_90th  rain_oct_90th  rain_nov_90th  rain_dec_90th  \n",
       "0       0.192138       0.298822       0.142752       0.000000       0.000000  \n",
       "1       0.277167       0.427622       0.258258       0.300397       0.003601  \n",
       "2       0.380329       0.663943       0.385158       0.000000       0.000000  \n",
       "3       0.443616       0.376219       0.460380       0.000000       0.000000  \n",
       "4       0.200678       0.375430       0.246377       0.000000       0.000000  \n",
       "\n",
       "[5 rows x 339 columns]"
      ]
     },
     "execution_count": 10,
     "metadata": {},
     "output_type": "execute_result"
    }
   ],
   "source": [
    "#scaler = StandardScaler()\n",
    "scaler = MinMaxScaler(feature_range=(0, 1))\n",
    "# Training \n",
    "X_training = df.drop(['Census 2011 ID', 'Percentage Electrified', 'Number of Electrified Households', \n",
    "                      'Village Name','District Name','State Name', 'electric_category'], axis = 1)\n",
    "X_training_scaled = pd.DataFrame(scaler.fit_transform(X_training), columns = X_training.columns)\n",
    "Y_training = df[['electric_category']].values\n",
    "\n",
    "# Testing\n",
    "X_testing = test_data_df.drop(['Census 2011 ID', 'Percentage Electrified', 'Number of Electrified Households', \n",
    "                      'Village Name','District Name','State Name', 'electric_category'], axis = 1)\n",
    "X_testing_scaled = pd.DataFrame(scaler.transform(X_testing), columns = X_testing.columns)\n",
    "Y_testing = test_data_df[['electric_category']].values\n",
    "\n",
    "X_training_scaled.head(5)"
   ]
  },
  {
   "cell_type": "code",
   "execution_count": 11,
   "metadata": {},
   "outputs": [
    {
     "data": {
      "text/plain": [
       "(24000, 339)"
      ]
     },
     "execution_count": 11,
     "metadata": {},
     "output_type": "execute_result"
    }
   ],
   "source": [
    "X_training_scaled.shape"
   ]
  },
  {
   "cell_type": "code",
   "execution_count": 12,
   "metadata": {
    "collapsed": true
   },
   "outputs": [],
   "source": [
    "X_train = X_training_scaled\n",
    "Y_train = Y_training.ravel()\n",
    "X_test = X_testing_scaled"
   ]
  },
  {
   "cell_type": "code",
   "execution_count": 13,
   "metadata": {
    "collapsed": true
   },
   "outputs": [],
   "source": [
    "# pca = PCA(n_components=100)\n",
    "# pca.fit(X_training_scaled)\n",
    "# X_training_scaled = pca.transform(X_training_scaled)\n",
    "# X_training_scaled.shape"
   ]
  },
  {
   "cell_type": "code",
   "execution_count": 14,
   "metadata": {
    "collapsed": true
   },
   "outputs": [],
   "source": [
    "# print(pca.explained_variance_ratio_)  "
   ]
  },
  {
   "cell_type": "code",
   "execution_count": 15,
   "metadata": {
    "collapsed": true
   },
   "outputs": [],
   "source": [
    "forest_model = RandomForestClassifier()\n",
    "forest_model.fit(X_train, Y_train) \n",
    "melb_preds = forest_model.predict(X_test)"
   ]
  },
  {
   "cell_type": "code",
   "execution_count": 16,
   "metadata": {},
   "outputs": [
    {
     "name": "stdout",
     "output_type": "stream",
     "text": [
      "The accuracy is 0.9315419065898912, with 1456 of 1563 villages correctly classified.\n"
     ]
    }
   ],
   "source": [
    "print ('The accuracy is {}, with {} of {} villages correctly classified.'.format(accuracy_score(Y_testing,melb_preds), \n",
    "                                                        accuracy_score(Y_testing, melb_preds, normalize=False), X_test.shape[0]))"
   ]
  },
  {
   "cell_type": "code",
   "execution_count": 17,
   "metadata": {
    "collapsed": true
   },
   "outputs": [],
   "source": [
    "weighted_forest_model = RandomForestClassifier(class_weight = {0:2, 1:1})\n",
    "weighted_forest_model.fit(X_train, Y_train) \n",
    "melb_preds = weighted_forest_model.predict(X_test)"
   ]
  },
  {
   "cell_type": "code",
   "execution_count": 18,
   "metadata": {},
   "outputs": [
    {
     "name": "stdout",
     "output_type": "stream",
     "text": [
      "The weighted RF accuracy is 0.9302623160588611, with 1454 of 1563 villages correctly classified.\n"
     ]
    }
   ],
   "source": [
    "print ('The weighted RF accuracy is {}, with {} of {} villages correctly classified.'.format(accuracy_score(Y_testing,melb_preds), \n",
    "                                                        accuracy_score(Y_testing, melb_preds, normalize=False), X_test.shape[0]))"
   ]
  },
  {
   "cell_type": "code",
   "execution_count": 19,
   "metadata": {},
   "outputs": [
    {
     "data": {
      "text/plain": [
       "(24000, 339)"
      ]
     },
     "execution_count": 19,
     "metadata": {},
     "output_type": "execute_result"
    }
   ],
   "source": [
    "X_train.shape"
   ]
  },
  {
   "cell_type": "code",
   "execution_count": 20,
   "metadata": {},
   "outputs": [
    {
     "data": {
      "text/plain": [
       "(1563, 339)"
      ]
     },
     "execution_count": 20,
     "metadata": {},
     "output_type": "execute_result"
    }
   ],
   "source": [
    "X_test.shape"
   ]
  },
  {
   "cell_type": "code",
   "execution_count": 21,
   "metadata": {},
   "outputs": [
    {
     "data": {
      "text/plain": [
       "RandomForestClassifier(bootstrap=True, class_weight={0: 2, 1: 1},\n",
       "            criterion='gini', max_depth=None, max_features='auto',\n",
       "            max_leaf_nodes=None, min_impurity_decrease=0.0,\n",
       "            min_impurity_split=None, min_samples_leaf=1,\n",
       "            min_samples_split=2, min_weight_fraction_leaf=0.0,\n",
       "            n_estimators=10, n_jobs=1, oob_score=False, random_state=None,\n",
       "            verbose=0, warm_start=False)"
      ]
     },
     "execution_count": 21,
     "metadata": {},
     "output_type": "execute_result"
    }
   ],
   "source": [
    "random_forest = RandomForestClassifier(class_weight = {0:2, 1:1})\n",
    "random_forest.fit(X_train, Y_train)"
   ]
  },
  {
   "cell_type": "code",
   "execution_count": 22,
   "metadata": {
    "scrolled": true
   },
   "outputs": [
    {
     "data": {
      "image/png": "[encoded data removed]",
      "text/plain": [
       "<matplotlib.figure.Figure at 0xb5a149c630>"
      ]
     },
     "metadata": {},
     "output_type": "display_data"
    }
   ],
   "source": [
    "def plot_confusion_matrix(title): \n",
    "    predictions = random_forest.predict(X_test)\n",
    "    conf_matrix = confusion_matrix(Y_testing, predictions)\n",
    "    heatmap(conf_matrix, annot=True, fmt=\"d\", annot_kws={\"size\":17})\n",
    "    plt.xlabel('Prediction', fontsize=18)\n",
    "    plt.ylabel('Truth', fontsize=18)\n",
    "    plt.title(title, fontsize=22)\n",
    "    plt.show()\n",
    "    \n",
    "plot_confusion_matrix('PCA Confusion matrix of all Households')"
   ]
  },
  {
   "cell_type": "code",
   "execution_count": 23,
   "metadata": {},
   "outputs": [
    {
     "name": "stdout",
     "output_type": "stream",
     "text": [
      "Scores: [ 0.91719745  0.93630573  0.93630573  0.92993631  0.92356688  0.93589744\n",
      "  0.94871795  0.93589744  0.94193548  0.94193548]\n",
      "Average Accuracy: 0.934769589017\n",
      "Standard Deviation: 0.00873018738565\n"
     ]
    }
   ],
   "source": [
    "# K fold cross validation \n",
    "c, r = Y_testing.shape\n",
    "Y_testing = Y_testing.reshape(c,)\n",
    "\n",
    "rf = RandomForestClassifier(class_weight = {0:2, 1:1})\n",
    "scores = cross_val_score(rf, X_test, Y_testing, cv=10, scoring = \"accuracy\")\n",
    "print(\"Scores:\", scores)\n",
    "print(\"Average Accuracy:\", scores.mean())\n",
    "print(\"Standard Deviation:\", scores.std())"
   ]
  },
  {
   "cell_type": "code",
   "execution_count": 24,
   "metadata": {},
   "outputs": [
    {
     "name": "stdout",
     "output_type": "stream",
     "text": [
      "Scores: [ 0.99958333  0.99875     0.99916667  0.99875     0.99958333  0.9975\n",
      "  0.99916667  0.99875     0.9975      0.99625   ]\n",
      "Average Accuracy: 0.9985\n",
      "Standard Deviation: 0.00102401714395\n"
     ]
    }
   ],
   "source": [
    "# K fold cross validation \n",
    "c, r = Y_training.shape\n",
    "Y_training = Y_training.reshape(c,)\n",
    "\n",
    "rf = RandomForestClassifier(class_weight = {0:2, 1:1})\n",
    "scores = cross_val_score(rf, X_train, Y_training, cv=10, scoring = \"accuracy\")\n",
    "print(\"Scores:\", scores)\n",
    "print(\"Average Accuracy:\", scores.mean())\n",
    "print(\"Standard Deviation:\", scores.std())"
   ]
  },
  {
   "cell_type": "code",
   "execution_count": 25,
   "metadata": {},
   "outputs": [],
   "source": [
    "# random_forest.fit(X_train, Y_train)\n",
    "# importances = pd.DataFrame({'feature':X_train.columns,'importance':np.round(rf.feature_importances_,3)})\n",
    "# importances = importances.sort_values('importance',ascending=False).set_index('feature')"
   ]
  },
  {
   "cell_type": "code",
   "execution_count": 26,
   "metadata": {},
   "outputs": [],
   "source": [
    "# importances.head(10)"
   ]
  },
  {
   "cell_type": "code",
   "execution_count": 27,
   "metadata": {},
   "outputs": [],
   "source": [
    "# importances.head(15).plot.bar(figsize=(20,10))"
   ]
  },
  {
   "cell_type": "code",
   "execution_count": 28,
   "metadata": {},
   "outputs": [
    {
     "name": "stdout",
     "output_type": "stream",
     "text": [
      "95\n",
      "1468\n"
     ]
    }
   ],
   "source": [
    "print (list(Y_testing).count(0))\n",
    "print (list(Y_testing).count(1))"
   ]
  },
  {
   "cell_type": "code",
   "execution_count": 29,
   "metadata": {
    "collapsed": true
   },
   "outputs": [],
   "source": [
    "predictions = random_forest.predict(X_test)"
   ]
  },
  {
   "cell_type": "code",
   "execution_count": 30,
   "metadata": {},
   "outputs": [
    {
     "data": {
      "text/plain": [
       "0.96496496496496487"
      ]
     },
     "execution_count": 30,
     "metadata": {},
     "output_type": "execute_result"
    }
   ],
   "source": [
    "# F-Score\n",
    "from sklearn.metrics import f1_score\n",
    "f1_score(Y_testing, predictions)"
   ]
  },
  {
   "cell_type": "code",
   "execution_count": 31,
   "metadata": {},
   "outputs": [
    {
     "name": "stdout",
     "output_type": "stream",
     "text": [
      "Precision: 0.945716154349\n",
      "Recall: 0.985013623978\n"
     ]
    }
   ],
   "source": [
    "# Precision and Recall\n",
    "from sklearn.metrics import precision_score, recall_score\n",
    "\n",
    "print(\"Precision:\", precision_score(Y_testing, predictions))\n",
    "print(\"Recall:\",recall_score(Y_testing, predictions))"
   ]
  },
  {
   "cell_type": "code",
   "execution_count": 32,
   "metadata": {
    "collapsed": true
   },
   "outputs": [],
   "source": [
    "from sklearn.metrics import precision_recall_curve\n",
    "\n",
    "# getting the probabilities of our predictions\n",
    "y_scores = random_forest.predict_proba(X_test)\n",
    "y_scores = y_scores[:,1]\n",
    "\n",
    "precision, recall, threshold = precision_recall_curve(Y_testing, y_scores)"
   ]
  },
  {
   "cell_type": "code",
   "execution_count": 33,
   "metadata": {},
   "outputs": [
    {
     "data": {
      "image/png": "[encoded data removed]",
      "text/plain": [
       "<matplotlib.figure.Figure at 0xb5a188e748>"
      ]
     },
     "metadata": {},
     "output_type": "display_data"
    }
   ],
   "source": [
    "def plot_precision_and_recall(precision, recall, threshold):\n",
    "    plt.plot(threshold, precision[:-1], \"r-\", label=\"precision\", linewidth=5)\n",
    "    plt.plot(threshold, recall[:-1], \"b\", label=\"recall\", linewidth=5)\n",
    "    plt.xlabel(\"threshold\", fontsize=19)\n",
    "    plt.legend(loc=\"upper right\", fontsize=19)\n",
    "    plt.ylim([0, 1])\n",
    "\n",
    "plt.figure(figsize=(14, 7))\n",
    "plot_precision_and_recall(precision, recall, threshold)\n",
    "plt.show()"
   ]
  },
  {
   "cell_type": "code",
   "execution_count": 34,
   "metadata": {},
   "outputs": [
    {
     "data": {
      "image/png": "[encoded data removed]",
      "text/plain": [
       "<matplotlib.figure.Figure at 0xb5a1844630>"
      ]
     },
     "metadata": {},
     "output_type": "display_data"
    }
   ],
   "source": [
    "def plot_precision_vs_recall(precision, recall):\n",
    "    plt.plot(recall, precision, \"g--\", linewidth=2.5)\n",
    "    plt.ylabel(\"recall\", fontsize=19)\n",
    "    plt.xlabel(\"precision\", fontsize=19)\n",
    "    plt.axis([0, 1.5, 0, 1.5])\n",
    "\n",
    "plt.figure(figsize=(14, 7))\n",
    "plot_precision_vs_recall(precision, recall)\n",
    "plt.show()"
   ]
  },
  {
   "cell_type": "code",
   "execution_count": 35,
   "metadata": {
    "collapsed": true
   },
   "outputs": [],
   "source": [
    "# ROC AUC Curve\n",
    "from sklearn.metrics import roc_curve\n",
    "# compute true positive rate and false positive rate\n",
    "false_positive_rate, true_positive_rate, thresholds = roc_curve(Y_testing, y_scores)"
   ]
  },
  {
   "cell_type": "code",
   "execution_count": 36,
   "metadata": {},
   "outputs": [
    {
     "data": {
      "image/png": "[encoded data removed]",
      "text/plain": [
       "<matplotlib.figure.Figure at 0xb5a1707be0>"
      ]
     },
     "metadata": {},
     "output_type": "display_data"
    }
   ],
   "source": [
    "# plotting them against each other\n",
    "def plot_roc_curve(false_positive_rate, true_positive_rate, label=None):\n",
    "    plt.plot(false_positive_rate, true_positive_rate, linewidth=2, label=label)\n",
    "    plt.plot([0, 1], [0, 1], 'r', linewidth=4)\n",
    "    plt.axis([0, 1, 0, 1])\n",
    "    plt.xlabel('False Positive Rate (FPR)', fontsize=16)\n",
    "    plt.ylabel('True Positive Rate (TPR)', fontsize=16)\n",
    "\n",
    "plt.figure(figsize=(14, 7))\n",
    "plot_roc_curve(false_positive_rate, true_positive_rate)\n",
    "plt.show()"
   ]
  },
  {
   "cell_type": "code",
   "execution_count": 37,
   "metadata": {},
   "outputs": [
    {
     "name": "stdout",
     "output_type": "stream",
     "text": [
      "ROC-AUC-Score: 0.682486017496\n"
     ]
    }
   ],
   "source": [
    "from sklearn.metrics import roc_auc_score\n",
    "r_a_score = roc_auc_score(Y_testing, y_scores)\n",
    "print(\"ROC-AUC-Score:\", r_a_score)"
   ]
  },
  {
   "cell_type": "code",
   "execution_count": null,
   "metadata": {
    "collapsed": true
   },
   "outputs": [],
   "source": []
  }
 ],
 "metadata": {
  "kernelspec": {
   "display_name": "Python 3",
   "language": "python",
   "name": "python3"
  },
  "language_info": {
   "codemirror_mode": {
    "name": "ipython",
    "version": 3
   },
   "file_extension": ".py",
   "mimetype": "text/x-python",
   "name": "python",
   "nbconvert_exporter": "python",
   "pygments_lexer": "ipython3",
   "version": "3.6.4"
  }
 },
 "nbformat": 4,
 "nbformat_minor": 2
}
