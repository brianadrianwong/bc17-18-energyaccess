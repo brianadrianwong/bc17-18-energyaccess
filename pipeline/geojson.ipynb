{
 "cells": [
  {
   "cell_type": "code",
   "execution_count": 1,
   "metadata": {},
   "outputs": [],
   "source": [
    "import geopandas as gpd\n",
    "import pandas as pd"
   ]
  },
  {
   "cell_type": "code",
   "execution_count": 2,
   "metadata": {},
   "outputs": [],
   "source": [
    "df = gpd.read_file('./up_geotags_5km.geojson')"
   ]
  },
  {
   "cell_type": "code",
   "execution_count": 12,
   "metadata": {},
   "outputs": [],
   "source": [
    "df = df.rename(index=str, columns={'system_ind':'SYSTEM_IND'})"
   ]
  },
  {
   "cell_type": "code",
   "execution_count": 4,
   "metadata": {},
   "outputs": [],
   "source": [
    "labels_mc = pd.read_csv('./prediction.csv')"
   ]
  },
  {
   "cell_type": "code",
   "execution_count": 6,
   "metadata": {},
   "outputs": [],
   "source": [
    "del labels_mc['Unnamed: 0']"
   ]
  },
  {
   "cell_type": "code",
   "execution_count": 7,
   "metadata": {},
   "outputs": [],
   "source": [
    "del labels_mc['SYSTEM:INDEX']"
   ]
  },
  {
   "cell_type": "code",
   "execution_count": 16,
   "metadata": {},
   "outputs": [
    {
     "data": {
      "text/html": [
       "<div>\n",
       "<style scoped>\n",
       "    .dataframe tbody tr th:only-of-type {\n",
       "        vertical-align: middle;\n",
       "    }\n",
       "\n",
       "    .dataframe tbody tr th {\n",
       "        vertical-align: top;\n",
       "    }\n",
       "\n",
       "    .dataframe thead th {\n",
       "        text-align: right;\n",
       "    }\n",
       "</style>\n",
       "<table border=\"1\" class=\"dataframe\">\n",
       "  <thead>\n",
       "    <tr style=\"text-align: right;\">\n",
       "      <th></th>\n",
       "      <th>id</th>\n",
       "      <th>SYSTEM_IND</th>\n",
       "      <th>geometry</th>\n",
       "    </tr>\n",
       "  </thead>\n",
       "  <tbody>\n",
       "    <tr>\n",
       "      <th>0</th>\n",
       "      <td>00002b703811dfef6f25</td>\n",
       "      <td>7595</td>\n",
       "      <td>POLYGON ((77.88999867678268 30.24499885701594,...</td>\n",
       "    </tr>\n",
       "    <tr>\n",
       "      <th>1</th>\n",
       "      <td>0000a57053e645a39285</td>\n",
       "      <td>7594</td>\n",
       "      <td>POLYGON ((77.88999867678268 30.2000020545639, ...</td>\n",
       "    </tr>\n",
       "    <tr>\n",
       "      <th>2</th>\n",
       "      <td>00002c3e6a795171051e</td>\n",
       "      <td>7593</td>\n",
       "      <td>POLYGON ((77.88999867678268 30.15500083684473,...</td>\n",
       "    </tr>\n",
       "    <tr>\n",
       "      <th>3</th>\n",
       "      <td>00001aa3cb345f26e206</td>\n",
       "      <td>7760</td>\n",
       "      <td>POLYGON ((77.93499995372542 29.70500173463898,...</td>\n",
       "    </tr>\n",
       "    <tr>\n",
       "      <th>4</th>\n",
       "      <td>000006c58bdb93d48dcd</td>\n",
       "      <td>7583</td>\n",
       "      <td>POLYGON ((77.88999867678268 29.70500170614517,...</td>\n",
       "    </tr>\n",
       "  </tbody>\n",
       "</table>\n",
       "</div>"
      ],
      "text/plain": [
       "                     id SYSTEM_IND  \\\n",
       "0  00002b703811dfef6f25       7595   \n",
       "1  0000a57053e645a39285       7594   \n",
       "2  00002c3e6a795171051e       7593   \n",
       "3  00001aa3cb345f26e206       7760   \n",
       "4  000006c58bdb93d48dcd       7583   \n",
       "\n",
       "                                            geometry  \n",
       "0  POLYGON ((77.88999867678268 30.24499885701594,...  \n",
       "1  POLYGON ((77.88999867678268 30.2000020545639, ...  \n",
       "2  POLYGON ((77.88999867678268 30.15500083684473,...  \n",
       "3  POLYGON ((77.93499995372542 29.70500173463898,...  \n",
       "4  POLYGON ((77.88999867678268 29.70500170614517,...  "
      ]
     },
     "execution_count": 16,
     "metadata": {},
     "output_type": "execute_result"
    }
   ],
   "source": [
    "df.head()"
   ]
  },
  {
   "cell_type": "code",
   "execution_count": 25,
   "metadata": {},
   "outputs": [],
   "source": [
    "labels_mc.prediction = labels_mc.prediction.astype('int')"
   ]
  },
  {
   "cell_type": "code",
   "execution_count": 22,
   "metadata": {},
   "outputs": [],
   "source": [
    "df.SYSTEM_IND = df.SYSTEM_IND.astype('int64')"
   ]
  },
  {
   "cell_type": "code",
   "execution_count": 27,
   "metadata": {},
   "outputs": [],
   "source": [
    "df.merge(labels_mc, on='SYSTEM_IND').to_file('./relabeled.geojson', driver='GeoJSON')"
   ]
  }
 ],
 "metadata": {
  "kernelspec": {
   "display_name": "Python 3",
   "language": "python",
   "name": "python3"
  },
  "language_info": {
   "codemirror_mode": {
    "name": "ipython",
    "version": 3
   },
   "file_extension": ".py",
   "mimetype": "text/x-python",
   "name": "python",
   "nbconvert_exporter": "python",
   "pygments_lexer": "ipython3",
   "version": "3.4.3"
  }
 },
 "nbformat": 4,
 "nbformat_minor": 2
}
