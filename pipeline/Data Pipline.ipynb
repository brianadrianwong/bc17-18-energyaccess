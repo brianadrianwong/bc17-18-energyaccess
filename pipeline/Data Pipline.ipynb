{
 "cells": [
  {
   "cell_type": "code",
   "execution_count": 1,
   "metadata": {},
   "outputs": [],
   "source": [
    "import pandas as pd\n",
    "import numpy as np\n",
    "import gc\n",
    "from bce import *\n",
    "from sklearn.preprocessing import StandardScaler"
   ]
  },
  {
   "cell_type": "code",
   "execution_count": 63,
   "metadata": {},
   "outputs": [],
   "source": [
    "# df = pd.read_csv('./bihar_features_gee.csv')\n",
    "# df0 = pd.read_csv('./interpolated_full.csv')\n",
    "# df1 = df0[['Census 2011 ID', \n",
    "#            'Number of Households', \n",
    "#            'Number of Electrified Households', \n",
    "#            'Percentage Electrified']]\n",
    "# df = df.merge(df1, left_on=['CEN_2011'], right_on=['Census 2011 ID'])\n",
    "# del df0\n",
    "# del df1\n",
    "# del df['Census 2011 ID']\n",
    "# del df['CEN_2011']\n",
    "# gc.collect()\n",
    "# df = df.fillna(-1)\n",
    "# df.to_csv('./labeled.csv')\n",
    "# del df"
   ]
  },
  {
   "cell_type": "code",
   "execution_count": 2,
   "metadata": {},
   "outputs": [
    {
     "name": "stdout",
     "output_type": "stream",
     "text": [
      "Begin data cleaning.\n",
      "Read in data from ./bihar_features_gee.csv sucessfully.\n",
      "All dataframes and labels generated.\n",
      "Column Percentage Electrified does not exist\n",
      "Column Number of Electrified Households does not exist\n",
      "Column Unnamed: 0 does not exist\n",
      "Column Census 2011 ID does not exist\n",
      "Column Number_of_Households does not exist\n",
      "Column Percentage Electrified does not exist\n",
      "Column Number of Electrified Households does not exist\n",
      "Column Unnamed: 0 does not exist\n",
      "Column Census 2011 ID does not exist\n",
      "Column Number_of_Households does not exist\n",
      "Column Percentage Electrified does not exist\n",
      "Column Number of Electrified Households does not exist\n",
      "Column Unnamed: 0 does not exist\n",
      "Column Census 2011 ID does not exist\n",
      "Column Number_of_Households does not exist\n",
      "Deleting useless and predictive informative columns\n",
      "Data cleaning successful.\n",
      "NaN left: []\n",
      "NaN left: []\n",
      "NaN left: []\n"
     ]
    }
   ],
   "source": [
    "df_dict = data_clean('./bihar_features_gee.csv')"
   ]
  },
  {
   "cell_type": "code",
   "execution_count": 12,
   "metadata": {},
   "outputs": [],
   "source": [
    "# pred_dict = voting_process(df_dict['df'], df_dict['label'], scale=True)\n",
    "\n",
    "# plot_confusion_matrix(pred=pred_dict['prediction'][0], \n",
    "#                       truth=pred_dict['y_test'][0], \n",
    "#                       title='New DF confusion matrix', \n",
    "#                       save_path='./new_voting_cunf.png')\n",
    "\n",
    "# plot_roc_curve(pred_dict=pred_dict, \n",
    "#                filter_list=['all', '100', '400'], \n",
    "#                save_path='./new_voting_roc.png')\n",
    "\n",
    "# plot_precision_recall_curve(y_test=pred_dict['y_test'][0], \n",
    "#                             y_score=pred_dict['probaility'][0], \n",
    "#                             save_path='./new_voting_pr.png')"
   ]
  },
  {
   "cell_type": "code",
   "execution_count": 3,
   "metadata": {},
   "outputs": [
    {
     "name": "stdout",
     "output_type": "stream",
     "text": [
      "DF Scaling successful.\n",
      "Plotting confusion matrix.\n",
      "Saving to ./new_gdb_cunf.png\n",
      "Plotting ROC/AUC plot.\n",
      "Saving to ./new_gdb_roc.png\n",
      "Plotting Precision-Recall Curve.\n",
      "Saving to ./new_gdb_pr.png\n"
     ]
    }
   ],
   "source": [
    "pred_dict = gdb_machine(df_dict['df'], df_dict['label'], penalty=20, scale=True)\n",
    "\n",
    "plot_confusion_matrix(pred=pred_dict['prediction'][0], \n",
    "                      truth=pred_dict['y_test'][0], \n",
    "                      title='New DF confusion matrix', \n",
    "                      save_path='./new_gdb_cunf.png')\n",
    "\n",
    "plot_roc_curve(pred_dict=pred_dict, \n",
    "               filter_list=['all', '100', '400'], \n",
    "               save_path='./new_gdb_roc.png')\n",
    "\n",
    "plot_precision_recall_curve(y_test=pred_dict['y_test'][0], \n",
    "                            y_score=pred_dict['probaility'][0], \n",
    "                            save_path='./new_gdb_pr.png')"
   ]
  },
  {
   "cell_type": "code",
   "execution_count": 4,
   "metadata": {},
   "outputs": [
    {
     "data": {
      "text/plain": [
       "0.6664459891868035"
      ]
     },
     "execution_count": 4,
     "metadata": {},
     "output_type": "execute_result"
    }
   ],
   "source": [
    "sum(np.array(pred_dict['prediction'][0]) == np.array(pred_dict['y_test'][0]))/len(pred_dict['y_test'][0])"
   ]
  },
  {
   "cell_type": "code",
   "execution_count": 6,
   "metadata": {},
   "outputs": [
    {
     "data": {
      "text/plain": [
       "[array([ True, False, False, ..., False, False, False]),\n",
       " array([False, False, False, ..., False, False, False]),\n",
       " array([False,  True,  True, ...,  True, False, False])]"
      ]
     },
     "execution_count": 6,
     "metadata": {},
     "output_type": "execute_result"
    }
   ],
   "source": [
    "pred_dict['prediction']"
   ]
  },
  {
   "cell_type": "code",
   "execution_count": 7,
   "metadata": {},
   "outputs": [
    {
     "name": "stdout",
     "output_type": "stream",
     "text": [
      "0.6664459891868035\n"
     ]
    }
   ],
   "source": [
    "count=0\n",
    "for i, j in zip(pred_dict['prediction'][0],pred_dict['y_test'][0]):\n",
    "    if i==j:\n",
    "        count += 1\n",
    "print(count/len(pred_dict['y_test'][0]))"
   ]
  },
  {
   "cell_type": "code",
   "execution_count": 8,
   "metadata": {},
   "outputs": [],
   "source": [
    "# for i in range(10, 51):\n",
    "#     pred_dict = gdb_machine(df_dict['df'], df_dict['label'], penalty=i, scale=True)\n",
    "\n",
    "#     plot_confusion_matrix(pred=pred_dict['prediction'][0], \n",
    "#                           truth=pred_dict['y_test'][0], \n",
    "#                           title='New DF confusion matrix')"
   ]
  },
  {
   "cell_type": "code",
   "execution_count": 9,
   "metadata": {},
   "outputs": [],
   "source": [
    "df = df_dict['df'][0]"
   ]
  },
  {
   "cell_type": "code",
   "execution_count": 10,
   "metadata": {},
   "outputs": [],
   "source": [
    "df = df.assign(outcome = df_dict['label'][0])"
   ]
  },
  {
   "cell_type": "code",
   "execution_count": 11,
   "metadata": {},
   "outputs": [
    {
     "data": {
      "text/plain": [
       "2145"
      ]
     },
     "execution_count": 11,
     "metadata": {},
     "output_type": "execute_result"
    }
   ],
   "source": [
    "sum(np.array(df_dict['label'][0])==0)"
   ]
  },
  {
   "cell_type": "code",
   "execution_count": 12,
   "metadata": {},
   "outputs": [],
   "source": [
    "x, y = df_dict['df'][0], df_dict['label'][0]"
   ]
  },
  {
   "cell_type": "code",
   "execution_count": 13,
   "metadata": {},
   "outputs": [],
   "source": [
    "x_train, x_test, y_train, y_test = train_test_split(x, y, test_size=.2)\n",
    "# x_train = x_train.assign(outcome = y_train)"
   ]
  },
  {
   "cell_type": "code",
   "execution_count": 14,
   "metadata": {},
   "outputs": [],
   "source": [
    "df_sample = pd.concat([x_train[np.array(y_train)==1].sample(n=int(sum(np.array(y_train)==0)*1.5)),x_train[np.array(y_train)==0]]).sample(frac=1)"
   ]
  },
  {
   "cell_type": "code",
   "execution_count": 15,
   "metadata": {},
   "outputs": [
    {
     "data": {
      "text/plain": [
       "(4315, 368)"
      ]
     },
     "execution_count": 15,
     "metadata": {},
     "output_type": "execute_result"
    }
   ],
   "source": [
    "df_sample.shape"
   ]
  },
  {
   "cell_type": "code",
   "execution_count": 16,
   "metadata": {},
   "outputs": [
    {
     "ename": "ValueError",
     "evalue": "labels ['outcome'] not contained in axis",
     "output_type": "error",
     "traceback": [
      "\u001b[1;31m---------------------------------------------------------------------------\u001b[0m",
      "\u001b[1;31mValueError\u001b[0m                                Traceback (most recent call last)",
      "\u001b[1;32m<ipython-input-16-e9f3a4f197ff>\u001b[0m in \u001b[0;36m<module>\u001b[1;34m()\u001b[0m\n\u001b[1;32m----> 1\u001b[1;33m \u001b[0mx_train\u001b[0m\u001b[1;33m,\u001b[0m \u001b[0my_train\u001b[0m \u001b[1;33m=\u001b[0m \u001b[0mdf_sample\u001b[0m\u001b[1;33m.\u001b[0m\u001b[0mdrop\u001b[0m\u001b[1;33m(\u001b[0m\u001b[0mcolumns\u001b[0m\u001b[1;33m=\u001b[0m\u001b[1;33m[\u001b[0m\u001b[1;34m'outcome'\u001b[0m\u001b[1;33m]\u001b[0m\u001b[1;33m)\u001b[0m\u001b[1;33m,\u001b[0m \u001b[0mdf_sample\u001b[0m\u001b[1;33m.\u001b[0m\u001b[0moutcome\u001b[0m\u001b[1;33m\u001b[0m\u001b[0m\n\u001b[0m",
      "\u001b[1;32m~\\Anaconda3\\lib\\site-packages\\pandas\\core\\generic.py\u001b[0m in \u001b[0;36mdrop\u001b[1;34m(self, labels, axis, index, columns, level, inplace, errors)\u001b[0m\n\u001b[0;32m   2528\u001b[0m         \u001b[1;32mfor\u001b[0m \u001b[0maxis\u001b[0m\u001b[1;33m,\u001b[0m \u001b[0mlabels\u001b[0m \u001b[1;32min\u001b[0m \u001b[0maxes\u001b[0m\u001b[1;33m.\u001b[0m\u001b[0mitems\u001b[0m\u001b[1;33m(\u001b[0m\u001b[1;33m)\u001b[0m\u001b[1;33m:\u001b[0m\u001b[1;33m\u001b[0m\u001b[0m\n\u001b[0;32m   2529\u001b[0m             \u001b[1;32mif\u001b[0m \u001b[0mlabels\u001b[0m \u001b[1;32mis\u001b[0m \u001b[1;32mnot\u001b[0m \u001b[1;32mNone\u001b[0m\u001b[1;33m:\u001b[0m\u001b[1;33m\u001b[0m\u001b[0m\n\u001b[1;32m-> 2530\u001b[1;33m                 \u001b[0mobj\u001b[0m \u001b[1;33m=\u001b[0m \u001b[0mobj\u001b[0m\u001b[1;33m.\u001b[0m\u001b[0m_drop_axis\u001b[0m\u001b[1;33m(\u001b[0m\u001b[0mlabels\u001b[0m\u001b[1;33m,\u001b[0m \u001b[0maxis\u001b[0m\u001b[1;33m,\u001b[0m \u001b[0mlevel\u001b[0m\u001b[1;33m=\u001b[0m\u001b[0mlevel\u001b[0m\u001b[1;33m,\u001b[0m \u001b[0merrors\u001b[0m\u001b[1;33m=\u001b[0m\u001b[0merrors\u001b[0m\u001b[1;33m)\u001b[0m\u001b[1;33m\u001b[0m\u001b[0m\n\u001b[0m\u001b[0;32m   2531\u001b[0m \u001b[1;33m\u001b[0m\u001b[0m\n\u001b[0;32m   2532\u001b[0m         \u001b[1;32mif\u001b[0m \u001b[0minplace\u001b[0m\u001b[1;33m:\u001b[0m\u001b[1;33m\u001b[0m\u001b[0m\n",
      "\u001b[1;32m~\\Anaconda3\\lib\\site-packages\\pandas\\core\\generic.py\u001b[0m in \u001b[0;36m_drop_axis\u001b[1;34m(self, labels, axis, level, errors)\u001b[0m\n\u001b[0;32m   2560\u001b[0m                 \u001b[0mnew_axis\u001b[0m \u001b[1;33m=\u001b[0m \u001b[0maxis\u001b[0m\u001b[1;33m.\u001b[0m\u001b[0mdrop\u001b[0m\u001b[1;33m(\u001b[0m\u001b[0mlabels\u001b[0m\u001b[1;33m,\u001b[0m \u001b[0mlevel\u001b[0m\u001b[1;33m=\u001b[0m\u001b[0mlevel\u001b[0m\u001b[1;33m,\u001b[0m \u001b[0merrors\u001b[0m\u001b[1;33m=\u001b[0m\u001b[0merrors\u001b[0m\u001b[1;33m)\u001b[0m\u001b[1;33m\u001b[0m\u001b[0m\n\u001b[0;32m   2561\u001b[0m             \u001b[1;32melse\u001b[0m\u001b[1;33m:\u001b[0m\u001b[1;33m\u001b[0m\u001b[0m\n\u001b[1;32m-> 2562\u001b[1;33m                 \u001b[0mnew_axis\u001b[0m \u001b[1;33m=\u001b[0m \u001b[0maxis\u001b[0m\u001b[1;33m.\u001b[0m\u001b[0mdrop\u001b[0m\u001b[1;33m(\u001b[0m\u001b[0mlabels\u001b[0m\u001b[1;33m,\u001b[0m \u001b[0merrors\u001b[0m\u001b[1;33m=\u001b[0m\u001b[0merrors\u001b[0m\u001b[1;33m)\u001b[0m\u001b[1;33m\u001b[0m\u001b[0m\n\u001b[0m\u001b[0;32m   2563\u001b[0m             \u001b[0mdropped\u001b[0m \u001b[1;33m=\u001b[0m \u001b[0mself\u001b[0m\u001b[1;33m.\u001b[0m\u001b[0mreindex\u001b[0m\u001b[1;33m(\u001b[0m\u001b[1;33m**\u001b[0m\u001b[1;33m{\u001b[0m\u001b[0maxis_name\u001b[0m\u001b[1;33m:\u001b[0m \u001b[0mnew_axis\u001b[0m\u001b[1;33m}\u001b[0m\u001b[1;33m)\u001b[0m\u001b[1;33m\u001b[0m\u001b[0m\n\u001b[0;32m   2564\u001b[0m             \u001b[1;32mtry\u001b[0m\u001b[1;33m:\u001b[0m\u001b[1;33m\u001b[0m\u001b[0m\n",
      "\u001b[1;32m~\\Anaconda3\\lib\\site-packages\\pandas\\core\\indexes\\base.py\u001b[0m in \u001b[0;36mdrop\u001b[1;34m(self, labels, errors)\u001b[0m\n\u001b[0;32m   3742\u001b[0m             \u001b[1;32mif\u001b[0m \u001b[0merrors\u001b[0m \u001b[1;33m!=\u001b[0m \u001b[1;34m'ignore'\u001b[0m\u001b[1;33m:\u001b[0m\u001b[1;33m\u001b[0m\u001b[0m\n\u001b[0;32m   3743\u001b[0m                 raise ValueError('labels %s not contained in axis' %\n\u001b[1;32m-> 3744\u001b[1;33m                                  labels[mask])\n\u001b[0m\u001b[0;32m   3745\u001b[0m             \u001b[0mindexer\u001b[0m \u001b[1;33m=\u001b[0m \u001b[0mindexer\u001b[0m\u001b[1;33m[\u001b[0m\u001b[1;33m~\u001b[0m\u001b[0mmask\u001b[0m\u001b[1;33m]\u001b[0m\u001b[1;33m\u001b[0m\u001b[0m\n\u001b[0;32m   3746\u001b[0m         \u001b[1;32mreturn\u001b[0m \u001b[0mself\u001b[0m\u001b[1;33m.\u001b[0m\u001b[0mdelete\u001b[0m\u001b[1;33m(\u001b[0m\u001b[0mindexer\u001b[0m\u001b[1;33m)\u001b[0m\u001b[1;33m\u001b[0m\u001b[0m\n",
      "\u001b[1;31mValueError\u001b[0m: labels ['outcome'] not contained in axis"
     ]
    }
   ],
   "source": [
    "x_train, y_train = df_sample.drop(columns=['outcome']), df_sample.outcome"
   ]
  },
  {
   "cell_type": "code",
   "execution_count": 63,
   "metadata": {},
   "outputs": [
    {
     "data": {
      "text/plain": [
       "GradientBoostingClassifier(criterion='friedman_mse', init=None,\n",
       "              learning_rate=0.11, loss='deviance', max_depth=6,\n",
       "              max_features=None, max_leaf_nodes=None,\n",
       "              min_impurity_decrease=0.0, min_impurity_split=None,\n",
       "              min_samples_leaf=1, min_samples_split=1780,\n",
       "              min_weight_fraction_leaf=0.0, n_estimators=7, presort='auto',\n",
       "              random_state=20180320, subsample=0.8, verbose=0,\n",
       "              warm_start=False)"
      ]
     },
     "execution_count": 63,
     "metadata": {},
     "output_type": "execute_result"
    }
   ],
   "source": [
    "gdb = GradientBoostingClassifier(n_estimators=7, \n",
    "                                         max_depth=6,\n",
    "                                         min_samples_split=1780, \n",
    "                                         min_samples_leaf=1,\n",
    "                                         random_state=20180320,\n",
    "                                         subsample=0.8, \n",
    "                                         learning_rate=0.11)\n",
    "gdb.fit(x_train, y_train)"
   ]
  },
  {
   "cell_type": "code",
   "execution_count": 64,
   "metadata": {},
   "outputs": [],
   "source": [
    "predictions = gdb.predict(x_test)"
   ]
  },
  {
   "cell_type": "code",
   "execution_count": 65,
   "metadata": {},
   "outputs": [
    {
     "data": {
      "text/plain": [
       "0.9520026481297583"
      ]
     },
     "execution_count": 65,
     "metadata": {},
     "output_type": "execute_result"
    }
   ],
   "source": [
    "sum(np.array(predictions) == np.array(y_test))/len(y_test)"
   ]
  },
  {
   "cell_type": "code",
   "execution_count": 66,
   "metadata": {},
   "outputs": [
    {
     "name": "stdout",
     "output_type": "stream",
     "text": [
      "Plotting confusion matrix.\n",
      "Dispalying the plot.\n"
     ]
    },
    {
     "data": {
      "image/png": "[encoded data removed]",
      "text/plain": [
       "<Figure size 1080x720 with 2 Axes>"
      ]
     },
     "metadata": {},
     "output_type": "display_data"
    }
   ],
   "source": [
    "plot_confusion_matrix(predictions, y_test, title='')"
   ]
  },
  {
   "cell_type": "code",
   "execution_count": 23,
   "metadata": {},
   "outputs": [],
   "source": [
    "pd_sampled = pd_sampled.sample(frac=1).reset_index(drop=True)"
   ]
  },
  {
   "cell_type": "code",
   "execution_count": 25,
   "metadata": {},
   "outputs": [
    {
     "data": {
      "text/plain": [
       "GradientBoostingClassifier(criterion='friedman_mse', init=None,\n",
       "              learning_rate=0.11, loss='deviance', max_depth=6,\n",
       "              max_features=310, max_leaf_nodes=None,\n",
       "              min_impurity_decrease=0.0, min_impurity_split=None,\n",
       "              min_samples_leaf=1, min_samples_split=1780,\n",
       "              min_weight_fraction_leaf=0.0, n_estimators=7, presort='auto',\n",
       "              random_state=20180320, subsample=0.8, verbose=0,\n",
       "              warm_start=False)"
      ]
     },
     "execution_count": 25,
     "metadata": {},
     "output_type": "execute_result"
    }
   ],
   "source": [
    "gdb = GradientBoostingClassifier(n_estimators=7, \n",
    "                                         max_depth=6,\n",
    "                                         min_samples_split=1780, \n",
    "                                         min_samples_leaf=1,\n",
    "                                         random_state=20180320,\n",
    "                                         max_features=310, \n",
    "                                         subsample=0.8, \n",
    "                                         learning_rate=0.11)\n",
    "gdb.fit(pd_sampled.drop(columns=['outcome']), pd_sampled['outcome'])"
   ]
  },
  {
   "cell_type": "code",
   "execution_count": 9,
   "metadata": {},
   "outputs": [
    {
     "name": "stdout",
     "output_type": "stream",
     "text": [
      "Begin data cleaning.\n",
      "Read in data from ./bihar_features_gee.csv sucessfully.\n",
      "All dataframes and labels generated.\n",
      "Column Percentage Electrified does not exist\n",
      "Column Number of Electrified Households does not exist\n",
      "Column Unnamed: 0 does not exist\n",
      "Column Census 2011 ID does not exist\n",
      "Column Number_of_Households does not exist\n",
      "Column Percentage Electrified does not exist\n",
      "Column Number of Electrified Households does not exist\n",
      "Column Unnamed: 0 does not exist\n",
      "Column Census 2011 ID does not exist\n",
      "Column Number_of_Households does not exist\n",
      "Column Percentage Electrified does not exist\n",
      "Column Number of Electrified Households does not exist\n",
      "Column Unnamed: 0 does not exist\n",
      "Column Census 2011 ID does not exist\n",
      "Column Number_of_Households does not exist\n",
      "Deleting useless and predictive informative columns\n",
      "Data cleaning successful.\n",
      "NaN left: []\n",
      "NaN left: []\n",
      "NaN left: []\n"
     ]
    }
   ],
   "source": [
    "df_train = data_clean('./bihar_features_gee.csv')\n",
    "df_test = pd.read_csv('./up_VIIRS_features.csv')\n",
    "x_train, y_train = df_train['df'][0], df_train['label'][0]"
   ]
  },
  {
   "cell_type": "code",
   "execution_count": 10,
   "metadata": {},
   "outputs": [],
   "source": [
    "scaler = StandardScaler()\n",
    "features = [i for i in df_test.columns if i != 'label' and i in x_train.columns]\n",
    "x_train = scaler.fit_transform(x_train[features])\n",
    "x_test = scaler.fit_transform(df_test[features].fillna(-1))"
   ]
  },
  {
   "cell_type": "code",
   "execution_count": 11,
   "metadata": {},
   "outputs": [
    {
     "data": {
      "text/plain": [
       "GradientBoostingClassifier(criterion='friedman_mse', init=None,\n",
       "              learning_rate=0.11, loss='deviance', max_depth=6,\n",
       "              max_features=None, max_leaf_nodes=None,\n",
       "              min_impurity_decrease=0.0, min_impurity_split=None,\n",
       "              min_samples_leaf=1, min_samples_split=1780,\n",
       "              min_weight_fraction_leaf=0.0, n_estimators=7, presort='auto',\n",
       "              random_state=20180320, subsample=0.8, verbose=0,\n",
       "              warm_start=False)"
      ]
     },
     "execution_count": 11,
     "metadata": {},
     "output_type": "execute_result"
    }
   ],
   "source": [
    "gdb = GradientBoostingClassifier(n_estimators=7, \n",
    "                                         max_depth=6,\n",
    "                                         min_samples_split=1780, \n",
    "                                         min_samples_leaf=1,\n",
    "                                         random_state=20180320,\n",
    "                                         subsample=0.8, \n",
    "                                         learning_rate=0.11)\n",
    "        \n",
    "weighting = lambda x:1 if x else 20\n",
    "gdb.fit(x_train, y_train, sample_weight=[weighting(i) for i in y_train])"
   ]
  },
  {
   "cell_type": "code",
   "execution_count": 67,
   "metadata": {},
   "outputs": [],
   "source": [
    "predictions = gdb.predict(x_test)\n",
    "df_test = df_test.assign(prediction=predictions)"
   ]
  },
  {
   "cell_type": "code",
   "execution_count": 30,
   "metadata": {},
   "outputs": [],
   "source": [
    "df_test[['label', 'prediction']].to_csv('./prediction.csv')"
   ]
  },
  {
   "cell_type": "code",
   "execution_count": 68,
   "metadata": {},
   "outputs": [
    {
     "data": {
      "text/plain": [
       "(2432, 110)"
      ]
     },
     "execution_count": 68,
     "metadata": {},
     "output_type": "execute_result"
    }
   ],
   "source": [
    "df_test.shape"
   ]
  },
  {
   "cell_type": "code",
   "execution_count": 69,
   "metadata": {},
   "outputs": [],
   "source": [
    "from sklearn.feature_selection import SelectFromModel"
   ]
  },
  {
   "cell_type": "code",
   "execution_count": 70,
   "metadata": {},
   "outputs": [],
   "source": [
    "selection = SelectFromModel(gdb, prefit=True)"
   ]
  },
  {
   "cell_type": "code",
   "execution_count": 71,
   "metadata": {},
   "outputs": [],
   "source": [
    "x_train_1 = selection.transform(x_train)"
   ]
  },
  {
   "cell_type": "code",
   "execution_count": 72,
   "metadata": {},
   "outputs": [],
   "source": [
    "x_test_1 = selection.transform(x_test)"
   ]
  },
  {
   "cell_type": "code",
   "execution_count": 73,
   "metadata": {},
   "outputs": [
    {
     "data": {
      "text/plain": [
       "GradientBoostingClassifier(criterion='friedman_mse', init=None,\n",
       "              learning_rate=0.11, loss='deviance', max_depth=6,\n",
       "              max_features=None, max_leaf_nodes=None,\n",
       "              min_impurity_decrease=0.0, min_impurity_split=None,\n",
       "              min_samples_leaf=1, min_samples_split=1780,\n",
       "              min_weight_fraction_leaf=0.0, n_estimators=7, presort='auto',\n",
       "              random_state=20180320, subsample=0.8, verbose=0,\n",
       "              warm_start=False)"
      ]
     },
     "execution_count": 73,
     "metadata": {},
     "output_type": "execute_result"
    }
   ],
   "source": [
    "gdb.fit(x_train_1, y_train, sample_weight=[weighting(i) for i in y_train])"
   ]
  },
  {
   "cell_type": "code",
   "execution_count": 74,
   "metadata": {},
   "outputs": [],
   "source": [
    "predictions_1 = gdb.predict(x_test_1)"
   ]
  },
  {
   "cell_type": "code",
   "execution_count": 75,
   "metadata": {},
   "outputs": [],
   "source": [
    "pred_0 = pd.read_csv('./prediction.csv')['prediction']"
   ]
  },
  {
   "cell_type": "code",
   "execution_count": 76,
   "metadata": {},
   "outputs": [
    {
     "data": {
      "text/plain": [
       "126"
      ]
     },
     "execution_count": 76,
     "metadata": {},
     "output_type": "execute_result"
    }
   ],
   "source": [
    "sum(predictions_1 != pred_0)"
   ]
  },
  {
   "cell_type": "code",
   "execution_count": 77,
   "metadata": {},
   "outputs": [
    {
     "data": {
      "text/plain": [
       "243"
      ]
     },
     "execution_count": 77,
     "metadata": {},
     "output_type": "execute_result"
    }
   ],
   "source": [
    "sum(predictions_1 != predictions)"
   ]
  },
  {
   "cell_type": "code",
   "execution_count": 80,
   "metadata": {},
   "outputs": [
    {
     "name": "stdout",
     "output_type": "stream",
     "text": [
      "1\n",
      "13\n",
      "24\n",
      "35\n",
      "37\n",
      "43\n",
      "51\n",
      "53\n",
      "55\n",
      "56\n",
      "57\n",
      "58\n",
      "59\n",
      "61\n",
      "62\n",
      "63\n",
      "64\n",
      "68\n",
      "69\n",
      "73\n",
      "77\n",
      "80\n",
      "83\n",
      "85\n",
      "86\n",
      "88\n",
      "92\n",
      "95\n"
     ]
    }
   ],
   "source": [
    "feature_lst = []\n",
    "for i in range(x_train_1.shape[1]):\n",
    "    counter = 0\n",
    "    for j in range(x_train.shape[1]):\n",
    "        if sum(x_train_1[:,i] == x_train[:,j]) == x_train_1.shape[0]:\n",
    "            print(counter)\n",
    "            feature_lst.append(features[j])\n",
    "            break\n",
    "        counter += 1"
   ]
  },
  {
   "cell_type": "code",
   "execution_count": 81,
   "metadata": {},
   "outputs": [
    {
     "data": {
      "text/plain": [
       "['02VIIRS_10th',\n",
       " '02VIIRS_25th',\n",
       " '01VIIRS_75th',\n",
       " '12VIIRS_75th',\n",
       " '02VIIRS_90th',\n",
       " '08VIIRS_90th',\n",
       " '04VIIRS_MAX',\n",
       " '06VIIRS_MAX',\n",
       " '08VIIRS_MAX',\n",
       " '09VIIRS_MAX',\n",
       " '10VIIRS_MAX',\n",
       " '11VIIRS_MAX',\n",
       " '12VIIRS_MAX',\n",
       " '02VIIRS_MIN',\n",
       " '03VIIRS_MIN',\n",
       " '04VIIRS_MIN',\n",
       " '05VIIRS_MIN',\n",
       " '09VIIRS_MIN',\n",
       " '10VIIRS_MIN',\n",
       " '02VIIRS_MED',\n",
       " '06VIIRS_MED',\n",
       " '09VIIRS_MED',\n",
       " '12VIIRS_MED',\n",
       " '02VIIRS_STD_DEV',\n",
       " '03VIIRS_STD_DEV',\n",
       " '05VIIRS_STD_DEV',\n",
       " '09VIIRS_STD_DEV',\n",
       " '12VIIRS_STD_DEV']"
      ]
     },
     "execution_count": 81,
     "metadata": {},
     "output_type": "execute_result"
    }
   ],
   "source": [
    "feature_lst"
   ]
  },
  {
   "cell_type": "code",
   "execution_count": null,
   "metadata": {},
   "outputs": [],
   "source": []
  }
 ],
 "metadata": {
  "kernelspec": {
   "display_name": "Python 3",
   "language": "python",
   "name": "python3"
  },
  "language_info": {
   "codemirror_mode": {
    "name": "ipython",
    "version": 3
   },
   "file_extension": ".py",
   "mimetype": "text/x-python",
   "name": "python",
   "nbconvert_exporter": "python",
   "pygments_lexer": "ipython3",
   "version": "3.6.4"
  }
 },
 "nbformat": 4,
 "nbformat_minor": 2
}
