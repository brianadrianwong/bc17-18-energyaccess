{
 "cells": [
  {
   "cell_type": "code",
   "execution_count": 1,
   "metadata": {},
   "outputs": [],
   "source": [
    "from bce import *\n",
    "import numpy as np\n",
    "import pandas as pd\n",
    "import seaborn as sns\n",
    "\n",
    "%matplotlib inline"
   ]
  },
  {
   "cell_type": "code",
   "execution_count": 2,
   "metadata": {},
   "outputs": [],
   "source": [
    "from sklearn.metrics import f1_score, classification_report, precision_score, recall_score"
   ]
  },
  {
   "cell_type": "code",
   "execution_count": 3,
   "metadata": {},
   "outputs": [
    {
     "name": "stdout",
     "output_type": "stream",
     "text": [
      "Begin data cleaning.\n",
      "Read in data from ./bihar_features_gee.csv sucessfully.\n",
      "All dataframes and labels generated.\n",
      "Column Percentage Electrified does not exist\n",
      "Column Number of Electrified Households does not exist\n",
      "Column Unnamed: 0 does not exist\n",
      "Column Census 2011 ID does not exist\n",
      "Column Number_of_Households does not exist\n",
      "Column Percentage Electrified does not exist\n",
      "Column Number of Electrified Households does not exist\n",
      "Column Unnamed: 0 does not exist\n",
      "Column Census 2011 ID does not exist\n",
      "Column Number_of_Households does not exist\n",
      "Column Percentage Electrified does not exist\n",
      "Column Number of Electrified Households does not exist\n",
      "Column Unnamed: 0 does not exist\n",
      "Column Census 2011 ID does not exist\n",
      "Column Number_of_Households does not exist\n",
      "Deleting useless and predictive informative columns\n",
      "Data cleaning successful.\n",
      "NaN left: []\n",
      "NaN left: []\n",
      "NaN left: []\n"
     ]
    }
   ],
   "source": [
    "df_dict = data_clean('./bihar_features_gee.csv')"
   ]
  },
  {
   "cell_type": "code",
   "execution_count": 178,
   "metadata": {},
   "outputs": [
    {
     "name": "stdout",
     "output_type": "stream",
     "text": [
      "DF Scaling successful.\n"
     ]
    }
   ],
   "source": [
    "pred_dict = gdb_machine(df_dict['df'], df_dict['label'], penalty=20, scale=True)"
   ]
  },
  {
   "cell_type": "code",
   "execution_count": 179,
   "metadata": {},
   "outputs": [
    {
     "data": {
      "text/plain": [
       "dict_keys(['y_score', 'probaility', 'y_test', 'prediction'])"
      ]
     },
     "execution_count": 179,
     "metadata": {},
     "output_type": "execute_result"
    }
   ],
   "source": [
    "pred_dict.keys()"
   ]
  },
  {
   "cell_type": "code",
   "execution_count": 182,
   "metadata": {},
   "outputs": [
    {
     "name": "stdout",
     "output_type": "stream",
     "text": [
      "             precision    recall  f1-score   support\n",
      "\n",
      "      False       0.08      0.64      0.15       409\n",
      "       True       0.98      0.67      0.79      8654\n",
      "\n",
      "avg / total       0.93      0.67      0.76      9063\n",
      "\n"
     ]
    }
   ],
   "source": [
    "print(classification_report(y_true=pred_dict['y_test'][0], y_pred=pred_dict['prediction'][0]))"
   ]
  },
  {
   "cell_type": "code",
   "execution_count": 367,
   "metadata": {},
   "outputs": [],
   "source": [
    "def plot_confusion_matrix(pred, truth, title, save_path=None, color=None, normalize=False): \n",
    "    print('Plotting confusion matrix.')\n",
    "    sns.set(font_scale=2)\n",
    "    try:\n",
    "        conf_matrix = confusion_matrix(truth, pred)\n",
    "        if normalize:\n",
    "            conf_matrix = conf_matrix.astype('float') / conf_matrix.sum(axis=1)[:, np.newaxis]\n",
    "#             print(conf_matrix)\n",
    "    except:\n",
    "        raise ValueError('Confuction matrix generation failed.')\n",
    "    plt.figure(figsize=(5,5))\n",
    "    ticks = ['', '']\n",
    "    sns.heatmap(conf_matrix, annot=True, fmt='.1%', cbar=False,\n",
    "                xticklabels=ticks, \n",
    "                yticklabels=ticks,\n",
    "                annot_kws={\"size\":40}, \n",
    "                square=True, \n",
    "                cmap=color)\n",
    "#     plt.xlabel('Prediction', fontsize=20)\n",
    "#     plt.ylabel('Truth', fontsize=20)\n",
    "#     plt.title(title, fontsize=27)\n",
    "    if save_path==None:\n",
    "        print('Dispalying the plot.')\n",
    "        plt.show()\n",
    "    else:\n",
    "        print('Saving to %s' % (save_path))\n",
    "        plt.savefig(save_path)\n",
    "        plt.close()"
   ]
  },
  {
   "cell_type": "code",
   "execution_count": 368,
   "metadata": {},
   "outputs": [
    {
     "name": "stdout",
     "output_type": "stream",
     "text": [
      "Plotting confusion matrix.\n",
      "Saving to ./cunfusion matrix norm 0.png\n",
      "Plotting confusion matrix.\n",
      "Saving to ./cunfusion matrix norm 1.png\n",
      "Plotting confusion matrix.\n",
      "Saving to ./cunfusion matrix norm 2.png\n"
     ]
    }
   ],
   "source": [
    "colors = ['Oranges', 'Blues', 'Purples']\n",
    "titles=['All Villages', 'Villages with over 100 Households', 'Villages with over 400 Households']\n",
    "for i in range(3):\n",
    "    plot_confusion_matrix(pred=pred_dict['prediction'][i], \n",
    "                          truth=pred_dict['y_test'][i], \n",
    "                          title='{}'.format(titles[i]), \n",
    "                          color=colors[i],\n",
    "                          normalize=True,\n",
    "                          save_path='./cunfusion matrix norm {}.png'.format(i))"
   ]
  },
  {
   "cell_type": "code",
   "execution_count": 374,
   "metadata": {},
   "outputs": [
    {
     "name": "stdout",
     "output_type": "stream",
     "text": [
      "0.7926469579532204\n",
      "0.6912850812407682\n",
      "0.803968253968254\n"
     ]
    }
   ],
   "source": [
    "for i in range(3):\n",
    "    print(f1_score(pred_dict['prediction'][i], pred_dict['y_test'][i]))"
   ]
  },
  {
   "cell_type": "code",
   "execution_count": 371,
   "metadata": {},
   "outputs": [],
   "source": [
    "# plt.set_facecolor(\"white\")\n",
    "plt.rcParams[\"axes.edgecolor\"] = \"0.15\"\n",
    "plt.rcParams[\"axes.linewidth\"]  = 1.25"
   ]
  },
  {
   "cell_type": "code",
   "execution_count": 194,
   "metadata": {},
   "outputs": [
    {
     "data": {
      "text/plain": [
       "0.3594132029339854"
      ]
     },
     "execution_count": 194,
     "metadata": {},
     "output_type": "execute_result"
    }
   ],
   "source": [
    "1-recall_score(y_pred=pred_dict['prediction'][0], y_true=pred_dict['y_test'][0], pos_label=0)"
   ]
  },
  {
   "cell_type": "code",
   "execution_count": 195,
   "metadata": {},
   "outputs": [
    {
     "data": {
      "text/plain": [
       "0.6676681303443495"
      ]
     },
     "execution_count": 195,
     "metadata": {},
     "output_type": "execute_result"
    }
   ],
   "source": [
    "recall_score(y_pred=pred_dict['prediction'][0], y_true=pred_dict['y_test'][0], pos_label=1)"
   ]
  },
  {
   "cell_type": "code",
   "execution_count": 372,
   "metadata": {},
   "outputs": [],
   "source": [
    "def plot_roc_curve(pred_dict, filter_list, save_path=None, colors = None):\n",
    "#     print('Plotting ROC/AUC plot.')\n",
    "#     plt.style.use('presentation')\n",
    "#     plt.figure(figsize=(15,15))551A8B\n",
    "    fig, ax = plt.subplots(figsize=(12,12))\n",
    "    ax.set_facecolor(\"white\")\n",
    "    plt.rcParams[\"axes.edgecolor\"] = \"0.15\"\n",
    "    plt.rcParams[\"axes.linewidth\"]  = 1.25\n",
    "    if filter_list == None or len(filter_list) != len(pred_dict['y_test']):\n",
    "        filter_list = [str(i) for i in range(len(pred_dict['y_test']))]\n",
    "\n",
    "    counter = 0\n",
    "    for test, prob, filter_title in zip(pred_dict['y_test'], pred_dict['probaility'], filter_list):\n",
    "        fpr, tpr, thresholds = roc_curve(test, prob)\n",
    "        ax.plot(fpr, tpr,label=str(filter_title)+\" (AUC =\"+str(roc_auc_score(test, prob).round(3))+\")\", color = colors[counter])\n",
    "        counter += 1\n",
    "    \n",
    "    ax.plot([0, 1], [0, 1], color='lightgrey', lw=2, linestyle='--', label=\"Chance\")\n",
    "    \n",
    "    for i in range(3):\n",
    "        sensitivity = recall_score(y_pred=pred_dict['prediction'][i], y_true=pred_dict['y_test'][i], pos_label=1)\n",
    "        specificity = recall_score(y_pred=pred_dict['prediction'][i], y_true=pred_dict['y_test'][i], pos_label=0)\n",
    "        if i == -1:\n",
    "            ax.plot(1-specificity, sensitivity, marker='o', color='darkblue', ms=10, label=\"Confusion Matrix\")\n",
    "        else:\n",
    "            ax.plot(1-specificity, sensitivity, marker='o', color='darkblue', ms=10)\n",
    "    \n",
    "    plt.legend(loc=4, fontsize=20, fancybox=True)\n",
    "    plt.xlabel('False Alarm Rate', fontsize=25)\n",
    "    plt.ylabel('Correct Detection Rate', fontsize=25)\n",
    "    plt.xlim(0,1)\n",
    "    plt.ylim(0,1)\n",
    "    plt.title('Gradient Boosting Classification ROC Curve', fontsize=30)\n",
    "    if save_path==None:\n",
    "        print('Dispalying the plot.')\n",
    "        plt.show()\n",
    "    else:\n",
    "        print('Saving to %s' % (save_path))\n",
    "        plt.savefig(save_path, transparent=True)\n",
    "        plt.close()"
   ]
  },
  {
   "cell_type": "code",
   "execution_count": 373,
   "metadata": {},
   "outputs": [
    {
     "name": "stdout",
     "output_type": "stream",
     "text": [
      "Saving to ./roc.png\n"
     ]
    }
   ],
   "source": [
    "colors = ['#F25F3A', '#3B7DD8', '#551A8B']\n",
    "plot_roc_curve(pred_dict=pred_dict, \n",
    "               filter_list=titles, \n",
    "               colors=colors,\n",
    "               save_path='./roc.png')"
   ]
  },
  {
   "cell_type": "code",
   "execution_count": 35,
   "metadata": {},
   "outputs": [],
   "source": [
    "cm1 = confusion_matrix(pred_dict['prediction'][0], pred_dict['y_test'][0])\n",
    "sensitivity = cm1[0,0]/(cm1[0,0]+cm1[0,1])\n",
    "specificity = cm1[1,1]/(cm1[1,0]+cm1[1,1])"
   ]
  },
  {
   "cell_type": "code",
   "execution_count": 4,
   "metadata": {},
   "outputs": [
    {
     "name": "stdout",
     "output_type": "stream",
     "text": [
      "Begin data cleaning.\n",
      "Read in data from ./bihar_features_gee.csv sucessfully.\n",
      "All dataframes and labels generated.\n",
      "Column Percentage Electrified does not exist\n",
      "Column Number of Electrified Households does not exist\n",
      "Column Unnamed: 0 does not exist\n",
      "Column Census 2011 ID does not exist\n",
      "Column Number_of_Households does not exist\n",
      "Column Percentage Electrified does not exist\n",
      "Column Number of Electrified Households does not exist\n",
      "Column Unnamed: 0 does not exist\n",
      "Column Census 2011 ID does not exist\n",
      "Column Number_of_Households does not exist\n",
      "Column Percentage Electrified does not exist\n",
      "Column Number of Electrified Households does not exist\n",
      "Column Unnamed: 0 does not exist\n",
      "Column Census 2011 ID does not exist\n",
      "Column Number_of_Households does not exist\n",
      "Deleting useless and predictive informative columns\n",
      "Data cleaning successful.\n",
      "NaN left: []\n",
      "NaN left: []\n",
      "NaN left: []\n"
     ]
    }
   ],
   "source": [
    "df = data_clean('./bihar_features_gee.csv')"
   ]
  },
  {
   "cell_type": "code",
   "execution_count": 5,
   "metadata": {},
   "outputs": [],
   "source": [
    "new_df = df['df'][0].assign(label = df['label'][0])"
   ]
  },
  {
   "cell_type": "code",
   "execution_count": 6,
   "metadata": {},
   "outputs": [],
   "source": [
    "del df"
   ]
  },
  {
   "cell_type": "code",
   "execution_count": 7,
   "metadata": {},
   "outputs": [],
   "source": [
    "features = [i for i in new_df.columns if 'DEV' not in i]\n",
    "cates = ['VIIRS', 'NDVI', 'EVI', 'B', 'POP_DENS']"
   ]
  },
  {
   "cell_type": "code",
   "execution_count": 8,
   "metadata": {},
   "outputs": [
    {
     "data": {
      "text/html": [
       "<div>\n",
       "<style scoped>\n",
       "    .dataframe tbody tr th:only-of-type {\n",
       "        vertical-align: middle;\n",
       "    }\n",
       "\n",
       "    .dataframe tbody tr th {\n",
       "        vertical-align: top;\n",
       "    }\n",
       "\n",
       "    .dataframe thead th {\n",
       "        text-align: right;\n",
       "    }\n",
       "</style>\n",
       "<table border=\"1\" class=\"dataframe\">\n",
       "  <thead>\n",
       "    <tr style=\"text-align: right;\">\n",
       "      <th></th>\n",
       "      <th>01VIIRS_10th</th>\n",
       "      <th>02VIIRS_10th</th>\n",
       "      <th>03VIIRS_10th</th>\n",
       "      <th>04VIIRS_10th</th>\n",
       "      <th>05VIIRS_10th</th>\n",
       "      <th>06VIIRS_10th</th>\n",
       "      <th>07VIIRS_10th</th>\n",
       "      <th>08VIIRS_10th</th>\n",
       "      <th>09VIIRS_10th</th>\n",
       "      <th>10VIIRS_10th</th>\n",
       "      <th>...</th>\n",
       "      <th>B1_STD_DEV</th>\n",
       "      <th>B10_STD_DEV</th>\n",
       "      <th>B11_STD_DEV</th>\n",
       "      <th>B2_STD_DEV</th>\n",
       "      <th>B3_STD_DEV</th>\n",
       "      <th>B4_STD_DEV</th>\n",
       "      <th>B5_STD_DEV</th>\n",
       "      <th>B6_STD_DEV</th>\n",
       "      <th>B7_STD_DEV</th>\n",
       "      <th>label</th>\n",
       "    </tr>\n",
       "  </thead>\n",
       "  <tbody>\n",
       "    <tr>\n",
       "      <th>0</th>\n",
       "      <td>0.128546</td>\n",
       "      <td>0.112756</td>\n",
       "      <td>0.181673</td>\n",
       "      <td>0.317506</td>\n",
       "      <td>0.324429</td>\n",
       "      <td>0.166385</td>\n",
       "      <td>0.081444</td>\n",
       "      <td>0.330875</td>\n",
       "      <td>0.313948</td>\n",
       "      <td>0.271061</td>\n",
       "      <td>...</td>\n",
       "      <td>0.008436</td>\n",
       "      <td>0.000474</td>\n",
       "      <td>0.000857</td>\n",
       "      <td>0.006898</td>\n",
       "      <td>0.007585</td>\n",
       "      <td>0.007246</td>\n",
       "      <td>0.042781</td>\n",
       "      <td>0.019932</td>\n",
       "      <td>0.010010</td>\n",
       "      <td>False</td>\n",
       "    </tr>\n",
       "    <tr>\n",
       "      <th>1</th>\n",
       "      <td>0.171615</td>\n",
       "      <td>0.205894</td>\n",
       "      <td>0.292313</td>\n",
       "      <td>0.594368</td>\n",
       "      <td>0.355164</td>\n",
       "      <td>0.224136</td>\n",
       "      <td>0.075828</td>\n",
       "      <td>0.275970</td>\n",
       "      <td>0.394381</td>\n",
       "      <td>0.371865</td>\n",
       "      <td>...</td>\n",
       "      <td>0.015743</td>\n",
       "      <td>0.001682</td>\n",
       "      <td>0.002017</td>\n",
       "      <td>0.017854</td>\n",
       "      <td>0.023801</td>\n",
       "      <td>0.029072</td>\n",
       "      <td>0.074969</td>\n",
       "      <td>0.043832</td>\n",
       "      <td>0.027392</td>\n",
       "      <td>True</td>\n",
       "    </tr>\n",
       "    <tr>\n",
       "      <th>2</th>\n",
       "      <td>0.043099</td>\n",
       "      <td>0.077040</td>\n",
       "      <td>0.170996</td>\n",
       "      <td>0.179324</td>\n",
       "      <td>0.291569</td>\n",
       "      <td>0.161928</td>\n",
       "      <td>0.019642</td>\n",
       "      <td>0.212817</td>\n",
       "      <td>0.301709</td>\n",
       "      <td>0.305066</td>\n",
       "      <td>...</td>\n",
       "      <td>0.023320</td>\n",
       "      <td>0.001737</td>\n",
       "      <td>0.001726</td>\n",
       "      <td>0.027221</td>\n",
       "      <td>0.034742</td>\n",
       "      <td>0.043921</td>\n",
       "      <td>0.086157</td>\n",
       "      <td>0.054006</td>\n",
       "      <td>0.043298</td>\n",
       "      <td>True</td>\n",
       "    </tr>\n",
       "    <tr>\n",
       "      <th>3</th>\n",
       "      <td>0.419949</td>\n",
       "      <td>0.381883</td>\n",
       "      <td>0.491086</td>\n",
       "      <td>0.876705</td>\n",
       "      <td>0.542789</td>\n",
       "      <td>0.226300</td>\n",
       "      <td>0.147114</td>\n",
       "      <td>0.297863</td>\n",
       "      <td>0.693142</td>\n",
       "      <td>0.793092</td>\n",
       "      <td>...</td>\n",
       "      <td>0.012286</td>\n",
       "      <td>0.001196</td>\n",
       "      <td>0.001456</td>\n",
       "      <td>0.013462</td>\n",
       "      <td>0.018037</td>\n",
       "      <td>0.019069</td>\n",
       "      <td>0.087061</td>\n",
       "      <td>0.042743</td>\n",
       "      <td>0.023066</td>\n",
       "      <td>True</td>\n",
       "    </tr>\n",
       "    <tr>\n",
       "      <th>4</th>\n",
       "      <td>0.204294</td>\n",
       "      <td>0.180164</td>\n",
       "      <td>0.262577</td>\n",
       "      <td>0.376620</td>\n",
       "      <td>0.400297</td>\n",
       "      <td>0.227038</td>\n",
       "      <td>0.006545</td>\n",
       "      <td>0.234676</td>\n",
       "      <td>0.432030</td>\n",
       "      <td>0.329797</td>\n",
       "      <td>...</td>\n",
       "      <td>0.012365</td>\n",
       "      <td>0.001090</td>\n",
       "      <td>0.001329</td>\n",
       "      <td>0.012730</td>\n",
       "      <td>0.016276</td>\n",
       "      <td>0.017785</td>\n",
       "      <td>0.079940</td>\n",
       "      <td>0.036686</td>\n",
       "      <td>0.019230</td>\n",
       "      <td>True</td>\n",
       "    </tr>\n",
       "  </tbody>\n",
       "</table>\n",
       "<p>5 rows × 369 columns</p>\n",
       "</div>"
      ],
      "text/plain": [
       "   01VIIRS_10th  02VIIRS_10th  03VIIRS_10th  04VIIRS_10th  05VIIRS_10th  \\\n",
       "0      0.128546      0.112756      0.181673      0.317506      0.324429   \n",
       "1      0.171615      0.205894      0.292313      0.594368      0.355164   \n",
       "2      0.043099      0.077040      0.170996      0.179324      0.291569   \n",
       "3      0.419949      0.381883      0.491086      0.876705      0.542789   \n",
       "4      0.204294      0.180164      0.262577      0.376620      0.400297   \n",
       "\n",
       "   06VIIRS_10th  07VIIRS_10th  08VIIRS_10th  09VIIRS_10th  10VIIRS_10th  \\\n",
       "0      0.166385      0.081444      0.330875      0.313948      0.271061   \n",
       "1      0.224136      0.075828      0.275970      0.394381      0.371865   \n",
       "2      0.161928      0.019642      0.212817      0.301709      0.305066   \n",
       "3      0.226300      0.147114      0.297863      0.693142      0.793092   \n",
       "4      0.227038      0.006545      0.234676      0.432030      0.329797   \n",
       "\n",
       "   ...    B1_STD_DEV  B10_STD_DEV  B11_STD_DEV  B2_STD_DEV  B3_STD_DEV  \\\n",
       "0  ...      0.008436     0.000474     0.000857    0.006898    0.007585   \n",
       "1  ...      0.015743     0.001682     0.002017    0.017854    0.023801   \n",
       "2  ...      0.023320     0.001737     0.001726    0.027221    0.034742   \n",
       "3  ...      0.012286     0.001196     0.001456    0.013462    0.018037   \n",
       "4  ...      0.012365     0.001090     0.001329    0.012730    0.016276   \n",
       "\n",
       "   B4_STD_DEV  B5_STD_DEV  B6_STD_DEV  B7_STD_DEV  label  \n",
       "0    0.007246    0.042781    0.019932    0.010010  False  \n",
       "1    0.029072    0.074969    0.043832    0.027392   True  \n",
       "2    0.043921    0.086157    0.054006    0.043298   True  \n",
       "3    0.019069    0.087061    0.042743    0.023066   True  \n",
       "4    0.017785    0.079940    0.036686    0.019230   True  \n",
       "\n",
       "[5 rows x 369 columns]"
      ]
     },
     "execution_count": 8,
     "metadata": {},
     "output_type": "execute_result"
    }
   ],
   "source": [
    "new_df.head()"
   ]
  },
  {
   "cell_type": "code",
   "execution_count": 9,
   "metadata": {},
   "outputs": [
    {
     "data": {
      "text/plain": [
       "{'B': 0.14532661104327077,\n",
       " 'EVI': 0.18747993486139472,\n",
       " 'NDVI': 0.33200667347047663,\n",
       " 'POP_DENS': 1133.5212350448433,\n",
       " 'VIIRS': 0.873124998971638}"
      ]
     },
     "execution_count": 9,
     "metadata": {},
     "output_type": "execute_result"
    }
   ],
   "source": [
    "df_1 = new_df[new_df.label == True]\n",
    "dic_1 = {}\n",
    "for i in features:\n",
    "    for j in cates:\n",
    "        if j in i:\n",
    "            if j not in dic_1:\n",
    "                dic_1[j] = []\n",
    "            dic_1[j].append(np.mean(df_1[i]))\n",
    "for i in dic_1:\n",
    "    dic_1[i] = np.mean(dic_1[i])\n",
    "dic_1"
   ]
  },
  {
   "cell_type": "code",
   "execution_count": 10,
   "metadata": {},
   "outputs": [
    {
     "data": {
      "text/plain": [
       "{'B': 0.14735944544220966,\n",
       " 'EVI': 0.188167712194117,\n",
       " 'NDVI': 0.33147480921859807,\n",
       " 'POP_DENS': 864.1795994373143,\n",
       " 'VIIRS': 0.6248844423811355}"
      ]
     },
     "execution_count": 10,
     "metadata": {},
     "output_type": "execute_result"
    }
   ],
   "source": [
    "df_2 = new_df[new_df.label == False]\n",
    "dic_2 = {}\n",
    "for i in features:\n",
    "    for j in cates:\n",
    "        if j in i:\n",
    "            if j not in dic_2:\n",
    "                dic_2[j] = []\n",
    "            dic_2[j].append(np.mean(df_2[i]))\n",
    "for i in dic_2:\n",
    "    dic_2[i] = np.mean(dic_2[i])\n",
    "dic_2"
   ]
  },
  {
   "cell_type": "code",
   "execution_count": 11,
   "metadata": {},
   "outputs": [],
   "source": [
    "var = [i for i in new_df.columns if 'DEV' in i]"
   ]
  },
  {
   "cell_type": "code",
   "execution_count": 12,
   "metadata": {},
   "outputs": [
    {
     "data": {
      "text/plain": [
       "{'B': 0.019911403941579534,\n",
       " 'EVI': -0.10682716170618739,\n",
       " 'NDVI': -0.0977458664563332,\n",
       " 'POP_DENS': 378.1970465951153,\n",
       " 'VIIRS': 0.11193612011700373}"
      ]
     },
     "execution_count": 12,
     "metadata": {},
     "output_type": "execute_result"
    }
   ],
   "source": [
    "df_1 = new_df[new_df.label == True]\n",
    "dic_1_var = {}\n",
    "for i in var:\n",
    "    for j in cates:\n",
    "        if j in i:\n",
    "            if j not in dic_1_var:\n",
    "                dic_1_var[j] = []\n",
    "            dic_1_var[j].append(np.mean(df_1[i]))\n",
    "for i in dic_1_var:\n",
    "    dic_1_var[i] = np.mean(dic_1_var[i])\n",
    "dic_1_var"
   ]
  },
  {
   "cell_type": "code",
   "execution_count": 13,
   "metadata": {},
   "outputs": [
    {
     "data": {
      "text/plain": [
       "{'B': 0.022063287924734522,\n",
       " 'EVI': -0.09388198017948718,\n",
       " 'NDVI': -0.08415121169467754,\n",
       " 'POP_DENS': 326.85558765016594,\n",
       " 'VIIRS': 0.10152319488100235}"
      ]
     },
     "execution_count": 13,
     "metadata": {},
     "output_type": "execute_result"
    }
   ],
   "source": [
    "df_2 = new_df[new_df.label == False]\n",
    "dic_2_var = {}\n",
    "for i in var:\n",
    "    for j in cates:\n",
    "        if j in i:\n",
    "            if j not in dic_2_var:\n",
    "                dic_2_var[j] = []\n",
    "            dic_2_var[j].append(np.mean(df_2[i]))\n",
    "for i in dic_2_var:\n",
    "    dic_2_var[i] = np.mean(dic_2_var[i])\n",
    "dic_2_var"
   ]
  },
  {
   "cell_type": "code",
   "execution_count": 14,
   "metadata": {},
   "outputs": [],
   "source": [
    "dic_1['POP_DENS'] = dic_1['POP_DENS']/1000\n",
    "dic_2['POP_DENS'] = dic_2['POP_DENS']/1000\n",
    "dic_1_var['POP_DENS'] = dic_1_var['POP_DENS']/1000\n",
    "dic_2_var['POP_DENS'] = dic_2_var['POP_DENS']/1000"
   ]
  },
  {
   "cell_type": "code",
   "execution_count": 15,
   "metadata": {},
   "outputs": [],
   "source": [
    "bar_width = 0.25\n",
    "index = np.arange(5)\n",
    "error_config = {'ecolor': '0.3', 'capsize':5, 'elinewidth':2, 'markeredgewidth':2}\n",
    "plt.figure(figsize=(10,5))\n",
    "cates = ['VIIRS', 'NDVI', 'EVI', 'B', 'POP_DENS']\n",
    "labels = ['Lights at Night', \n",
    "          'Green Vegetation', \n",
    "          'Enhanced\\nGreen Vegetation',\n",
    "          'Light Spectrum', \n",
    "          'Population Density']\n",
    "# labels = ['VIIRS\\nVisible Infrared\\nImaging Radiometer Suite\\n'+r'$\\log(rad)/(cm^2\\cdot sr)$', \n",
    "#           'NDVI\\nNormalized Difference\\nVegetation Index\\n(-1, 1)', \n",
    "#           'EVI\\nEnhanced Vegetation Index\\n(-1, 1)', \n",
    "#           'SB\\nSpectral Bands/%', \n",
    "#           'Population Density\\n'+r'$n(persons)/0.01km^2$']\n",
    "\n",
    "rects1 = plt.bar(index, [dic_2[cates[i]] for i in index], bar_width,\n",
    "                 color='skyblue',\n",
    "                 yerr=[dic_2_var[cates[i]] for i in index],\n",
    "                 error_kw=error_config,\n",
    "                 label='Unelectrified')\n",
    "for i in index:\n",
    "    plt.text(i-bar_width/2-.01, \n",
    "             dic_2[cates[i]] + abs(dic_2_var[cates[i]]) + .05, \n",
    "             '%.2f' % dic_2[cates[i]], fontsize=15)\n",
    "    \n",
    "rects2 = plt.bar(index + bar_width, [dic_1[cates[i]] for i in index], bar_width,\n",
    "                 color='lightslategrey',\n",
    "                 yerr=[dic_1_var[cates[i]] for i in index],\n",
    "                 error_kw=error_config,\n",
    "                 label='Electrified')\n",
    "\n",
    "for i in index:\n",
    "    plt.text(i+bar_width/2-.01, \n",
    "             dic_1[cates[i]] + abs(dic_1_var[cates[i]]) + .05, \n",
    "             '%.2f' % dic_1[cates[i]], fontsize=15)\n",
    "\n",
    "# plt.set_facecolor(\"white\")\n",
    "# plt.ylim(0,2)\n",
    "# plt.xlabel('Feature')\n",
    "plt.ylabel('Average Feature Value')\n",
    "# plt.title('Normalized Average Feature Value', fontsize=25)\n",
    "plt.xticks(index + bar_width / 2, labels, fontsize=14)\n",
    "plt.legend(bbox_to_anchor=(.2, 1))\n",
    "\n",
    "# rects1.text([1,2,3,4,5])\n",
    "\n",
    "plt.tight_layout()\n",
    "# plt.show() \n",
    "plt.savefig('./feature avg.png', transparent=True)\n",
    "plt.close()"
   ]
  },
  {
   "cell_type": "code",
   "execution_count": 16,
   "metadata": {},
   "outputs": [],
   "source": [
    "import re\n",
    "gdb_importances = pd.read_csv('./gdb_feature_impor.csv')"
   ]
  },
  {
   "cell_type": "code",
   "execution_count": 17,
   "metadata": {},
   "outputs": [],
   "source": [
    "gdb_importances = gdb_importances.assign(cate = gdb_importances.names.apply(lambda x: re.findall(r'VIIRS|EVI|POP_DENS|B|NDVI', x)[0]))"
   ]
  },
  {
   "cell_type": "code",
   "execution_count": 18,
   "metadata": {},
   "outputs": [],
   "source": [
    "cate_dict = {}\n",
    "for c in gdb_importances.cate.unique():\n",
    "    cate_dict[c] = [np.mean([i for i in gdb_importances[gdb_importances.cate == c].importance]),\n",
    "                    np.std([i for i in gdb_importances[gdb_importances.cate == c].importance])]\n",
    "\n",
    "    \n",
    "plt.figure(figsize=(12,5))\n",
    "\n",
    "labels = ['Lights at Night', \n",
    "          'Green Vegetation', \n",
    "          'Enhanced\\nGreen Vegetation',\n",
    "          'Light Spectrum', \n",
    "          'Population Density']\n",
    "\n",
    "error_config = {'ecolor': '0.3', 'capsize':5, 'elinewidth':2, 'markeredgewidth':2}\n",
    "plt.bar(index, [cate_dict[i][0] for i in cates], \n",
    "        bar_width+.2 ,  # elinewidth=2, # markeredgewidth=2,\n",
    "        yerr=[cate_dict[i][1] for i in cates], \n",
    "        error_kw=error_config)\n",
    "\n",
    "# plt.errorbar(index, [cate_dict[i][0] for i in cates], \n",
    "#              yerr=[cate_dict[i][1] for i in cates], capsize=5,\n",
    "#              elinewidth=2,\n",
    "#              markeredgewidth=2)\n",
    "\n",
    "for i in index:\n",
    "    plt.text(i-bar_width/2-.05, \n",
    "             1.05 * cate_dict[cates[i]][0] + cate_dict[cates[i]][1], \n",
    "             '%.4f' % cate_dict[cates[i]][0], fontsize=15)\n",
    "\n",
    "plt.ylim(0,0.015)\n",
    "plt.ylabel('Importance Score')\n",
    "plt.xlabel('Feature')\n",
    "plt.xticks(index, labels, fontsize=10)\n",
    "plt.title('Mean Feature Importance')\n",
    "# plt.show()\n",
    "plt.savefig('./feature impor.png', transparent=True)\n",
    "plt.close()"
   ]
  },
  {
   "cell_type": "code",
   "execution_count": 266,
   "metadata": {},
   "outputs": [
    {
     "data": {
      "text/plain": [
       "{'B': [0.004973200587162058, 0.00397167158419724],\n",
       " 'EVI': [0.0038313120132252867, 0.0033187081373105437],\n",
       " 'NDVI': [0.0029085583121521226, 0.0022066177709323194],\n",
       " 'POP_DENS': [0.009313007351139985, 0.0017293874748898525],\n",
       " 'VIIRS': [0.00424094817576092, 0.0032223799044893107]}"
      ]
     },
     "execution_count": 266,
     "metadata": {},
     "output_type": "execute_result"
    }
   ],
   "source": [
    "cate_dict"
   ]
  },
  {
   "cell_type": "code",
   "execution_count": 19,
   "metadata": {},
   "outputs": [
    {
     "data": {
      "text/plain": [
       "(45311, 369)"
      ]
     },
     "execution_count": 19,
     "metadata": {},
     "output_type": "execute_result"
    }
   ],
   "source": [
    "new_df.shape"
   ]
  },
  {
   "cell_type": "code",
   "execution_count": null,
   "metadata": {},
   "outputs": [],
   "source": []
  }
 ],
 "metadata": {
  "kernelspec": {
   "display_name": "Python 3",
   "language": "python",
   "name": "python3"
  },
  "language_info": {
   "codemirror_mode": {
    "name": "ipython",
    "version": 3
   },
   "file_extension": ".py",
   "mimetype": "text/x-python",
   "name": "python",
   "nbconvert_exporter": "python",
   "pygments_lexer": "ipython3",
   "version": "3.4.3"
  }
 },
 "nbformat": 4,
 "nbformat_minor": 2
}
