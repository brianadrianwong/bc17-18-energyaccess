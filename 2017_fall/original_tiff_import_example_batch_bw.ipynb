{
 "cells": [
  {
   "cell_type": "code",
   "execution_count": null,
   "metadata": {
    "collapsed": true
   },
   "outputs": [],
   "source": [
    "'''\n",
    "This script tests the import and conversion of a 1) geotiff and 2) masking tif into an array , then the isolation\n",
    "of band-48 (VIIRS), the application of the mask, and the calculations of the village's 'Percent Electrified'\n",
    "and 'Lights at Night' values that is the mean radiance for the village.\n",
    "\n",
    "To make sure this would run on multiple images, the script is then run on 8 images.\n",
    "'''"
   ]
  },
  {
   "cell_type": "code",
   "execution_count": 16,
   "metadata": {
    "collapsed": true
   },
   "outputs": [],
   "source": [
    "import gdal\n",
    "import numpy as np\n",
    "import matplotlib.pyplot as plt\n",
    "import pandas as pd\n",
    "import os\n",
    "\n",
    "VIIRS_IMAGE = \"VIIRS_Bihar(vil)-Hill Block-243488.tif\"\n",
    "MASK_IMAGE = \"MASK_Bihar(vil)-Hill Block-243488.tif\""
   ]
  },
  {
   "cell_type": "code",
   "execution_count": 6,
   "metadata": {},
   "outputs": [
    {
     "name": "stdout",
     "output_type": "stream",
     "text": [
      "min: 0.0213383\n",
      "max: 3.11945\n",
      "viirs: [[ 0.9211551   0.9211551   0.46709347  0.46709347  0.46709347  0.46709347\n",
      "   0.46709347  0.46709347  0.46709347  0.46709347  0.46709347  0.46709347\n",
      "   0.46709347  0.46709347  0.46709347  0.46709347  0.46709347  0.32264999\n",
      "   0.32264999  0.32264999  0.32264999  0.32264999  0.32264999  0.32264999\n",
      "   0.32264999  0.32264999  0.32264999  0.32264999  0.32264999  0.32264999\n",
      "   0.32264999  0.32264999  0.32264999  0.29740924  0.29740924  0.29740924\n",
      "   0.29740924  0.29740924  0.29740924  0.29740924  0.29740924  0.29740924\n",
      "   0.29740924  0.29740924  0.29740924  0.29740924  0.29740924  0.29740924\n",
      "   0.28254968  0.28254968  0.28254968  0.28254968  0.28254968  0.28254968\n",
      "   0.28254968  0.28254968  0.28254968  0.28254968  0.28254968  0.28254968\n",
      "   0.28254968  0.28254968  0.28254968  0.28254968  0.26498356  0.26498356\n",
      "   0.26498356  0.26498356  0.26498356  0.26498356  0.26498356  0.26498356\n",
      "   0.26498356  0.26498356  0.26498356  0.26498356  0.26498356  0.26498356\n",
      "   0.26498356  0.27024245  0.27024245  0.27024245  0.27024245  0.27024245\n",
      "   0.27024245  0.27024245  0.27024245  0.27024245  0.27024245  0.27024245\n",
      "   0.27024245  0.27024245  0.27024245  0.27024245  0.279715    0.279715\n",
      "   0.279715    0.279715    0.279715    0.279715    0.279715    0.279715\n",
      "   0.279715    0.279715    0.279715    0.279715    0.279715    0.279715\n",
      "   0.279715    0.279715    0.25267863  0.25267863  0.25267863  0.25267863\n",
      "   0.25267863  0.25267863  0.25267863  0.25267863  0.25267863  0.25267863\n",
      "   0.25267863  0.25267863  0.25267863  0.25267863  0.25267863  0.25063241\n",
      "   0.25063241  0.25063241  0.25063241  0.25063241  0.25063241  0.25063241\n",
      "   0.25063241  0.25063241  0.25063241  0.25063241  0.25063241  0.25063241\n",
      "   0.25063241  0.25063241  0.25063241  0.29308069  0.29308069  0.29308069\n",
      "   0.29308069  0.29308069  0.29308069  0.29308069  0.29308069  0.29308069\n",
      "   0.29308069  0.29308069  0.29308069  0.29308069  0.29308069  0.29308069\n",
      "   0.5009647   0.5009647   0.5009647   0.5009647   0.5009647   0.5009647\n",
      "   0.5009647   0.5009647   0.5009647   0.5009647   0.5009647   0.5009647\n",
      "   0.5009647   0.5009647   0.5009647   0.5009647   1.42880583  1.42880583\n",
      "   1.42880583  1.42880583  1.42880583  1.42880583  1.42880583  1.42880583\n",
      "   1.42880583  1.42880583  1.42880583  1.42880583  1.42880583  1.42880583\n",
      "   1.42880583  1.6602056   1.6602056   1.6602056   1.6602056   1.6602056\n",
      "   1.6602056   1.6602056   1.6602056   1.6602056   1.6602056   1.6602056\n",
      "   1.6602056   1.6602056   1.6602056   1.6602056   1.6602056   1.13936102\n",
      "   1.13936102  1.13936102  1.13936102  1.13936102  1.13936102  1.13936102\n",
      "   1.13936102  1.13936102  1.13936102  1.13936102  1.13936102  1.13936102\n",
      "   1.13936102  1.13936102  0.64848906  0.64848906  0.64848906  0.64848906\n",
      "   0.64848906  0.64848906  0.64848906  0.64848906  0.64848906  0.64848906\n",
      "   0.64848906  0.64848906  0.64848906  0.64848906  0.64848906  0.64848906\n",
      "   0.42473     0.42473     0.42473     0.42473     0.42473     0.42473\n",
      "   0.42473     0.42473     0.42473     0.42473     0.42473     0.42473\n",
      "   0.42473     0.42473     0.42473     0.34858653  0.34858653  0.34858653\n",
      "   0.34858653  0.34858653  0.34858653  0.34858653  0.34858653  0.34858653\n",
      "   0.34858653  0.34858653  0.34858653  0.34858653  0.34858653  0.34858653\n",
      "   0.34858653  0.29772848  0.29772848  0.29772848  0.29772848  0.29772848\n",
      "   0.29772848  0.29772848  0.29772848  0.29772848  0.29772848  0.29772848\n",
      "   0.29772848  0.29772848  0.29772848  0.29772848  0.25878537  0.25878537\n",
      "   0.25878537  0.25878537  0.25878537  0.25878537  0.25878537  0.25878537\n",
      "   0.25878537  0.25878537  0.25878537  0.25878537  0.25878537  0.25878537\n",
      "   0.25878537  0.19246757  0.19246757  0.19246757  0.19246757  0.19246757\n",
      "   0.19246757  0.19246757  0.19246757  0.19246757  0.19246757  0.19246757\n",
      "   0.19246757  0.19246757  0.19246757  0.19246757  0.19246757  0.2051703\n",
      "   0.2051703   0.2051703   0.2051703   0.2051703   0.2051703   0.2051703\n",
      "   0.2051703   0.2051703   0.2051703   0.2051703   0.2051703   0.2051703\n",
      "   0.2051703   0.2051703   0.22143111  0.22143111  0.22143111  0.22143111\n",
      "   0.22143111  0.22143111  0.22143111  0.22143111  0.22143111  0.22143111\n",
      "   0.22143111  0.22143111  0.22143111  0.22143111  0.22143111  0.22143111\n",
      "   0.19780979  0.19780979  0.19780979  0.19780979  0.19780979  0.19780979\n",
      "   0.19780979  0.19780979  0.19780979  0.19780979  0.19780979  0.19780979\n",
      "   0.19780979  0.19780979  0.19780979  0.18294032  0.18294032  0.18294032\n",
      "   0.18294032  0.18294032  0.18294032  0.18294032  0.18294032  0.18294032\n",
      "   0.18294032  0.18294032  0.18294032  0.18294032  0.18294032  0.18294032\n",
      "   0.18294032  0.23502252  0.23502252  0.23502252  0.23502252  0.23502252\n",
      "   0.23502252  0.23502252  0.23502252  0.23502252  0.23502252  0.23502252\n",
      "   0.23502252  0.23502252  0.23502252  0.23502252  0.33237332  0.33237332\n",
      "   0.33237332  0.33237332  0.33237332  0.33237332  0.33237332  0.33237332\n",
      "   0.33237332  0.33237332  0.33237332  0.33237332  0.33237332  0.33237332\n",
      "   0.33237332  0.33237332  0.45773235  0.45773235  0.45773235  0.45773235\n",
      "   0.45773235  0.45773235  0.45773235  0.45773235  0.45773235  0.45773235\n",
      "   0.45773235  0.45773235  0.45773235  0.45773235  0.45773235  0.55394208\n",
      "   0.55394208  0.55394208  0.55394208  0.55394208  0.55394208  0.55394208\n",
      "   0.55394208  0.55394208  0.55394208  0.55394208  0.55394208  0.55394208\n",
      "   0.55394208  0.55394208  0.55394208  0.51577115  0.51577115  0.51577115\n",
      "   0.51577115  0.51577115  0.51577115  0.51577115]]\n"
     ]
    },
    {
     "data": {
      "image/png": "[encoded data removed]",
      "text/plain": [
       "<matplotlib.figure.Figure at 0xf0ca602908>"
      ]
     },
     "metadata": {},
     "output_type": "display_data"
    }
   ],
   "source": [
    "#read VIIRS data\n",
    "#open file\n",
    "try:\n",
    "    tif = gdal.Open(VIIRS_IMAGE)\n",
    "    tifArray = tif.ReadAsArray()\n",
    "except:\n",
    "    print('The file does not exist.')\n",
    "    sys.exit(0)\n",
    "    \n",
    "#get band 48 (lights at night)\n",
    "band48 = tif.GetRasterBand(48)\n",
    "viirs = band48.ReadAsArray()\n",
    "\n",
    "#shown: VIIRS nightlights array & image\n",
    "print('min:', viirs.min())\n",
    "print('max:', viirs.max())\n",
    "print('viirs:', viirs[:1])\n",
    "imgplot = plt.imshow(viirs)\n",
    "plt.show()"
   ]
  },
  {
   "cell_type": "code",
   "execution_count": 7,
   "metadata": {},
   "outputs": [
    {
     "name": "stdout",
     "output_type": "stream",
     "text": [
      "[[[  0   0   0 255]\n",
      "  [  0   0   0 255]\n",
      "  [  0   0   0 255]\n",
      "  ..., \n",
      "  [  0   0   0 255]\n",
      "  [  0   0   0 255]\n",
      "  [  0   0   0 255]]]\n"
     ]
    },
    {
     "data": {
      "image/png": "[encoded data removed]",
      "text/plain": [
       "<matplotlib.figure.Figure at 0xf0ca5f8ac8>"
      ]
     },
     "metadata": {},
     "output_type": "display_data"
    }
   ],
   "source": [
    "#read masked data\n",
    "#shown: masked data array & image\n",
    "#colors: 0 = black\n",
    "#        255 = white\n",
    "mask = plt.imread(MASK_IMAGE)\n",
    "print(mask[:1])\n",
    "imgplot2 = plt.imshow(mask)\n",
    "plt.show()"
   ]
  },
  {
   "cell_type": "code",
   "execution_count": 8,
   "metadata": {},
   "outputs": [
    {
     "name": "stdout",
     "output_type": "stream",
     "text": [
      "(370, 442)\n",
      "(370, 442, 4)\n",
      "[  0   0   0 255]\n",
      "[  0   0   0 255]\n",
      "[255 255 255 255]\n"
     ]
    }
   ],
   "source": [
    "#viirs dimensions: (370, 442)\n",
    "#mask dimensions: (370, 442, 4) ?! What the heck...\n",
    "print(viirs.shape)\n",
    "print(mask.shape)\n",
    "\n",
    "#looks like first 3 bands (aka columns) are always same, last band = 255\n",
    "#let's use the first band for simplicity... aka mask[i][j][0]\n",
    "print(mask[0][0])\n",
    "print(mask[0][1])\n",
    "print(mask[175][150])"
   ]
  },
  {
   "cell_type": "code",
   "execution_count": 9,
   "metadata": {},
   "outputs": [
    {
     "name": "stdout",
     "output_type": "stream",
     "text": [
      "[[-1.         -1.         -1.         -1.         -1.         -1.         -1.\n",
      "  -1.         -1.         -1.         -1.         -1.         -1.         -1.\n",
      "  -1.         -1.         -1.         -1.         -1.         -1.         -1.\n",
      "  -1.         -1.         -1.         -1.         -1.         -1.         -1.\n",
      "  -1.         -1.         -1.         -1.         -1.         -1.         -1.\n",
      "  -1.         -1.         -1.         -1.         -1.         -1.         -1.\n",
      "  -1.         -1.         -1.         -1.         -1.         -1.         -1.\n",
      "  -1.         -1.         -1.         -1.         -1.         -1.         -1.\n",
      "  -1.         -1.         -1.         -1.         -1.         -1.         -1.\n",
      "  -1.         -1.         -1.         -1.         -1.         -1.         -1.\n",
      "  -1.         -1.         -1.         -1.         -1.         -1.         -1.\n",
      "  -1.         -1.         -1.         -1.         -1.         -1.         -1.\n",
      "  -1.         -1.         -1.         -1.         -1.         -1.         -1.\n",
      "  -1.         -1.         -1.         -1.         -1.         -1.         -1.\n",
      "  -1.         -1.         -1.         -1.         -1.         -1.         -1.\n",
      "  -1.         -1.         -1.         -1.         -1.         -1.         -1.\n",
      "  -1.         -1.         -1.         -1.         -1.         -1.         -1.\n",
      "  -1.         -1.         -1.         -1.         -1.         -1.         -1.\n",
      "  -1.         -1.         -1.         -1.         -1.         -1.         -1.\n",
      "  -1.         -1.         -1.         -1.         -1.         -1.         -1.\n",
      "  -1.         -1.         -1.         -1.         -1.         -1.         -1.\n",
      "  -1.         -1.         -1.         -1.         -1.         -1.         -1.\n",
      "  -1.         -1.         -1.         -1.         -1.         -1.         -1.\n",
      "  -1.         -1.         -1.         -1.         -1.         -1.         -1.\n",
      "  -1.         -1.         -1.         -1.         -1.         -1.         -1.\n",
      "  -1.         -1.         -1.         -1.         -1.         -1.         -1.\n",
      "  -1.         -1.         -1.         -1.         -1.         -1.         -1.\n",
      "  -1.         -1.         -1.         -1.         -1.         -1.         -1.\n",
      "  -1.         -1.         -1.         -1.         -1.         -1.         -1.\n",
      "  -1.         -1.         -1.         -1.         -1.         -1.         -1.\n",
      "  -1.         -1.         -1.         -1.         -1.         -1.         -1.\n",
      "  -1.         -1.         -1.         -1.         -1.         -1.         -1.\n",
      "  -1.         -1.         -1.         -1.         -1.         -1.         -1.\n",
      "  -1.         -1.         -1.         -1.         -1.         -1.         -1.\n",
      "  -1.         -1.         -1.         -1.         -1.         -1.         -1.\n",
      "  -1.         -1.         -1.         -1.         -1.         -1.         -1.\n",
      "  -1.         -1.         -1.         -1.         -1.         -1.         -1.\n",
      "  -1.         -1.         -1.         -1.         -1.         -1.         -1.\n",
      "  -1.         -1.         -1.         -1.         -1.         -1.         -1.\n",
      "  -1.         -1.         -1.         -1.         -1.         -1.         -1.\n",
      "  -1.         -1.         -1.         -1.         -1.         -1.         -1.\n",
      "  -1.         -1.         -1.         -1.         -1.         -1.         -1.\n",
      "  -1.         -1.         -1.         -1.         -1.         -1.         -1.\n",
      "  -1.         -1.         -1.         -1.         -1.         -1.         -1.\n",
      "  -1.         -1.         -1.         -1.         -1.         -1.         -1.\n",
      "  -1.         -1.         -1.         -1.         -1.         -1.         -1.\n",
      "  -1.         -1.         -1.         -1.         -1.         -1.         -1.\n",
      "  -1.         -1.         -1.         -1.         -1.         -1.         -1.\n",
      "  -1.         -1.         -1.         -1.         -1.         -1.         -1.\n",
      "  -1.         -1.         -1.         -1.         -1.         -1.         -1.\n",
      "  -1.         -1.         -1.         -1.         -1.         -1.         -1.\n",
      "  -1.         -1.         -1.         -1.         -1.         -1.         -1.\n",
      "  -1.         -1.         -1.         -1.         -1.         -1.         -1.\n",
      "  -1.         -1.         -1.         -1.         -1.         -1.         -1.\n",
      "  -1.         -1.         -1.         -1.         -1.         -1.         -1.\n",
      "  -1.         -1.         -1.         -1.         -1.         -1.         -1.\n",
      "  -1.         -1.         -1.         -1.         -1.         -1.\n",
      "   0.33237332  0.33237332  0.33237332  0.33237332  0.33237332  0.33237332\n",
      "   0.45773235  0.45773235 -1.         -1.         -1.         -1.         -1.\n",
      "  -1.         -1.         -1.         -1.         -1.         -1.         -1.\n",
      "  -1.         -1.         -1.         -1.         -1.         -1.         -1.\n",
      "  -1.         -1.         -1.         -1.         -1.         -1.         -1.\n",
      "  -1.         -1.         -1.         -1.         -1.         -1.         -1.\n",
      "  -1.         -1.          0.        ]]\n"
     ]
    },
    {
     "data": {
      "image/png": "[encoded data removed]",
      "text/plain": [
       "<matplotlib.figure.Figure at 0xf0ce581d30>"
      ]
     },
     "metadata": {},
     "output_type": "display_data"
    }
   ],
   "source": [
    "# on new array, if pixel masked then put -1, if pixel unmasked then put viirs data\n",
    "# loop through every pixel looking for masked pixel (value = 0)\n",
    "new = np.empty([viirs.shape[0],  viirs.shape[1]])\n",
    "for i in range(mask.shape[0]-1):\n",
    "    for j in range(mask.shape[1]-1):\n",
    "        if (mask[i][j][0] == 0):\n",
    "            new[i][j] = -1\n",
    "        else:\n",
    "            new[i][j] = viirs[i][j]\n",
    "            \n",
    "#it works!\n",
    "print(new[:1])\n",
    "imgplot3 = plt.imshow(new)\n",
    "plt.show()"
   ]
  },
  {
   "cell_type": "code",
   "execution_count": 10,
   "metadata": {},
   "outputs": [
    {
     "name": "stdout",
     "output_type": "stream",
     "text": [
      "[0.33237332105636597, 0.33237332105636597, 0.33237332105636597, 0.33237332105636597, 0.33237332105636597, 0.33237332105636597, 0.45773234963417053, 0.45773234963417053, 0.33237332105636597, 0.33237332105636597]\n",
      "Lights at night per unit are: 0.139720575528\n"
     ]
    }
   ],
   "source": [
    "# okay, let's calculate out a single \"lights at night\" value\n",
    "pixels = []\n",
    "for i in range(new.shape[0]-1):\n",
    "    for j in range(new.shape[1]-1):\n",
    "        if (new[i][j] > -1):\n",
    "            pixels.append(new[i][j])\n",
    "# print out first 10 numbers of array to check... looks reasonable\n",
    "print(pixels[:10])\n",
    "# the repeats are okay to some extent because the VIIRS bands was likely resampled\n",
    "\n",
    "# calculate the lights at night per unit area\n",
    "# value looks reasonable\n",
    "print('Lights at night per unit are:', np.mean(pixels))\n"
   ]
  },
  {
   "cell_type": "code",
   "execution_count": 14,
   "metadata": {},
   "outputs": [
    {
     "data": {
      "image/png": "[encoded data removed]",
      "text/plain": [
       "<matplotlib.figure.Figure at 0xf0cfe055c0>"
      ]
     },
     "metadata": {},
     "output_type": "display_data"
    },
    {
     "data": {
      "image/png": "[encoded data removed]",
      "text/plain": [
       "<matplotlib.figure.Figure at 0xf0cffe3908>"
      ]
     },
     "metadata": {},
     "output_type": "display_data"
    },
    {
     "name": "stdout",
     "output_type": "stream",
     "text": [
      "check new first: [[-1.         -1.         -1.         -1.         -1.         -1.\n",
      "   0.89780855  0.84486139 -1.         -1.         -1.         -1.         -1.\n",
      "          nan]\n",
      " [-1.         -1.         -1.          0.89780855  0.89780855  0.89780855\n",
      "   0.89780855  0.84486139  0.84486139  0.84486139 -1.         -1.         -1.\n",
      "          nan]]\n",
      "check min: nan\n",
      "check max: nan\n"
     ]
    },
    {
     "data": {
      "image/png": "[encoded data removed]",
      "text/plain": [
       "<matplotlib.figure.Figure at 0xf0ce67a240>"
      ]
     },
     "metadata": {},
     "output_type": "display_data"
    },
    {
     "name": "stdout",
     "output_type": "stream",
     "text": [
      "1.311\n"
     ]
    },
    {
     "data": {
      "image/png": "[encoded data removed]",
      "text/plain": [
       "<matplotlib.figure.Figure at 0xf0ce4b95f8>"
      ]
     },
     "metadata": {},
     "output_type": "display_data"
    },
    {
     "data": {
      "image/png": "[encoded data removed]",
      "text/plain": [
       "<matplotlib.figure.Figure at 0xf0d20e79e8>"
      ]
     },
     "metadata": {},
     "output_type": "display_data"
    },
    {
     "name": "stdout",
     "output_type": "stream",
     "text": [
      "check new first: [[-1.         -1.         -1.         -1.         -1.         -1.\n",
      "   0.29305249  0.29305249  0.22068042  0.22068042  0.22068042  0.22068042\n",
      "   0.22068042  0.22068042 -1.         -1.         -1.         -1.         -1.\n",
      "  -1.         -1.         -1.         -1.         -1.         -1.         -1.\n",
      "  -1.         -1.         -1.         -1.         -1.         -1.         -1.\n",
      "   0.20632616  0.20632616  0.20632616 -1.         -1.         -1.         -1.\n",
      "  -1.         -1.         -1.         -1.         -1.         -1.         -1.\n",
      "  -1.         -1.         -1.         -1.         -1.         -1.         -1.\n",
      "  -1.         -1.         -1.         -1.         -1.         -1.         -1.\n",
      "  -1.          0.        ]\n",
      " [-1.         -1.         -1.         -1.         -1.          0.29305249\n",
      "   0.29305249  0.29305249  0.22068042  0.22068042  0.22068042  0.22068042\n",
      "   0.22068042  0.22068042  0.22068042  0.22068042  0.22068042  0.22068042\n",
      "   0.22068042 -1.         -1.         -1.         -1.         -1.         -1.\n",
      "  -1.         -1.         -1.         -1.         -1.         -1.\n",
      "   0.20632616  0.20632616  0.20632616  0.20632616  0.20632616 -1.         -1.\n",
      "  -1.         -1.         -1.         -1.         -1.         -1.         -1.\n",
      "  -1.         -1.         -1.         -1.         -1.         -1.         -1.\n",
      "  -1.         -1.         -1.         -1.         -1.         -1.         -1.\n",
      "  -1.         -1.         -1.          0.        ]]\n",
      "check min: -1.0\n",
      "check max: 1.0\n"
     ]
    },
    {
     "data": {
      "image/png": "[encoded data removed]",
      "text/plain": [
       "<matplotlib.figure.Figure at 0xf0ce515390>"
      ]
     },
     "metadata": {},
     "output_type": "display_data"
    },
    {
     "name": "stdout",
     "output_type": "stream",
     "text": [
      "0.2183\n"
     ]
    },
    {
     "data": {
      "image/png": "[encoded data removed]",
      "text/plain": [
       "<matplotlib.figure.Figure at 0xf0d20b2e80>"
      ]
     },
     "metadata": {},
     "output_type": "display_data"
    },
    {
     "data": {
      "image/png": "[encoded data removed]",
      "text/plain": [
       "<matplotlib.figure.Figure at 0xf0d2067b00>"
      ]
     },
     "metadata": {},
     "output_type": "display_data"
    },
    {
     "name": "stdout",
     "output_type": "stream",
     "text": [
      "check new first: [[-1.         -1.         -1.         -1.         -1.         -1.         -1.\n",
      "  -1.          0.54257482  0.54257482  0.54257482  0.54257482  0.54257482\n",
      "   0.54257482  0.54257482  0.54257482 -1.         -1.         -1.         -1.\n",
      "  -1.         -1.          1.        ]\n",
      " [-1.         -1.         -1.         -1.         -1.         -1.         -1.\n",
      "  -1.          0.54257482  0.54257482  0.54257482  0.54257482  0.54257482\n",
      "   0.54257482  0.54257482  0.54257482  0.54257482  0.54257482  0.54257482\n",
      "   0.54257482  0.52191949  0.52191949  1.        ]]\n",
      "check min: -1.0\n",
      "check max: 1.0\n"
     ]
    },
    {
     "data": {
      "image/png": "[encoded data removed]",
      "text/plain": [
       "<matplotlib.figure.Figure at 0xf0cfd49ef0>"
      ]
     },
     "metadata": {},
     "output_type": "display_data"
    },
    {
     "name": "stdout",
     "output_type": "stream",
     "text": [
      "0.503136\n"
     ]
    },
    {
     "data": {
      "image/png": "[encoded data removed]",
      "text/plain": [
       "<matplotlib.figure.Figure at 0xf0cfe56cc0>"
      ]
     },
     "metadata": {},
     "output_type": "display_data"
    },
    {
     "data": {
      "image/png": "[encoded data removed]",
      "text/plain": [
       "<matplotlib.figure.Figure at 0xf0ce50acc0>"
      ]
     },
     "metadata": {},
     "output_type": "display_data"
    },
    {
     "name": "stdout",
     "output_type": "stream",
     "text": [
      "check new first: [[-1.         -1.         -1.         -1.         -1.         -1.         -1.\n",
      "  -1.         -1.         -1.         -1.         -1.         -1.         -1.\n",
      "  -1.         -1.         -1.         -1.         -1.         -1.         -1.\n",
      "  -1.          0.6644882   0.6644882   0.6644882   0.6644882  -1.         -1.\n",
      "  -1.         -1.         -1.         -1.          1.        ]\n",
      " [-1.         -1.         -1.         -1.         -1.         -1.         -1.\n",
      "  -1.          0.75015938  0.75015938  0.75015938  0.75015938  0.75015938\n",
      "   0.75015938  0.75015938  0.75015938  0.75015938  0.6644882   0.6644882\n",
      "   0.6644882   0.6644882   0.6644882   0.6644882   0.6644882   0.6644882\n",
      "   0.6644882   0.6644882   0.6644882   0.6644882  -1.         -1.         -1.\n",
      "   1.        ]]\n",
      "check min: -1.0\n",
      "check max: 1.0\n"
     ]
    },
    {
     "data": {
      "image/png": "[encoded data removed]",
      "text/plain": [
       "<matplotlib.figure.Figure at 0xf0cffdc3c8>"
      ]
     },
     "metadata": {},
     "output_type": "display_data"
    },
    {
     "name": "stdout",
     "output_type": "stream",
     "text": [
      "0.641468\n"
     ]
    },
    {
     "data": {
      "image/png": "[encoded data removed]",
      "text/plain": [
       "<matplotlib.figure.Figure at 0xf0d2048e48>"
      ]
     },
     "metadata": {},
     "output_type": "display_data"
    },
    {
     "data": {
      "image/png": "[encoded data removed]",
      "text/plain": [
       "<matplotlib.figure.Figure at 0xf0ce605b00>"
      ]
     },
     "metadata": {},
     "output_type": "display_data"
    },
    {
     "name": "stdout",
     "output_type": "stream",
     "text": [
      "check new first: [[-1.         -1.         -1.         -1.         -1.         -1.         -1.\n",
      "   1.35701048  1.35701048 -1.         -1.         -1.         -1.         -1.\n",
      "  -1.         -1.         -1.         -1.         -1.         -1.         -1.\n",
      "  -1.         -1.         -1.         -1.         -1.         -1.         -1.\n",
      "  -1.         -1.         -1.         -1.         -1.         -1.         -1.\n",
      "  -1.         -1.         -1.         -1.         -1.         -1.         -1.\n",
      "  -1.         -1.         -1.         -1.         -1.         -1.         -1.\n",
      "  -1.         -1.         -1.         -1.         -1.         -1.         -1.\n",
      "  -1.         -1.         -1.         -1.         -1.         -1.         -1.\n",
      "   1.        ]\n",
      " [-1.         -1.         -1.         -1.         -1.         -1.         -1.\n",
      "   1.35701048  1.35701048  1.35701048  1.35701048  1.35701048 -1.         -1.\n",
      "  -1.         -1.         -1.         -1.         -1.         -1.         -1.\n",
      "  -1.         -1.         -1.         -1.         -1.         -1.         -1.\n",
      "  -1.         -1.         -1.         -1.         -1.         -1.         -1.\n",
      "  -1.         -1.         -1.         -1.         -1.         -1.         -1.\n",
      "  -1.         -1.         -1.         -1.         -1.         -1.         -1.\n",
      "  -1.         -1.         -1.         -1.         -1.         -1.         -1.\n",
      "  -1.         -1.         -1.         -1.         -1.         -1.         -1.\n",
      "   1.        ]]\n",
      "check min: -1.0\n",
      "check max: 5.01613426208\n"
     ]
    },
    {
     "data": {
      "image/png": "[encoded data removed]",
      "text/plain": [
       "<matplotlib.figure.Figure at 0xf0cffe6b00>"
      ]
     },
     "metadata": {},
     "output_type": "display_data"
    },
    {
     "name": "stdout",
     "output_type": "stream",
     "text": [
      "2.30711\n"
     ]
    },
    {
     "data": {
      "image/png": "[encoded data removed]",
      "text/plain": [
       "<matplotlib.figure.Figure at 0xf0ce510eb8>"
      ]
     },
     "metadata": {},
     "output_type": "display_data"
    },
    {
     "data": {
      "image/png": "[encoded data removed]",
      "text/plain": [
       "<matplotlib.figure.Figure at 0xf0ce605a90>"
      ]
     },
     "metadata": {},
     "output_type": "display_data"
    },
    {
     "name": "stdout",
     "output_type": "stream",
     "text": [
      "check new first: [[ -1.00000000e+000  -1.00000000e+000  -1.00000000e+000  -1.00000000e+000\n",
      "   -1.00000000e+000  -1.00000000e+000  -1.00000000e+000  -1.00000000e+000\n",
      "   -1.00000000e+000  -1.00000000e+000  -1.00000000e+000  -1.00000000e+000\n",
      "   -1.00000000e+000  -1.00000000e+000  -1.00000000e+000  -1.00000000e+000\n",
      "   -1.00000000e+000  -1.00000000e+000  -1.00000000e+000  -1.00000000e+000\n",
      "   -1.00000000e+000  -1.00000000e+000  -1.00000000e+000  -1.00000000e+000\n",
      "   -1.00000000e+000  -1.00000000e+000  -1.00000000e+000  -1.00000000e+000\n",
      "   -1.00000000e+000  -1.00000000e+000  -1.00000000e+000  -1.00000000e+000\n",
      "   -1.00000000e+000  -1.00000000e+000  -1.00000000e+000  -1.00000000e+000\n",
      "   -1.00000000e+000  -1.00000000e+000  -1.00000000e+000  -1.00000000e+000\n",
      "   -1.00000000e+000  -1.00000000e+000  -1.00000000e+000  -1.00000000e+000\n",
      "   -1.00000000e+000   5.00482798e-001  -1.00000000e+000  -1.00000000e+000\n",
      "   -1.00000000e+000  -1.00000000e+000  -1.00000000e+000  -1.00000000e+000\n",
      "   -1.00000000e+000  -1.00000000e+000  -1.00000000e+000  -1.00000000e+000\n",
      "   -1.00000000e+000  -1.00000000e+000  -1.00000000e+000  -1.00000000e+000\n",
      "   -1.00000000e+000  -1.00000000e+000  -1.00000000e+000  -1.00000000e+000\n",
      "   -1.00000000e+000  -1.00000000e+000  -1.00000000e+000  -1.00000000e+000\n",
      "   -1.00000000e+000  -1.00000000e+000  -1.00000000e+000  -1.00000000e+000\n",
      "   -1.00000000e+000  -1.00000000e+000  -1.00000000e+000  -1.00000000e+000\n",
      "   -1.00000000e+000  -1.00000000e+000  -1.00000000e+000  -1.00000000e+000\n",
      "   -1.00000000e+000  -1.00000000e+000  -1.00000000e+000  -1.00000000e+000\n",
      "   -1.00000000e+000  -1.00000000e+000  -1.00000000e+000  -1.00000000e+000\n",
      "   -1.00000000e+000  -1.00000000e+000  -1.00000000e+000  -1.00000000e+000\n",
      "   -1.00000000e+000  -1.00000000e+000  -1.00000000e+000  -1.00000000e+000\n",
      "   -1.00000000e+000  -1.00000000e+000  -1.00000000e+000  -1.00000000e+000\n",
      "   -1.00000000e+000  -1.00000000e+000  -1.00000000e+000  -1.00000000e+000\n",
      "   -1.00000000e+000  -1.00000000e+000  -1.00000000e+000  -1.00000000e+000\n",
      "   -1.00000000e+000  -1.00000000e+000  -1.00000000e+000  -1.00000000e+000\n",
      "   -1.00000000e+000  -1.00000000e+000  -1.00000000e+000  -1.00000000e+000\n",
      "   -1.00000000e+000  -1.00000000e+000  -1.00000000e+000  -1.00000000e+000\n",
      "   -1.00000000e+000  -1.00000000e+000  -1.00000000e+000  -1.00000000e+000\n",
      "   -1.00000000e+000  -1.00000000e+000  -1.00000000e+000  -1.00000000e+000\n",
      "   -1.00000000e+000  -1.00000000e+000   3.96813213e-312]\n",
      " [ -1.00000000e+000  -1.00000000e+000  -1.00000000e+000  -1.00000000e+000\n",
      "   -1.00000000e+000  -1.00000000e+000  -1.00000000e+000  -1.00000000e+000\n",
      "   -1.00000000e+000  -1.00000000e+000  -1.00000000e+000  -1.00000000e+000\n",
      "   -1.00000000e+000  -1.00000000e+000  -1.00000000e+000  -1.00000000e+000\n",
      "   -1.00000000e+000  -1.00000000e+000  -1.00000000e+000  -1.00000000e+000\n",
      "   -1.00000000e+000  -1.00000000e+000  -1.00000000e+000  -1.00000000e+000\n",
      "   -1.00000000e+000  -1.00000000e+000  -1.00000000e+000  -1.00000000e+000\n",
      "   -1.00000000e+000  -1.00000000e+000  -1.00000000e+000  -1.00000000e+000\n",
      "   -1.00000000e+000  -1.00000000e+000  -1.00000000e+000  -1.00000000e+000\n",
      "   -1.00000000e+000  -1.00000000e+000  -1.00000000e+000  -1.00000000e+000\n",
      "   -1.00000000e+000  -1.00000000e+000  -1.00000000e+000  -1.00000000e+000\n",
      "    3.01913381e-001   5.00482798e-001   5.00482798e-001   5.00482798e-001\n",
      "   -1.00000000e+000  -1.00000000e+000  -1.00000000e+000  -1.00000000e+000\n",
      "   -1.00000000e+000  -1.00000000e+000  -1.00000000e+000  -1.00000000e+000\n",
      "   -1.00000000e+000  -1.00000000e+000  -1.00000000e+000  -1.00000000e+000\n",
      "   -1.00000000e+000  -1.00000000e+000  -1.00000000e+000  -1.00000000e+000\n",
      "   -1.00000000e+000  -1.00000000e+000  -1.00000000e+000  -1.00000000e+000\n",
      "   -1.00000000e+000  -1.00000000e+000  -1.00000000e+000  -1.00000000e+000\n",
      "   -1.00000000e+000  -1.00000000e+000  -1.00000000e+000  -1.00000000e+000\n",
      "   -1.00000000e+000  -1.00000000e+000  -1.00000000e+000  -1.00000000e+000\n",
      "   -1.00000000e+000  -1.00000000e+000  -1.00000000e+000  -1.00000000e+000\n",
      "   -1.00000000e+000  -1.00000000e+000  -1.00000000e+000  -1.00000000e+000\n",
      "   -1.00000000e+000  -1.00000000e+000  -1.00000000e+000  -1.00000000e+000\n",
      "   -1.00000000e+000  -1.00000000e+000  -1.00000000e+000  -1.00000000e+000\n",
      "   -1.00000000e+000  -1.00000000e+000  -1.00000000e+000  -1.00000000e+000\n",
      "   -1.00000000e+000  -1.00000000e+000  -1.00000000e+000  -1.00000000e+000\n",
      "   -1.00000000e+000  -1.00000000e+000  -1.00000000e+000  -1.00000000e+000\n",
      "   -1.00000000e+000  -1.00000000e+000  -1.00000000e+000  -1.00000000e+000\n",
      "   -1.00000000e+000  -1.00000000e+000  -1.00000000e+000  -1.00000000e+000\n",
      "   -1.00000000e+000  -1.00000000e+000  -1.00000000e+000  -1.00000000e+000\n",
      "   -1.00000000e+000  -1.00000000e+000  -1.00000000e+000  -1.00000000e+000\n",
      "   -1.00000000e+000  -1.00000000e+000  -1.00000000e+000  -1.00000000e+000\n",
      "   -1.00000000e+000  -1.00000000e+000               nan]]\n",
      "check min: nan\n",
      "check max: nan\n"
     ]
    },
    {
     "data": {
      "image/png": "[encoded data removed]",
      "text/plain": [
       "<matplotlib.figure.Figure at 0xf0cfd14978>"
      ]
     },
     "metadata": {},
     "output_type": "display_data"
    },
    {
     "name": "stdout",
     "output_type": "stream",
     "text": [
      "0.257431\n"
     ]
    },
    {
     "data": {
      "image/png": "[encoded data removed]",
      "text/plain": [
       "<matplotlib.figure.Figure at 0xf0ce537908>"
      ]
     },
     "metadata": {},
     "output_type": "display_data"
    },
    {
     "data": {
      "image/png": "[encoded data removed]",
      "text/plain": [
       "<matplotlib.figure.Figure at 0xf0cffd0d30>"
      ]
     },
     "metadata": {},
     "output_type": "display_data"
    },
    {
     "name": "stdout",
     "output_type": "stream",
     "text": [
      "check new first: [[-1.         -1.         -1.         -1.         -1.         -1.         -1.\n",
      "  -1.         -1.         -1.         -1.         -1.         -1.         -1.\n",
      "  -1.         -1.         -1.         -1.         -1.         -1.         -1.\n",
      "  -1.         -1.         -1.         -1.         -1.         -1.         -1.\n",
      "  -1.         -1.          0.21941698  0.21941698  0.21941698  0.21941698\n",
      "   0.21941698  0.21941698  0.21941698 -1.         -1.         -1.         -1.\n",
      "  -1.         -1.         -1.         -1.         -1.         -1.         -1.\n",
      "  -1.         -1.         -1.         -1.         -1.         -1.         -1.\n",
      "  -1.         -1.         -1.         -1.         -1.         -1.         -1.\n",
      "  -1.         -1.         -1.         -1.         -1.         -1.         -1.\n",
      "  -1.         -1.         -1.         -1.         -1.         -1.         -1.\n",
      "  -1.         -1.         -1.         -1.         -1.         -1.         -1.\n",
      "  -1.         -1.         -1.         -1.         -1.         -1.         -1.\n",
      "  -1.         -1.         -1.         -1.         -1.         -1.         -1.\n",
      "  -1.         -1.         -1.         -1.         -1.         -1.         -1.\n",
      "  -1.         -1.         -1.         -1.         -1.         -1.         -1.\n",
      "  -1.         -1.         -1.         -1.         -1.         -1.         -1.\n",
      "  -1.         -1.         -1.         -1.         -1.         -1.         -1.\n",
      "  -1.         -1.         -1.         -1.         -1.         -1.         -1.\n",
      "  -1.         -1.         -1.         -1.         -1.         -1.         -1.\n",
      "  -1.         -1.         -1.         -1.         -1.         -1.         -1.\n",
      "  -1.          0.        ]\n",
      " [-1.         -1.         -1.         -1.         -1.         -1.         -1.\n",
      "  -1.         -1.         -1.         -1.         -1.         -1.         -1.\n",
      "  -1.         -1.         -1.         -1.         -1.         -1.         -1.\n",
      "  -1.         -1.         -1.         -1.         -1.         -1.         -1.\n",
      "  -1.         -1.          0.21941698  0.21941698  0.21941698  0.21941698\n",
      "   0.21941698  0.21941698  0.21941698  0.21941698  0.21941698  0.21941698\n",
      "   0.21941698  0.21637163  0.21637163  0.21637163 -1.         -1.         -1.\n",
      "  -1.         -1.         -1.         -1.         -1.         -1.         -1.\n",
      "  -1.         -1.         -1.         -1.         -1.         -1.         -1.\n",
      "  -1.         -1.         -1.         -1.         -1.         -1.         -1.\n",
      "  -1.         -1.         -1.         -1.         -1.         -1.         -1.\n",
      "  -1.         -1.         -1.         -1.         -1.         -1.         -1.\n",
      "  -1.         -1.         -1.         -1.         -1.         -1.         -1.\n",
      "  -1.         -1.         -1.         -1.         -1.         -1.         -1.\n",
      "  -1.         -1.         -1.         -1.         -1.         -1.         -1.\n",
      "  -1.         -1.         -1.          0.22156687  0.22156687  0.22156687\n",
      "   0.22156687  0.22156687  0.22156687 -1.         -1.         -1.         -1.\n",
      "  -1.         -1.         -1.         -1.         -1.         -1.         -1.\n",
      "  -1.         -1.         -1.         -1.         -1.         -1.         -1.\n",
      "  -1.         -1.         -1.         -1.         -1.         -1.         -1.\n",
      "  -1.         -1.         -1.         -1.         -1.         -1.         -1.\n",
      "  -1.         -1.         -1.          0.        ]]\n",
      "check min: -8.42668657613e+306\n",
      "check max: 1.0\n"
     ]
    },
    {
     "data": {
      "image/png": "[encoded data removed]",
      "text/plain": [
       "<matplotlib.figure.Figure at 0xf0cff84940>"
      ]
     },
     "metadata": {},
     "output_type": "display_data"
    },
    {
     "name": "stdout",
     "output_type": "stream",
     "text": [
      "0.28462\n"
     ]
    },
    {
     "data": {
      "image/png": "[encoded data removed]",
      "text/plain": [
       "<matplotlib.figure.Figure at 0xf0cec92ef0>"
      ]
     },
     "metadata": {},
     "output_type": "display_data"
    },
    {
     "data": {
      "image/png": "[encoded data removed]",
      "text/plain": [
       "<matplotlib.figure.Figure at 0xf0cfcf84a8>"
      ]
     },
     "metadata": {},
     "output_type": "display_data"
    },
    {
     "name": "stdout",
     "output_type": "stream",
     "text": [
      "check new first: [[-1.         -1.         -1.         -1.         -1.         -1.         -1.\n",
      "  -1.         -1.         -1.         -1.         -1.         -1.         -1.\n",
      "  -1.         -1.         -1.         -1.         -1.         -1.         -1.\n",
      "  -1.         -1.         -1.         -1.         -1.         -1.         -1.\n",
      "  -1.         -1.         -1.         -1.         -1.         -1.         -1.\n",
      "  -1.         -1.         -1.         -1.         -1.         -1.         -1.\n",
      "  -1.         -1.         -1.         -1.         -1.         -1.         -1.\n",
      "  -1.         -1.         -1.         -1.         -1.         -1.         -1.\n",
      "  -1.         -1.         -1.         -1.         -1.         -1.         -1.\n",
      "  -1.         -1.         -1.         -1.         -1.         -1.         -1.\n",
      "  -1.         -1.         -1.         -1.         -1.         -1.         -1.\n",
      "  -1.         -1.         -1.         -1.         -1.         -1.         -1.\n",
      "  -1.         -1.         -1.         -1.         -1.         -1.         -1.\n",
      "  -1.         -1.         -1.         -1.         -1.         -1.         -1.\n",
      "  -1.         -1.         -1.         -1.         -1.         -1.         -1.\n",
      "  -1.         -1.         -1.         -1.         -1.         -1.         -1.\n",
      "  -1.         -1.         -1.         -1.         -1.         -1.         -1.\n",
      "  -1.         -1.         -1.         -1.         -1.         -1.         -1.\n",
      "  -1.         -1.         -1.         -1.         -1.         -1.         -1.\n",
      "  -1.         -1.         -1.         -1.         -1.         -1.         -1.\n",
      "  -1.         -1.         -1.         -1.         -1.         -1.         -1.\n",
      "  -1.         -1.         -1.         -1.         -1.         -1.         -1.\n",
      "  -1.         -1.         -1.         -1.         -1.         -1.         -1.\n",
      "  -1.         -1.         -1.         -1.         -1.         -1.         -1.\n",
      "  -1.         -1.         -1.         -1.         -1.         -1.         -1.\n",
      "  -1.         -1.         -1.         -1.         -1.         -1.         -1.\n",
      "  -1.         -1.         -1.         -1.         -1.         -1.         -1.\n",
      "  -1.         -1.         -1.         -1.         -1.         -1.         -1.\n",
      "  -1.         -1.         -1.         -1.         -1.         -1.         -1.\n",
      "  -1.         -1.         -1.         -1.         -1.         -1.         -1.\n",
      "  -1.         -1.         -1.         -1.         -1.         -1.         -1.\n",
      "  -1.         -1.         -1.         -1.         -1.         -1.         -1.\n",
      "  -1.         -1.         -1.         -1.         -1.         -1.         -1.\n",
      "  -1.         -1.         -1.         -1.         -1.         -1.         -1.\n",
      "  -1.         -1.         -1.         -1.         -1.         -1.         -1.\n",
      "  -1.         -1.         -1.         -1.         -1.         -1.         -1.\n",
      "  -1.         -1.         -1.         -1.         -1.         -1.         -1.\n",
      "  -1.         -1.         -1.         -1.         -1.         -1.         -1.\n",
      "  -1.         -1.         -1.         -1.         -1.         -1.         -1.\n",
      "  -1.         -1.         -1.         -1.         -1.         -1.         -1.\n",
      "  -1.         -1.         -1.         -1.         -1.         -1.         -1.\n",
      "  -1.         -1.         -1.         -1.         -1.         -1.         -1.\n",
      "  -1.         -1.         -1.         -1.         -1.         -1.         -1.\n",
      "  -1.         -1.         -1.         -1.         -1.         -1.         -1.\n",
      "  -1.         -1.         -1.         -1.         -1.         -1.         -1.\n",
      "  -1.         -1.         -1.         -1.         -1.         -1.         -1.\n",
      "  -1.         -1.         -1.         -1.         -1.         -1.         -1.\n",
      "  -1.         -1.         -1.         -1.         -1.         -1.         -1.\n",
      "  -1.         -1.         -1.         -1.         -1.         -1.         -1.\n",
      "  -1.         -1.         -1.         -1.         -1.         -1.         -1.\n",
      "  -1.         -1.         -1.         -1.         -1.         -1.         -1.\n",
      "  -1.         -1.         -1.         -1.         -1.         -1.         -1.\n",
      "  -1.         -1.         -1.         -1.         -1.         -1.         -1.\n",
      "  -1.         -1.         -1.         -1.         -1.         -1.         -1.\n",
      "  -1.         -1.         -1.         -1.         -1.         -1.         -1.\n",
      "  -1.         -1.         -1.         -1.         -1.         -1.         -1.\n",
      "  -1.         -1.         -1.         -1.         -1.         -1.\n",
      "   0.33237332  0.33237332  0.33237332  0.33237332  0.33237332  0.33237332\n",
      "   0.45773235  0.45773235 -1.         -1.         -1.         -1.         -1.\n",
      "  -1.         -1.         -1.         -1.         -1.         -1.         -1.\n",
      "  -1.         -1.         -1.         -1.         -1.         -1.         -1.\n",
      "  -1.         -1.         -1.         -1.         -1.         -1.         -1.\n",
      "  -1.         -1.         -1.         -1.         -1.         -1.         -1.\n",
      "  -1.         -1.          0.        ]\n",
      " [-1.         -1.         -1.         -1.         -1.         -1.         -1.\n",
      "  -1.         -1.         -1.         -1.         -1.         -1.         -1.\n",
      "  -1.         -1.         -1.         -1.         -1.         -1.         -1.\n",
      "  -1.         -1.         -1.         -1.         -1.         -1.         -1.\n",
      "  -1.         -1.         -1.         -1.         -1.         -1.         -1.\n",
      "  -1.         -1.         -1.         -1.         -1.         -1.         -1.\n",
      "  -1.         -1.         -1.         -1.         -1.         -1.         -1.\n",
      "  -1.         -1.         -1.         -1.         -1.         -1.         -1.\n",
      "  -1.         -1.         -1.         -1.         -1.         -1.         -1.\n",
      "  -1.         -1.         -1.         -1.         -1.         -1.         -1.\n",
      "  -1.         -1.         -1.         -1.         -1.         -1.         -1.\n",
      "  -1.         -1.         -1.         -1.         -1.         -1.         -1.\n",
      "  -1.         -1.         -1.         -1.         -1.         -1.         -1.\n",
      "  -1.         -1.         -1.         -1.         -1.         -1.         -1.\n",
      "  -1.         -1.         -1.         -1.         -1.         -1.         -1.\n",
      "  -1.         -1.         -1.         -1.         -1.         -1.         -1.\n",
      "  -1.         -1.         -1.         -1.         -1.         -1.         -1.\n",
      "  -1.         -1.         -1.         -1.         -1.         -1.         -1.\n",
      "  -1.         -1.         -1.         -1.         -1.         -1.         -1.\n",
      "  -1.         -1.         -1.         -1.         -1.         -1.         -1.\n",
      "  -1.         -1.         -1.         -1.         -1.         -1.         -1.\n",
      "  -1.         -1.         -1.         -1.         -1.         -1.         -1.\n",
      "  -1.         -1.         -1.         -1.         -1.         -1.         -1.\n",
      "  -1.         -1.         -1.         -1.         -1.         -1.         -1.\n",
      "  -1.         -1.         -1.         -1.         -1.         -1.         -1.\n",
      "  -1.         -1.         -1.         -1.         -1.         -1.         -1.\n",
      "  -1.         -1.         -1.         -1.         -1.         -1.         -1.\n",
      "  -1.         -1.         -1.         -1.         -1.         -1.         -1.\n",
      "  -1.         -1.         -1.         -1.         -1.         -1.         -1.\n",
      "  -1.         -1.         -1.         -1.         -1.         -1.         -1.\n",
      "  -1.         -1.         -1.         -1.         -1.         -1.         -1.\n",
      "  -1.         -1.         -1.         -1.         -1.         -1.         -1.\n",
      "  -1.         -1.         -1.         -1.         -1.         -1.         -1.\n",
      "  -1.         -1.         -1.         -1.         -1.         -1.         -1.\n",
      "  -1.         -1.         -1.         -1.         -1.         -1.         -1.\n",
      "  -1.         -1.         -1.         -1.         -1.         -1.         -1.\n",
      "  -1.         -1.         -1.         -1.         -1.         -1.         -1.\n",
      "  -1.         -1.         -1.         -1.         -1.         -1.         -1.\n",
      "  -1.         -1.         -1.         -1.         -1.         -1.         -1.\n",
      "  -1.         -1.         -1.         -1.         -1.         -1.         -1.\n",
      "  -1.         -1.         -1.         -1.         -1.         -1.         -1.\n",
      "  -1.         -1.         -1.         -1.         -1.         -1.         -1.\n",
      "  -1.         -1.         -1.         -1.         -1.         -1.         -1.\n",
      "  -1.         -1.         -1.         -1.         -1.         -1.         -1.\n",
      "  -1.         -1.         -1.         -1.         -1.         -1.         -1.\n",
      "  -1.         -1.         -1.         -1.         -1.         -1.         -1.\n",
      "  -1.         -1.         -1.         -1.         -1.         -1.         -1.\n",
      "  -1.         -1.         -1.         -1.         -1.         -1.         -1.\n",
      "  -1.         -1.         -1.         -1.         -1.         -1.         -1.\n",
      "  -1.         -1.         -1.         -1.         -1.         -1.         -1.\n",
      "  -1.         -1.         -1.         -1.         -1.         -1.         -1.\n",
      "  -1.         -1.         -1.         -1.         -1.         -1.         -1.\n",
      "  -1.         -1.         -1.         -1.         -1.         -1.         -1.\n",
      "  -1.         -1.         -1.         -1.         -1.         -1.         -1.\n",
      "  -1.         -1.         -1.         -1.         -1.         -1.         -1.\n",
      "  -1.         -1.         -1.         -1.         -1.         -1.         -1.\n",
      "   0.33237332  0.33237332  0.33237332  0.33237332  0.33237332  0.33237332\n",
      "   0.33237332  0.33237332  0.33237332  0.33237332  0.33237332  0.33237332\n",
      "   0.45773235  0.45773235  0.45773235  0.45773235 -1.         -1.         -1.\n",
      "  -1.         -1.         -1.         -1.         -1.         -1.         -1.\n",
      "  -1.         -1.         -1.         -1.         -1.         -1.         -1.\n",
      "  -1.         -1.         -1.         -1.         -1.         -1.         -1.\n",
      "  -1.         -1.         -1.         -1.         -1.         -1.         -1.\n",
      "  -1.         -1.          0.        ]]\n",
      "check min: -1.0\n",
      "check max: 1.15852403641\n"
     ]
    },
    {
     "data": {
      "image/png": "[encoded data removed]",
      "text/plain": [
       "<matplotlib.figure.Figure at 0xf0d20a62e8>"
      ]
     },
     "metadata": {},
     "output_type": "display_data"
    },
    {
     "name": "stdout",
     "output_type": "stream",
     "text": [
      "0.139721\n",
      "Dictionary of village to nightlights per unit area {'Bihar(vil)-Hill Block-243488.tif': 0.13972057, 'Bihar(vil)-Dewriya-216061.tif': 0.21830028, 'Bihar(vil)-Imli-238576.tif': 0.25743076, 'Bihar(vil)-Karar-241262.tif': 0.64146817, 'Bihar(vil)-Aadharpur-227831.tif': 0.28461993, 'Bihar(vil)-Kuran-250270.tif': 0.5031364, 'Bihar(vil)-Bakra-245125.tif': 2.3071074, 'Bihar(vil)-Badh Marauna-227021.tif': 1.3110029}\n",
      "Calculated number for Hill Block is the same for both methods...verified!\n"
     ]
    }
   ],
   "source": [
    "# lets now play around with iterating through multiple images, and copying result to the dataframe\n",
    "VIIRS_IMAGE_PATH = \"./imagery_res30_48bands/\"\n",
    "MASK_IMAGE_PATH = \"./masks_res30/\"\n",
    "dict = {}\n",
    "\n",
    "for file in os.listdir(MASK_IMAGE_PATH):\n",
    "    binaryData = plt.imread(MASK_IMAGE_PATH + file)\n",
    "    imgplot1 = plt.imshow(binaryData)\n",
    "    plt.show()\n",
    "    viirsGdal = gdal.Open(VIIRS_IMAGE_PATH + file)\n",
    "    band48 = viirsGdal.GetRasterBand(48)\n",
    "    viirsData = band48.ReadAsArray()\n",
    "    imgplot2 = plt.imshow(viirsData)\n",
    "    plt.show()\n",
    "    \n",
    "###can generate overlayed mask + viirs here (has errors right now! 10^307!)\n",
    "    new = np.empty([viirsData.shape[0],  viirsData.shape[1]])\n",
    "    for i in range(viirsData.shape[0]-1):\n",
    "        for j in range(viirsData.shape[1]-1):\n",
    "            if (binaryData[i][j][0] == 0):\n",
    "                new[i][j] = -1\n",
    "            else:\n",
    "                new[i][j] = viirsData[i][j]\n",
    "    print('check new first:', new[:2])\n",
    "    print('check min:', new.min())\n",
    "    print('check max:', new.max())\n",
    "    imgplot4 = plt.imshow(new)\n",
    "    plt.show()\n",
    "    \n",
    "    #but all we actually need is the math...\n",
    "    array = []\n",
    "    sum = 0\n",
    "    count = 0\n",
    "    new = np.empty([viirsData.shape[0],  viirsData.shape[1]])\n",
    "    for i in range(viirsData.shape[0]-1):\n",
    "        for j in range(viirsData.shape[1]-1):\n",
    "            if (binaryData[i][j][0] == 255):\n",
    "                array.append(viirsData[i][j])\n",
    "                sum += viirsData[i][j]\n",
    "                count += 1\n",
    "    print(np.mean(array))\n",
    "    dict[file] = np.mean(array)\n",
    "\n",
    "print(\"Dictionary of village to nightlights per unit area\", dict)\n",
    "print(\"Calculated number for Hill Block is the same for both methods...verified!\")"
   ]
  },
  {
   "cell_type": "code",
   "execution_count": 12,
   "metadata": {
    "scrolled": true
   },
   "outputs": [
    {
     "name": "stdout",
     "output_type": "stream",
     "text": [
      "id: 243488\n",
      "id: 216061\n",
      "id: 238576\n",
      "id: 241262\n",
      "id: 227831\n",
      "id: 250270\n",
      "id: 245125\n",
      "id: 227021\n"
     ]
    },
    {
     "data": {
      "text/html": [
       "<div>\n",
       "<style>\n",
       "    .dataframe thead tr:only-child th {\n",
       "        text-align: right;\n",
       "    }\n",
       "\n",
       "    .dataframe thead th {\n",
       "        text-align: left;\n",
       "    }\n",
       "\n",
       "    .dataframe tbody tr th {\n",
       "        vertical-align: top;\n",
       "    }\n",
       "</style>\n",
       "<table border=\"1\" class=\"dataframe\">\n",
       "  <thead>\n",
       "    <tr style=\"text-align: right;\">\n",
       "      <th></th>\n",
       "      <th>Census 2011 ID</th>\n",
       "      <th>Village Name</th>\n",
       "      <th>District Name</th>\n",
       "      <th>State Name</th>\n",
       "      <th>Number of Households</th>\n",
       "      <th>Number of Electrified Households</th>\n",
       "      <th>Percentage Electrified</th>\n",
       "      <th>Lights at Night</th>\n",
       "    </tr>\n",
       "  </thead>\n",
       "  <tbody>\n",
       "    <tr>\n",
       "      <th>0</th>\n",
       "      <td>227831</td>\n",
       "      <td>Aadharpur</td>\n",
       "      <td>Darbhanga</td>\n",
       "      <td>Bihar</td>\n",
       "      <td>889.0</td>\n",
       "      <td>203.0</td>\n",
       "      <td>22.834646</td>\n",
       "      <td>0.284620</td>\n",
       "    </tr>\n",
       "    <tr>\n",
       "      <th>1</th>\n",
       "      <td>227021</td>\n",
       "      <td>Badh Marauna</td>\n",
       "      <td>Darbhanga</td>\n",
       "      <td>Bihar</td>\n",
       "      <td>168.0</td>\n",
       "      <td>147.0</td>\n",
       "      <td>87.500000</td>\n",
       "      <td>1.311003</td>\n",
       "    </tr>\n",
       "    <tr>\n",
       "      <th>2</th>\n",
       "      <td>243488</td>\n",
       "      <td>Hill Block</td>\n",
       "      <td>Lakhisarai</td>\n",
       "      <td>Bihar</td>\n",
       "      <td>NaN</td>\n",
       "      <td>NaN</td>\n",
       "      <td>NaN</td>\n",
       "      <td>0.139721</td>\n",
       "    </tr>\n",
       "  </tbody>\n",
       "</table>\n",
       "</div>"
      ],
      "text/plain": [
       "  Census 2011 ID  Village Name District Name State Name  Number of Households  \\\n",
       "0         227831     Aadharpur     Darbhanga      Bihar                 889.0   \n",
       "1         227021  Badh Marauna     Darbhanga      Bihar                 168.0   \n",
       "2         243488    Hill Block    Lakhisarai      Bihar                   NaN   \n",
       "\n",
       "   Number of Electrified Households  Percentage Electrified  Lights at Night  \n",
       "0                             203.0               22.834646         0.284620  \n",
       "1                             147.0               87.500000         1.311003  \n",
       "2                               NaN                     NaN         0.139721  "
      ]
     },
     "execution_count": 12,
     "metadata": {},
     "output_type": "execute_result"
    }
   ],
   "source": [
    "# let's throw the data in the dataframe\n",
    "\n",
    "# replace -9 with NaN\n",
    "# calculate percent electrified\n",
    "# empty column for lights at night data\n",
    "df = pd.read_csv('garv_data_bihar-3.csv')\n",
    "df = df.replace(-9, np.nan) \n",
    "df['Census 2011 ID'] = df['Census 2011 ID'].astype(str)\n",
    "df['Percentage Electrified'] = (df['Number of Electrified Households']/df['Number of Households'])*100\n",
    "df['Lights at Night'] = np.nan\n",
    "df.head()\n",
    "\n",
    "# match dictionary key (ID) with census ID \n",
    "# add into dataframe\n",
    "for key in dict:\n",
    "    id = key.split('-')[2].split('.')[0]\n",
    "    print ('id:', id)\n",
    "    immed = (df['Census 2011 ID'].astype(str) == id)\n",
    "    df.loc[immed, 'Lights at Night'] = float(dict[key])\n",
    "# if df['Number of Electrified Households'].item != np.nan:\n",
    "#     df.loc[immed, 'Lights at Night'] = float(dict[key])\n",
    "# else:\n",
    "#     df.loc[immed, 'Lights at Night'] = np.nan    \n",
    "    \n",
    "#final dataframe\n",
    "df.head()"
   ]
  },
  {
   "cell_type": "code",
   "execution_count": null,
   "metadata": {
    "collapsed": true
   },
   "outputs": [],
   "source": []
  },
  {
   "cell_type": "code",
   "execution_count": null,
   "metadata": {
    "collapsed": true
   },
   "outputs": [],
   "source": []
  }
 ],
 "metadata": {
  "kernelspec": {
   "display_name": "Python 3",
   "language": "python",
   "name": "python3"
  },
  "language_info": {
   "codemirror_mode": {
    "name": "ipython",
    "version": 3
   },
   "file_extension": ".py",
   "mimetype": "text/x-python",
   "name": "python",
   "nbconvert_exporter": "python",
   "pygments_lexer": "ipython3",
   "version": "3.5.2"
  }
 },
 "nbformat": 4,
 "nbformat_minor": 2
}
